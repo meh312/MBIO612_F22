{
 "cells": [
  {
   "cell_type": "markdown",
   "id": "e1ef8982",
   "metadata": {
    "pycharm": {
     "name": "#%% md\n"
    }
   },
   "source": [
    "### Question 0\n",
    "\n",
    "*  Draw a concepts diagram that uses all the following Github terminology \n",
    "   * Include any missing keywords that will simplify the concepts diagrams \n",
    "\n",
    "\n",
    "`Push`, `Repository`, `Clone`, `Pull`, `Pull Request`, `Branch`, `Merging`, `Github Client`, `README file`, `Private or Public`\n"
   ]
  },
  {
   "cell_type": "markdown",
   "id": "9e43380e",
   "metadata": {
    "pycharm": {
     "name": "#%%\n"
    }
   },
   "source": [
    "#Image\n",
    "![\"MBIO612CD2\"](IMG_8181.HEIC)"
   ]
  },
  {
   "cell_type": "markdown",
   "id": "d82929c0",
   "metadata": {
    "pycharm": {
     "name": "#%% md\n"
    }
   },
   "source": [
    "#### Question 1\n",
    "\n",
    "`matrix(c(1,2,3,4,5,6) , nrow = 3)`\n",
    "\n",
    "* Running the expression produces the following matrix\n",
    "\n",
    "|  |  |\n",
    "|---|---|\n",
    "| 1 | 4 |\n",
    "| 2 | 5 |\n",
    "| 3 | 6 |\n",
    "\n",
    "* How can you modify the call to `matrix()` to produce the following matrix instead?\n",
    "\n",
    "|   | col_1 |  col_2 |\n",
    "| --- |---|---|\n",
    "| row_1 | 1 | 2 |\n",
    "| row_2 | 3 | 4 |\n",
    "| row_3 | 5 | 6 |\n",
    "\n",
    "* Note that you need to name the columns (col_1 and col_2) and name the rows (row_1, row_2, row_3)\n",
    "\n",
    "Hint: Use the `?` symbol to invoke the matrix documentation"
   ]
  },
  {
   "cell_type": "code",
   "execution_count": 13,
   "id": "fbbfafdc",
   "metadata": {},
   "outputs": [
    {
     "data": {
      "text/html": [
       "<table class=\"dataframe\">\n",
       "<caption>A matrix: 3 × 2 of type dbl</caption>\n",
       "<thead>\n",
       "\t<tr><th></th><th scope=col>col_1</th><th scope=col>col_2</th></tr>\n",
       "</thead>\n",
       "<tbody>\n",
       "\t<tr><th scope=row>row_1</th><td>1</td><td>4</td></tr>\n",
       "\t<tr><th scope=row>row_2</th><td>2</td><td>5</td></tr>\n",
       "\t<tr><th scope=row>row_3</th><td>3</td><td>6</td></tr>\n",
       "</tbody>\n",
       "</table>\n"
      ],
      "text/latex": [
       "A matrix: 3 × 2 of type dbl\n",
       "\\begin{tabular}{r|ll}\n",
       "  & col\\_1 & col\\_2\\\\\n",
       "\\hline\n",
       "\trow\\_1 & 1 & 4\\\\\n",
       "\trow\\_2 & 2 & 5\\\\\n",
       "\trow\\_3 & 3 & 6\\\\\n",
       "\\end{tabular}\n"
      ],
      "text/markdown": [
       "\n",
       "A matrix: 3 × 2 of type dbl\n",
       "\n",
       "| <!--/--> | col_1 | col_2 |\n",
       "|---|---|---|\n",
       "| row_1 | 1 | 4 |\n",
       "| row_2 | 2 | 5 |\n",
       "| row_3 | 3 | 6 |\n",
       "\n"
      ],
      "text/plain": [
       "      col_1 col_2\n",
       "row_1 1     4    \n",
       "row_2 2     5    \n",
       "row_3 3     6    "
      ]
     },
     "metadata": {},
     "output_type": "display_data"
    }
   ],
   "source": [
    "m<-matrix(c(1,2,3,4,5,6) , nrow = 3)\n",
    "rownames(m)=c(\"row_1\",\"row_2\", \"row_3\")\n",
    "colnames(m)=c(\"col_1\",\"col_2\")\n",
    "m\n"
   ]
  },
  {
   "cell_type": "markdown",
   "id": "ba4962d3",
   "metadata": {
    "pycharm": {
     "name": "#%% md\n"
    }
   },
   "source": [
    "#### Question 2\n",
    "\n",
    "* Load then sort the airquality data frame on its `Temp` and `Solar.R` columns in reverse order (largest to smallest values)\n",
    "  * The function to sort a data frame is called order\n",
    "* Display only the first 15 lines of your table"
   ]
  },
  {
   "cell_type": "code",
   "execution_count": 67,
   "id": "55d4ecc2",
   "metadata": {
    "pycharm": {
     "name": "#%%\n"
    }
   },
   "outputs": [
    {
     "data": {
      "text/html": [
       "<table class=\"dataframe\">\n",
       "<caption>A data.frame: 15 × 6</caption>\n",
       "<thead>\n",
       "\t<tr><th></th><th scope=col>Ozone</th><th scope=col>Solar.R</th><th scope=col>Wind</th><th scope=col>Temp</th><th scope=col>Month</th><th scope=col>Day</th></tr>\n",
       "\t<tr><th></th><th scope=col>&lt;int&gt;</th><th scope=col>&lt;int&gt;</th><th scope=col>&lt;dbl&gt;</th><th scope=col>&lt;int&gt;</th><th scope=col>&lt;int&gt;</th><th scope=col>&lt;int&gt;</th></tr>\n",
       "</thead>\n",
       "<tbody>\n",
       "\t<tr><th scope=row>120</th><td> 76</td><td>203</td><td> 9.7</td><td>97</td><td>8</td><td>28</td></tr>\n",
       "\t<tr><th scope=row>122</th><td> 84</td><td>237</td><td> 6.3</td><td>96</td><td>8</td><td>30</td></tr>\n",
       "\t<tr><th scope=row>121</th><td>118</td><td>225</td><td> 2.3</td><td>94</td><td>8</td><td>29</td></tr>\n",
       "\t<tr><th scope=row>123</th><td> 85</td><td>188</td><td> 6.3</td><td>94</td><td>8</td><td>31</td></tr>\n",
       "\t<tr><th scope=row>42</th><td> NA</td><td>259</td><td>10.9</td><td>93</td><td>6</td><td>11</td></tr>\n",
       "\t<tr><th scope=row>127</th><td> 91</td><td>189</td><td> 4.6</td><td>93</td><td>9</td><td> 4</td></tr>\n",
       "\t<tr><th scope=row>126</th><td> 73</td><td>183</td><td> 2.8</td><td>93</td><td>9</td><td> 3</td></tr>\n",
       "\t<tr><th scope=row>70</th><td> 97</td><td>272</td><td> 5.7</td><td>92</td><td>7</td><td> 9</td></tr>\n",
       "\t<tr><th scope=row>69</th><td> 97</td><td>267</td><td> 6.3</td><td>92</td><td>7</td><td> 8</td></tr>\n",
       "\t<tr><th scope=row>43</th><td> NA</td><td>250</td><td> 9.2</td><td>92</td><td>6</td><td>12</td></tr>\n",
       "\t<tr><th scope=row>102</th><td> NA</td><td>222</td><td> 8.6</td><td>92</td><td>8</td><td>10</td></tr>\n",
       "\t<tr><th scope=row>125</th><td> 78</td><td>197</td><td> 5.1</td><td>92</td><td>9</td><td> 2</td></tr>\n",
       "\t<tr><th scope=row>75</th><td> NA</td><td>291</td><td>14.9</td><td>91</td><td>7</td><td>14</td></tr>\n",
       "\t<tr><th scope=row>124</th><td> 96</td><td>167</td><td> 6.9</td><td>91</td><td>9</td><td> 1</td></tr>\n",
       "\t<tr><th scope=row>40</th><td> 71</td><td>291</td><td>13.8</td><td>90</td><td>6</td><td> 9</td></tr>\n",
       "</tbody>\n",
       "</table>\n"
      ],
      "text/latex": [
       "A data.frame: 15 × 6\n",
       "\\begin{tabular}{r|llllll}\n",
       "  & Ozone & Solar.R & Wind & Temp & Month & Day\\\\\n",
       "  & <int> & <int> & <dbl> & <int> & <int> & <int>\\\\\n",
       "\\hline\n",
       "\t120 &  76 & 203 &  9.7 & 97 & 8 & 28\\\\\n",
       "\t122 &  84 & 237 &  6.3 & 96 & 8 & 30\\\\\n",
       "\t121 & 118 & 225 &  2.3 & 94 & 8 & 29\\\\\n",
       "\t123 &  85 & 188 &  6.3 & 94 & 8 & 31\\\\\n",
       "\t42 &  NA & 259 & 10.9 & 93 & 6 & 11\\\\\n",
       "\t127 &  91 & 189 &  4.6 & 93 & 9 &  4\\\\\n",
       "\t126 &  73 & 183 &  2.8 & 93 & 9 &  3\\\\\n",
       "\t70 &  97 & 272 &  5.7 & 92 & 7 &  9\\\\\n",
       "\t69 &  97 & 267 &  6.3 & 92 & 7 &  8\\\\\n",
       "\t43 &  NA & 250 &  9.2 & 92 & 6 & 12\\\\\n",
       "\t102 &  NA & 222 &  8.6 & 92 & 8 & 10\\\\\n",
       "\t125 &  78 & 197 &  5.1 & 92 & 9 &  2\\\\\n",
       "\t75 &  NA & 291 & 14.9 & 91 & 7 & 14\\\\\n",
       "\t124 &  96 & 167 &  6.9 & 91 & 9 &  1\\\\\n",
       "\t40 &  71 & 291 & 13.8 & 90 & 6 &  9\\\\\n",
       "\\end{tabular}\n"
      ],
      "text/markdown": [
       "\n",
       "A data.frame: 15 × 6\n",
       "\n",
       "| <!--/--> | Ozone &lt;int&gt; | Solar.R &lt;int&gt; | Wind &lt;dbl&gt; | Temp &lt;int&gt; | Month &lt;int&gt; | Day &lt;int&gt; |\n",
       "|---|---|---|---|---|---|---|\n",
       "| 120 |  76 | 203 |  9.7 | 97 | 8 | 28 |\n",
       "| 122 |  84 | 237 |  6.3 | 96 | 8 | 30 |\n",
       "| 121 | 118 | 225 |  2.3 | 94 | 8 | 29 |\n",
       "| 123 |  85 | 188 |  6.3 | 94 | 8 | 31 |\n",
       "| 42 |  NA | 259 | 10.9 | 93 | 6 | 11 |\n",
       "| 127 |  91 | 189 |  4.6 | 93 | 9 |  4 |\n",
       "| 126 |  73 | 183 |  2.8 | 93 | 9 |  3 |\n",
       "| 70 |  97 | 272 |  5.7 | 92 | 7 |  9 |\n",
       "| 69 |  97 | 267 |  6.3 | 92 | 7 |  8 |\n",
       "| 43 |  NA | 250 |  9.2 | 92 | 6 | 12 |\n",
       "| 102 |  NA | 222 |  8.6 | 92 | 8 | 10 |\n",
       "| 125 |  78 | 197 |  5.1 | 92 | 9 |  2 |\n",
       "| 75 |  NA | 291 | 14.9 | 91 | 7 | 14 |\n",
       "| 124 |  96 | 167 |  6.9 | 91 | 9 |  1 |\n",
       "| 40 |  71 | 291 | 13.8 | 90 | 6 |  9 |\n",
       "\n"
      ],
      "text/plain": [
       "    Ozone Solar.R Wind Temp Month Day\n",
       "120  76   203      9.7 97   8     28 \n",
       "122  84   237      6.3 96   8     30 \n",
       "121 118   225      2.3 94   8     29 \n",
       "123  85   188      6.3 94   8     31 \n",
       "42   NA   259     10.9 93   6     11 \n",
       "127  91   189      4.6 93   9      4 \n",
       "126  73   183      2.8 93   9      3 \n",
       "70   97   272      5.7 92   7      9 \n",
       "69   97   267      6.3 92   7      8 \n",
       "43   NA   250      9.2 92   6     12 \n",
       "102  NA   222      8.6 92   8     10 \n",
       "125  78   197      5.1 92   9      2 \n",
       "75   NA   291     14.9 91   7     14 \n",
       "124  96   167      6.9 91   9      1 \n",
       "40   71   291     13.8 90   6      9 "
      ]
     },
     "metadata": {},
     "output_type": "display_data"
    }
   ],
   "source": [
    "# Write your answer here\n",
    "data(\"airquality\")\n",
    "air<-airquality[order(-airquality$Temp, -airquality$Solar.R),]\n",
    "head(air,n=15)"
   ]
  },
  {
   "cell_type": "markdown",
   "id": "b377d82a",
   "metadata": {
    "pycharm": {
     "name": "#%% md\n"
    }
   },
   "source": [
    "#### Question 3\n",
    "\n",
    "* Sort the airquality data frame on its `Temp` in decreasing order and `Solar.R` in increasing order\n",
    "* Display only the first 15 lines of your table"
   ]
  },
  {
   "cell_type": "code",
   "execution_count": 68,
   "id": "34a70e10",
   "metadata": {
    "pycharm": {
     "name": "#%%\n"
    }
   },
   "outputs": [
    {
     "data": {
      "text/html": [
       "<table class=\"dataframe\">\n",
       "<caption>A data.frame: 15 × 6</caption>\n",
       "<thead>\n",
       "\t<tr><th></th><th scope=col>Ozone</th><th scope=col>Solar.R</th><th scope=col>Wind</th><th scope=col>Temp</th><th scope=col>Month</th><th scope=col>Day</th></tr>\n",
       "\t<tr><th></th><th scope=col>&lt;int&gt;</th><th scope=col>&lt;int&gt;</th><th scope=col>&lt;dbl&gt;</th><th scope=col>&lt;int&gt;</th><th scope=col>&lt;int&gt;</th><th scope=col>&lt;int&gt;</th></tr>\n",
       "</thead>\n",
       "<tbody>\n",
       "\t<tr><th scope=row>120</th><td> 76</td><td>203</td><td> 9.7</td><td>97</td><td>8</td><td>28</td></tr>\n",
       "\t<tr><th scope=row>122</th><td> 84</td><td>237</td><td> 6.3</td><td>96</td><td>8</td><td>30</td></tr>\n",
       "\t<tr><th scope=row>123</th><td> 85</td><td>188</td><td> 6.3</td><td>94</td><td>8</td><td>31</td></tr>\n",
       "\t<tr><th scope=row>121</th><td>118</td><td>225</td><td> 2.3</td><td>94</td><td>8</td><td>29</td></tr>\n",
       "\t<tr><th scope=row>126</th><td> 73</td><td>183</td><td> 2.8</td><td>93</td><td>9</td><td> 3</td></tr>\n",
       "\t<tr><th scope=row>127</th><td> 91</td><td>189</td><td> 4.6</td><td>93</td><td>9</td><td> 4</td></tr>\n",
       "\t<tr><th scope=row>42</th><td> NA</td><td>259</td><td>10.9</td><td>93</td><td>6</td><td>11</td></tr>\n",
       "\t<tr><th scope=row>125</th><td> 78</td><td>197</td><td> 5.1</td><td>92</td><td>9</td><td> 2</td></tr>\n",
       "\t<tr><th scope=row>102</th><td> NA</td><td>222</td><td> 8.6</td><td>92</td><td>8</td><td>10</td></tr>\n",
       "\t<tr><th scope=row>43</th><td> NA</td><td>250</td><td> 9.2</td><td>92</td><td>6</td><td>12</td></tr>\n",
       "\t<tr><th scope=row>69</th><td> 97</td><td>267</td><td> 6.3</td><td>92</td><td>7</td><td> 8</td></tr>\n",
       "\t<tr><th scope=row>70</th><td> 97</td><td>272</td><td> 5.7</td><td>92</td><td>7</td><td> 9</td></tr>\n",
       "\t<tr><th scope=row>124</th><td> 96</td><td>167</td><td> 6.9</td><td>91</td><td>9</td><td> 1</td></tr>\n",
       "\t<tr><th scope=row>75</th><td> NA</td><td>291</td><td>14.9</td><td>91</td><td>7</td><td>14</td></tr>\n",
       "\t<tr><th scope=row>101</th><td>110</td><td>207</td><td> 8.0</td><td>90</td><td>8</td><td> 9</td></tr>\n",
       "</tbody>\n",
       "</table>\n"
      ],
      "text/latex": [
       "A data.frame: 15 × 6\n",
       "\\begin{tabular}{r|llllll}\n",
       "  & Ozone & Solar.R & Wind & Temp & Month & Day\\\\\n",
       "  & <int> & <int> & <dbl> & <int> & <int> & <int>\\\\\n",
       "\\hline\n",
       "\t120 &  76 & 203 &  9.7 & 97 & 8 & 28\\\\\n",
       "\t122 &  84 & 237 &  6.3 & 96 & 8 & 30\\\\\n",
       "\t123 &  85 & 188 &  6.3 & 94 & 8 & 31\\\\\n",
       "\t121 & 118 & 225 &  2.3 & 94 & 8 & 29\\\\\n",
       "\t126 &  73 & 183 &  2.8 & 93 & 9 &  3\\\\\n",
       "\t127 &  91 & 189 &  4.6 & 93 & 9 &  4\\\\\n",
       "\t42 &  NA & 259 & 10.9 & 93 & 6 & 11\\\\\n",
       "\t125 &  78 & 197 &  5.1 & 92 & 9 &  2\\\\\n",
       "\t102 &  NA & 222 &  8.6 & 92 & 8 & 10\\\\\n",
       "\t43 &  NA & 250 &  9.2 & 92 & 6 & 12\\\\\n",
       "\t69 &  97 & 267 &  6.3 & 92 & 7 &  8\\\\\n",
       "\t70 &  97 & 272 &  5.7 & 92 & 7 &  9\\\\\n",
       "\t124 &  96 & 167 &  6.9 & 91 & 9 &  1\\\\\n",
       "\t75 &  NA & 291 & 14.9 & 91 & 7 & 14\\\\\n",
       "\t101 & 110 & 207 &  8.0 & 90 & 8 &  9\\\\\n",
       "\\end{tabular}\n"
      ],
      "text/markdown": [
       "\n",
       "A data.frame: 15 × 6\n",
       "\n",
       "| <!--/--> | Ozone &lt;int&gt; | Solar.R &lt;int&gt; | Wind &lt;dbl&gt; | Temp &lt;int&gt; | Month &lt;int&gt; | Day &lt;int&gt; |\n",
       "|---|---|---|---|---|---|---|\n",
       "| 120 |  76 | 203 |  9.7 | 97 | 8 | 28 |\n",
       "| 122 |  84 | 237 |  6.3 | 96 | 8 | 30 |\n",
       "| 123 |  85 | 188 |  6.3 | 94 | 8 | 31 |\n",
       "| 121 | 118 | 225 |  2.3 | 94 | 8 | 29 |\n",
       "| 126 |  73 | 183 |  2.8 | 93 | 9 |  3 |\n",
       "| 127 |  91 | 189 |  4.6 | 93 | 9 |  4 |\n",
       "| 42 |  NA | 259 | 10.9 | 93 | 6 | 11 |\n",
       "| 125 |  78 | 197 |  5.1 | 92 | 9 |  2 |\n",
       "| 102 |  NA | 222 |  8.6 | 92 | 8 | 10 |\n",
       "| 43 |  NA | 250 |  9.2 | 92 | 6 | 12 |\n",
       "| 69 |  97 | 267 |  6.3 | 92 | 7 |  8 |\n",
       "| 70 |  97 | 272 |  5.7 | 92 | 7 |  9 |\n",
       "| 124 |  96 | 167 |  6.9 | 91 | 9 |  1 |\n",
       "| 75 |  NA | 291 | 14.9 | 91 | 7 | 14 |\n",
       "| 101 | 110 | 207 |  8.0 | 90 | 8 |  9 |\n",
       "\n"
      ],
      "text/plain": [
       "    Ozone Solar.R Wind Temp Month Day\n",
       "120  76   203      9.7 97   8     28 \n",
       "122  84   237      6.3 96   8     30 \n",
       "123  85   188      6.3 94   8     31 \n",
       "121 118   225      2.3 94   8     29 \n",
       "126  73   183      2.8 93   9      3 \n",
       "127  91   189      4.6 93   9      4 \n",
       "42   NA   259     10.9 93   6     11 \n",
       "125  78   197      5.1 92   9      2 \n",
       "102  NA   222      8.6 92   8     10 \n",
       "43   NA   250      9.2 92   6     12 \n",
       "69   97   267      6.3 92   7      8 \n",
       "70   97   272      5.7 92   7      9 \n",
       "124  96   167      6.9 91   9      1 \n",
       "75   NA   291     14.9 91   7     14 \n",
       "101 110   207      8.0 90   8      9 "
      ]
     },
     "metadata": {},
     "output_type": "display_data"
    }
   ],
   "source": [
    "# Write your answer here\n",
    "data(\"airquality\")\n",
    "air2<-airquality[order(-airquality$Temp, airquality$Solar.R),]\n",
    "head(air2,n=15)"
   ]
  },
  {
   "cell_type": "markdown",
   "id": "25e9a77e",
   "metadata": {
    "pycharm": {
     "name": "#%% md\n"
    }
   },
   "source": [
    "#### Question 4\n",
    "\n",
    "* There are various ways to select a subset of observations from a data frame.\n",
    "\n",
    "* Consult your [R Reference Card](https://cran.r-project.org/doc/contrib/Baggott-refcard-v2.pdf), see `Data Selection and Manipulation` section.\n",
    "  * What operations can you use to select all observations where the temperature is 72. Give at least two different answers to this question\n",
    "\n"
   ]
  },
  {
   "cell_type": "code",
   "execution_count": 75,
   "id": "5f6a8531",
   "metadata": {
    "pycharm": {
     "name": "#%%\n"
    }
   },
   "outputs": [
    {
     "data": {
      "text/html": [
       "<table class=\"dataframe\">\n",
       "<caption>A data.frame: 3 × 6</caption>\n",
       "<thead>\n",
       "\t<tr><th></th><th scope=col>Ozone</th><th scope=col>Solar.R</th><th scope=col>Wind</th><th scope=col>Temp</th><th scope=col>Month</th><th scope=col>Day</th></tr>\n",
       "\t<tr><th></th><th scope=col>&lt;int&gt;</th><th scope=col>&lt;int&gt;</th><th scope=col>&lt;dbl&gt;</th><th scope=col>&lt;int&gt;</th><th scope=col>&lt;int&gt;</th><th scope=col>&lt;int&gt;</th></tr>\n",
       "</thead>\n",
       "<tbody>\n",
       "\t<tr><th scope=row>2</th><td>36</td><td>118</td><td> 8.0</td><td>72</td><td>5</td><td> 2</td></tr>\n",
       "\t<tr><th scope=row>48</th><td>37</td><td>284</td><td>20.7</td><td>72</td><td>6</td><td>17</td></tr>\n",
       "\t<tr><th scope=row>114</th><td> 9</td><td> 36</td><td>14.3</td><td>72</td><td>8</td><td>22</td></tr>\n",
       "</tbody>\n",
       "</table>\n"
      ],
      "text/latex": [
       "A data.frame: 3 × 6\n",
       "\\begin{tabular}{r|llllll}\n",
       "  & Ozone & Solar.R & Wind & Temp & Month & Day\\\\\n",
       "  & <int> & <int> & <dbl> & <int> & <int> & <int>\\\\\n",
       "\\hline\n",
       "\t2 & 36 & 118 &  8.0 & 72 & 5 &  2\\\\\n",
       "\t48 & 37 & 284 & 20.7 & 72 & 6 & 17\\\\\n",
       "\t114 &  9 &  36 & 14.3 & 72 & 8 & 22\\\\\n",
       "\\end{tabular}\n"
      ],
      "text/markdown": [
       "\n",
       "A data.frame: 3 × 6\n",
       "\n",
       "| <!--/--> | Ozone &lt;int&gt; | Solar.R &lt;int&gt; | Wind &lt;dbl&gt; | Temp &lt;int&gt; | Month &lt;int&gt; | Day &lt;int&gt; |\n",
       "|---|---|---|---|---|---|---|\n",
       "| 2 | 36 | 118 |  8.0 | 72 | 5 |  2 |\n",
       "| 48 | 37 | 284 | 20.7 | 72 | 6 | 17 |\n",
       "| 114 |  9 |  36 | 14.3 | 72 | 8 | 22 |\n",
       "\n"
      ],
      "text/plain": [
       "    Ozone Solar.R Wind Temp Month Day\n",
       "2   36    118      8.0 72   5      2 \n",
       "48  37    284     20.7 72   6     17 \n",
       "114  9     36     14.3 72   8     22 "
      ]
     },
     "metadata": {},
     "output_type": "display_data"
    },
    {
     "data": {
      "text/html": [
       "<table class=\"dataframe\">\n",
       "<caption>A data.frame: 3 × 6</caption>\n",
       "<thead>\n",
       "\t<tr><th></th><th scope=col>Ozone</th><th scope=col>Solar.R</th><th scope=col>Wind</th><th scope=col>Temp</th><th scope=col>Month</th><th scope=col>Day</th></tr>\n",
       "\t<tr><th></th><th scope=col>&lt;int&gt;</th><th scope=col>&lt;int&gt;</th><th scope=col>&lt;dbl&gt;</th><th scope=col>&lt;int&gt;</th><th scope=col>&lt;int&gt;</th><th scope=col>&lt;int&gt;</th></tr>\n",
       "</thead>\n",
       "<tbody>\n",
       "\t<tr><th scope=row>2</th><td>36</td><td>118</td><td> 8.0</td><td>72</td><td>5</td><td> 2</td></tr>\n",
       "\t<tr><th scope=row>48</th><td>37</td><td>284</td><td>20.7</td><td>72</td><td>6</td><td>17</td></tr>\n",
       "\t<tr><th scope=row>114</th><td> 9</td><td> 36</td><td>14.3</td><td>72</td><td>8</td><td>22</td></tr>\n",
       "</tbody>\n",
       "</table>\n"
      ],
      "text/latex": [
       "A data.frame: 3 × 6\n",
       "\\begin{tabular}{r|llllll}\n",
       "  & Ozone & Solar.R & Wind & Temp & Month & Day\\\\\n",
       "  & <int> & <int> & <dbl> & <int> & <int> & <int>\\\\\n",
       "\\hline\n",
       "\t2 & 36 & 118 &  8.0 & 72 & 5 &  2\\\\\n",
       "\t48 & 37 & 284 & 20.7 & 72 & 6 & 17\\\\\n",
       "\t114 &  9 &  36 & 14.3 & 72 & 8 & 22\\\\\n",
       "\\end{tabular}\n"
      ],
      "text/markdown": [
       "\n",
       "A data.frame: 3 × 6\n",
       "\n",
       "| <!--/--> | Ozone &lt;int&gt; | Solar.R &lt;int&gt; | Wind &lt;dbl&gt; | Temp &lt;int&gt; | Month &lt;int&gt; | Day &lt;int&gt; |\n",
       "|---|---|---|---|---|---|---|\n",
       "| 2 | 36 | 118 |  8.0 | 72 | 5 |  2 |\n",
       "| 48 | 37 | 284 | 20.7 | 72 | 6 | 17 |\n",
       "| 114 |  9 |  36 | 14.3 | 72 | 8 | 22 |\n",
       "\n"
      ],
      "text/plain": [
       "    Ozone Solar.R Wind Temp Month Day\n",
       "2   36    118      8.0 72   5      2 \n",
       "48  37    284     20.7 72   6     17 \n",
       "114  9     36     14.3 72   8     22 "
      ]
     },
     "metadata": {},
     "output_type": "display_data"
    }
   ],
   "source": [
    "# option 1\n",
    "temp_72<-airquality$Temp==72\n",
    "airquality[temp_72,]\n",
    "#option 2\n",
    "subset(airquality,  Temp==72)"
   ]
  },
  {
   "cell_type": "markdown",
   "id": "f794ee74",
   "metadata": {
    "pycharm": {
     "name": "#%% md\n"
    }
   },
   "source": [
    "#### Question 6\n",
    "\n",
    "* You may have noticed when working with the `airqulity` data that some values show as `NA`\n",
    " * `NA` stands for not available, or missing values.\n",
    "* A major part of data wrangling consists of cleaning missing values by either:\n",
    "  * Dropping the lines that have missing values\n",
    "   * Sometimes we can drop the column with missing values if the column is made of predominantly missing values\n",
    "  * Imputing the missing values, which uses educated guesses (or more complex algorithms) to fill the missing values\n",
    "  \n",
    "* Find and remove all rows that are missing values for the `Solar.R` or `Ozone` variables\n",
    "* Save the cleaned data to a new data frame called airquality_no_na\n",
    "  * How many lines have been removed?\n"
   ]
  },
  {
   "cell_type": "code",
   "execution_count": 88,
   "id": "4b5ade16",
   "metadata": {
    "pycharm": {
     "name": "#%%\n"
    }
   },
   "outputs": [
    {
     "data": {
      "text/html": [
       "<table class=\"dataframe\">\n",
       "<caption>A data.frame: 116 × 6</caption>\n",
       "<thead>\n",
       "\t<tr><th></th><th scope=col>Ozone</th><th scope=col>Solar.R</th><th scope=col>Wind</th><th scope=col>Temp</th><th scope=col>Month</th><th scope=col>Day</th></tr>\n",
       "\t<tr><th></th><th scope=col>&lt;int&gt;</th><th scope=col>&lt;int&gt;</th><th scope=col>&lt;dbl&gt;</th><th scope=col>&lt;int&gt;</th><th scope=col>&lt;int&gt;</th><th scope=col>&lt;int&gt;</th></tr>\n",
       "</thead>\n",
       "<tbody>\n",
       "\t<tr><th scope=row>1</th><td> 41</td><td>190</td><td> 7.4</td><td>67</td><td>5</td><td> 1</td></tr>\n",
       "\t<tr><th scope=row>2</th><td> 36</td><td>118</td><td> 8.0</td><td>72</td><td>5</td><td> 2</td></tr>\n",
       "\t<tr><th scope=row>3</th><td> 12</td><td>149</td><td>12.6</td><td>74</td><td>5</td><td> 3</td></tr>\n",
       "\t<tr><th scope=row>4</th><td> 18</td><td>313</td><td>11.5</td><td>62</td><td>5</td><td> 4</td></tr>\n",
       "\t<tr><th scope=row>6</th><td> 28</td><td> NA</td><td>14.9</td><td>66</td><td>5</td><td> 6</td></tr>\n",
       "\t<tr><th scope=row>7</th><td> 23</td><td>299</td><td> 8.6</td><td>65</td><td>5</td><td> 7</td></tr>\n",
       "\t<tr><th scope=row>8</th><td> 19</td><td> 99</td><td>13.8</td><td>59</td><td>5</td><td> 8</td></tr>\n",
       "\t<tr><th scope=row>9</th><td>  8</td><td> 19</td><td>20.1</td><td>61</td><td>5</td><td> 9</td></tr>\n",
       "\t<tr><th scope=row>11</th><td>  7</td><td> NA</td><td> 6.9</td><td>74</td><td>5</td><td>11</td></tr>\n",
       "\t<tr><th scope=row>12</th><td> 16</td><td>256</td><td> 9.7</td><td>69</td><td>5</td><td>12</td></tr>\n",
       "\t<tr><th scope=row>13</th><td> 11</td><td>290</td><td> 9.2</td><td>66</td><td>5</td><td>13</td></tr>\n",
       "\t<tr><th scope=row>14</th><td> 14</td><td>274</td><td>10.9</td><td>68</td><td>5</td><td>14</td></tr>\n",
       "\t<tr><th scope=row>15</th><td> 18</td><td> 65</td><td>13.2</td><td>58</td><td>5</td><td>15</td></tr>\n",
       "\t<tr><th scope=row>16</th><td> 14</td><td>334</td><td>11.5</td><td>64</td><td>5</td><td>16</td></tr>\n",
       "\t<tr><th scope=row>17</th><td> 34</td><td>307</td><td>12.0</td><td>66</td><td>5</td><td>17</td></tr>\n",
       "\t<tr><th scope=row>18</th><td>  6</td><td> 78</td><td>18.4</td><td>57</td><td>5</td><td>18</td></tr>\n",
       "\t<tr><th scope=row>19</th><td> 30</td><td>322</td><td>11.5</td><td>68</td><td>5</td><td>19</td></tr>\n",
       "\t<tr><th scope=row>20</th><td> 11</td><td> 44</td><td> 9.7</td><td>62</td><td>5</td><td>20</td></tr>\n",
       "\t<tr><th scope=row>21</th><td>  1</td><td>  8</td><td> 9.7</td><td>59</td><td>5</td><td>21</td></tr>\n",
       "\t<tr><th scope=row>22</th><td> 11</td><td>320</td><td>16.6</td><td>73</td><td>5</td><td>22</td></tr>\n",
       "\t<tr><th scope=row>23</th><td>  4</td><td> 25</td><td> 9.7</td><td>61</td><td>5</td><td>23</td></tr>\n",
       "\t<tr><th scope=row>24</th><td> 32</td><td> 92</td><td>12.0</td><td>61</td><td>5</td><td>24</td></tr>\n",
       "\t<tr><th scope=row>28</th><td> 23</td><td> 13</td><td>12.0</td><td>67</td><td>5</td><td>28</td></tr>\n",
       "\t<tr><th scope=row>29</th><td> 45</td><td>252</td><td>14.9</td><td>81</td><td>5</td><td>29</td></tr>\n",
       "\t<tr><th scope=row>30</th><td>115</td><td>223</td><td> 5.7</td><td>79</td><td>5</td><td>30</td></tr>\n",
       "\t<tr><th scope=row>31</th><td> 37</td><td>279</td><td> 7.4</td><td>76</td><td>5</td><td>31</td></tr>\n",
       "\t<tr><th scope=row>38</th><td> 29</td><td>127</td><td> 9.7</td><td>82</td><td>6</td><td> 7</td></tr>\n",
       "\t<tr><th scope=row>40</th><td> 71</td><td>291</td><td>13.8</td><td>90</td><td>6</td><td> 9</td></tr>\n",
       "\t<tr><th scope=row>41</th><td> 39</td><td>323</td><td>11.5</td><td>87</td><td>6</td><td>10</td></tr>\n",
       "\t<tr><th scope=row>44</th><td> 23</td><td>148</td><td> 8.0</td><td>82</td><td>6</td><td>13</td></tr>\n",
       "\t<tr><th scope=row>⋮</th><td>⋮</td><td>⋮</td><td>⋮</td><td>⋮</td><td>⋮</td><td>⋮</td></tr>\n",
       "\t<tr><th scope=row>123</th><td>85</td><td>188</td><td> 6.3</td><td>94</td><td>8</td><td>31</td></tr>\n",
       "\t<tr><th scope=row>124</th><td>96</td><td>167</td><td> 6.9</td><td>91</td><td>9</td><td> 1</td></tr>\n",
       "\t<tr><th scope=row>125</th><td>78</td><td>197</td><td> 5.1</td><td>92</td><td>9</td><td> 2</td></tr>\n",
       "\t<tr><th scope=row>126</th><td>73</td><td>183</td><td> 2.8</td><td>93</td><td>9</td><td> 3</td></tr>\n",
       "\t<tr><th scope=row>127</th><td>91</td><td>189</td><td> 4.6</td><td>93</td><td>9</td><td> 4</td></tr>\n",
       "\t<tr><th scope=row>128</th><td>47</td><td> 95</td><td> 7.4</td><td>87</td><td>9</td><td> 5</td></tr>\n",
       "\t<tr><th scope=row>129</th><td>32</td><td> 92</td><td>15.5</td><td>84</td><td>9</td><td> 6</td></tr>\n",
       "\t<tr><th scope=row>130</th><td>20</td><td>252</td><td>10.9</td><td>80</td><td>9</td><td> 7</td></tr>\n",
       "\t<tr><th scope=row>131</th><td>23</td><td>220</td><td>10.3</td><td>78</td><td>9</td><td> 8</td></tr>\n",
       "\t<tr><th scope=row>132</th><td>21</td><td>230</td><td>10.9</td><td>75</td><td>9</td><td> 9</td></tr>\n",
       "\t<tr><th scope=row>133</th><td>24</td><td>259</td><td> 9.7</td><td>73</td><td>9</td><td>10</td></tr>\n",
       "\t<tr><th scope=row>134</th><td>44</td><td>236</td><td>14.9</td><td>81</td><td>9</td><td>11</td></tr>\n",
       "\t<tr><th scope=row>135</th><td>21</td><td>259</td><td>15.5</td><td>76</td><td>9</td><td>12</td></tr>\n",
       "\t<tr><th scope=row>136</th><td>28</td><td>238</td><td> 6.3</td><td>77</td><td>9</td><td>13</td></tr>\n",
       "\t<tr><th scope=row>137</th><td> 9</td><td> 24</td><td>10.9</td><td>71</td><td>9</td><td>14</td></tr>\n",
       "\t<tr><th scope=row>138</th><td>13</td><td>112</td><td>11.5</td><td>71</td><td>9</td><td>15</td></tr>\n",
       "\t<tr><th scope=row>139</th><td>46</td><td>237</td><td> 6.9</td><td>78</td><td>9</td><td>16</td></tr>\n",
       "\t<tr><th scope=row>140</th><td>18</td><td>224</td><td>13.8</td><td>67</td><td>9</td><td>17</td></tr>\n",
       "\t<tr><th scope=row>141</th><td>13</td><td> 27</td><td>10.3</td><td>76</td><td>9</td><td>18</td></tr>\n",
       "\t<tr><th scope=row>142</th><td>24</td><td>238</td><td>10.3</td><td>68</td><td>9</td><td>19</td></tr>\n",
       "\t<tr><th scope=row>143</th><td>16</td><td>201</td><td> 8.0</td><td>82</td><td>9</td><td>20</td></tr>\n",
       "\t<tr><th scope=row>144</th><td>13</td><td>238</td><td>12.6</td><td>64</td><td>9</td><td>21</td></tr>\n",
       "\t<tr><th scope=row>145</th><td>23</td><td> 14</td><td> 9.2</td><td>71</td><td>9</td><td>22</td></tr>\n",
       "\t<tr><th scope=row>146</th><td>36</td><td>139</td><td>10.3</td><td>81</td><td>9</td><td>23</td></tr>\n",
       "\t<tr><th scope=row>147</th><td> 7</td><td> 49</td><td>10.3</td><td>69</td><td>9</td><td>24</td></tr>\n",
       "\t<tr><th scope=row>148</th><td>14</td><td> 20</td><td>16.6</td><td>63</td><td>9</td><td>25</td></tr>\n",
       "\t<tr><th scope=row>149</th><td>30</td><td>193</td><td> 6.9</td><td>70</td><td>9</td><td>26</td></tr>\n",
       "\t<tr><th scope=row>151</th><td>14</td><td>191</td><td>14.3</td><td>75</td><td>9</td><td>28</td></tr>\n",
       "\t<tr><th scope=row>152</th><td>18</td><td>131</td><td> 8.0</td><td>76</td><td>9</td><td>29</td></tr>\n",
       "\t<tr><th scope=row>153</th><td>20</td><td>223</td><td>11.5</td><td>68</td><td>9</td><td>30</td></tr>\n",
       "</tbody>\n",
       "</table>\n"
      ],
      "text/latex": [
       "A data.frame: 116 × 6\n",
       "\\begin{tabular}{r|llllll}\n",
       "  & Ozone & Solar.R & Wind & Temp & Month & Day\\\\\n",
       "  & <int> & <int> & <dbl> & <int> & <int> & <int>\\\\\n",
       "\\hline\n",
       "\t1 &  41 & 190 &  7.4 & 67 & 5 &  1\\\\\n",
       "\t2 &  36 & 118 &  8.0 & 72 & 5 &  2\\\\\n",
       "\t3 &  12 & 149 & 12.6 & 74 & 5 &  3\\\\\n",
       "\t4 &  18 & 313 & 11.5 & 62 & 5 &  4\\\\\n",
       "\t6 &  28 &  NA & 14.9 & 66 & 5 &  6\\\\\n",
       "\t7 &  23 & 299 &  8.6 & 65 & 5 &  7\\\\\n",
       "\t8 &  19 &  99 & 13.8 & 59 & 5 &  8\\\\\n",
       "\t9 &   8 &  19 & 20.1 & 61 & 5 &  9\\\\\n",
       "\t11 &   7 &  NA &  6.9 & 74 & 5 & 11\\\\\n",
       "\t12 &  16 & 256 &  9.7 & 69 & 5 & 12\\\\\n",
       "\t13 &  11 & 290 &  9.2 & 66 & 5 & 13\\\\\n",
       "\t14 &  14 & 274 & 10.9 & 68 & 5 & 14\\\\\n",
       "\t15 &  18 &  65 & 13.2 & 58 & 5 & 15\\\\\n",
       "\t16 &  14 & 334 & 11.5 & 64 & 5 & 16\\\\\n",
       "\t17 &  34 & 307 & 12.0 & 66 & 5 & 17\\\\\n",
       "\t18 &   6 &  78 & 18.4 & 57 & 5 & 18\\\\\n",
       "\t19 &  30 & 322 & 11.5 & 68 & 5 & 19\\\\\n",
       "\t20 &  11 &  44 &  9.7 & 62 & 5 & 20\\\\\n",
       "\t21 &   1 &   8 &  9.7 & 59 & 5 & 21\\\\\n",
       "\t22 &  11 & 320 & 16.6 & 73 & 5 & 22\\\\\n",
       "\t23 &   4 &  25 &  9.7 & 61 & 5 & 23\\\\\n",
       "\t24 &  32 &  92 & 12.0 & 61 & 5 & 24\\\\\n",
       "\t28 &  23 &  13 & 12.0 & 67 & 5 & 28\\\\\n",
       "\t29 &  45 & 252 & 14.9 & 81 & 5 & 29\\\\\n",
       "\t30 & 115 & 223 &  5.7 & 79 & 5 & 30\\\\\n",
       "\t31 &  37 & 279 &  7.4 & 76 & 5 & 31\\\\\n",
       "\t38 &  29 & 127 &  9.7 & 82 & 6 &  7\\\\\n",
       "\t40 &  71 & 291 & 13.8 & 90 & 6 &  9\\\\\n",
       "\t41 &  39 & 323 & 11.5 & 87 & 6 & 10\\\\\n",
       "\t44 &  23 & 148 &  8.0 & 82 & 6 & 13\\\\\n",
       "\t⋮ & ⋮ & ⋮ & ⋮ & ⋮ & ⋮ & ⋮\\\\\n",
       "\t123 & 85 & 188 &  6.3 & 94 & 8 & 31\\\\\n",
       "\t124 & 96 & 167 &  6.9 & 91 & 9 &  1\\\\\n",
       "\t125 & 78 & 197 &  5.1 & 92 & 9 &  2\\\\\n",
       "\t126 & 73 & 183 &  2.8 & 93 & 9 &  3\\\\\n",
       "\t127 & 91 & 189 &  4.6 & 93 & 9 &  4\\\\\n",
       "\t128 & 47 &  95 &  7.4 & 87 & 9 &  5\\\\\n",
       "\t129 & 32 &  92 & 15.5 & 84 & 9 &  6\\\\\n",
       "\t130 & 20 & 252 & 10.9 & 80 & 9 &  7\\\\\n",
       "\t131 & 23 & 220 & 10.3 & 78 & 9 &  8\\\\\n",
       "\t132 & 21 & 230 & 10.9 & 75 & 9 &  9\\\\\n",
       "\t133 & 24 & 259 &  9.7 & 73 & 9 & 10\\\\\n",
       "\t134 & 44 & 236 & 14.9 & 81 & 9 & 11\\\\\n",
       "\t135 & 21 & 259 & 15.5 & 76 & 9 & 12\\\\\n",
       "\t136 & 28 & 238 &  6.3 & 77 & 9 & 13\\\\\n",
       "\t137 &  9 &  24 & 10.9 & 71 & 9 & 14\\\\\n",
       "\t138 & 13 & 112 & 11.5 & 71 & 9 & 15\\\\\n",
       "\t139 & 46 & 237 &  6.9 & 78 & 9 & 16\\\\\n",
       "\t140 & 18 & 224 & 13.8 & 67 & 9 & 17\\\\\n",
       "\t141 & 13 &  27 & 10.3 & 76 & 9 & 18\\\\\n",
       "\t142 & 24 & 238 & 10.3 & 68 & 9 & 19\\\\\n",
       "\t143 & 16 & 201 &  8.0 & 82 & 9 & 20\\\\\n",
       "\t144 & 13 & 238 & 12.6 & 64 & 9 & 21\\\\\n",
       "\t145 & 23 &  14 &  9.2 & 71 & 9 & 22\\\\\n",
       "\t146 & 36 & 139 & 10.3 & 81 & 9 & 23\\\\\n",
       "\t147 &  7 &  49 & 10.3 & 69 & 9 & 24\\\\\n",
       "\t148 & 14 &  20 & 16.6 & 63 & 9 & 25\\\\\n",
       "\t149 & 30 & 193 &  6.9 & 70 & 9 & 26\\\\\n",
       "\t151 & 14 & 191 & 14.3 & 75 & 9 & 28\\\\\n",
       "\t152 & 18 & 131 &  8.0 & 76 & 9 & 29\\\\\n",
       "\t153 & 20 & 223 & 11.5 & 68 & 9 & 30\\\\\n",
       "\\end{tabular}\n"
      ],
      "text/markdown": [
       "\n",
       "A data.frame: 116 × 6\n",
       "\n",
       "| <!--/--> | Ozone &lt;int&gt; | Solar.R &lt;int&gt; | Wind &lt;dbl&gt; | Temp &lt;int&gt; | Month &lt;int&gt; | Day &lt;int&gt; |\n",
       "|---|---|---|---|---|---|---|\n",
       "| 1 |  41 | 190 |  7.4 | 67 | 5 |  1 |\n",
       "| 2 |  36 | 118 |  8.0 | 72 | 5 |  2 |\n",
       "| 3 |  12 | 149 | 12.6 | 74 | 5 |  3 |\n",
       "| 4 |  18 | 313 | 11.5 | 62 | 5 |  4 |\n",
       "| 6 |  28 |  NA | 14.9 | 66 | 5 |  6 |\n",
       "| 7 |  23 | 299 |  8.6 | 65 | 5 |  7 |\n",
       "| 8 |  19 |  99 | 13.8 | 59 | 5 |  8 |\n",
       "| 9 |   8 |  19 | 20.1 | 61 | 5 |  9 |\n",
       "| 11 |   7 |  NA |  6.9 | 74 | 5 | 11 |\n",
       "| 12 |  16 | 256 |  9.7 | 69 | 5 | 12 |\n",
       "| 13 |  11 | 290 |  9.2 | 66 | 5 | 13 |\n",
       "| 14 |  14 | 274 | 10.9 | 68 | 5 | 14 |\n",
       "| 15 |  18 |  65 | 13.2 | 58 | 5 | 15 |\n",
       "| 16 |  14 | 334 | 11.5 | 64 | 5 | 16 |\n",
       "| 17 |  34 | 307 | 12.0 | 66 | 5 | 17 |\n",
       "| 18 |   6 |  78 | 18.4 | 57 | 5 | 18 |\n",
       "| 19 |  30 | 322 | 11.5 | 68 | 5 | 19 |\n",
       "| 20 |  11 |  44 |  9.7 | 62 | 5 | 20 |\n",
       "| 21 |   1 |   8 |  9.7 | 59 | 5 | 21 |\n",
       "| 22 |  11 | 320 | 16.6 | 73 | 5 | 22 |\n",
       "| 23 |   4 |  25 |  9.7 | 61 | 5 | 23 |\n",
       "| 24 |  32 |  92 | 12.0 | 61 | 5 | 24 |\n",
       "| 28 |  23 |  13 | 12.0 | 67 | 5 | 28 |\n",
       "| 29 |  45 | 252 | 14.9 | 81 | 5 | 29 |\n",
       "| 30 | 115 | 223 |  5.7 | 79 | 5 | 30 |\n",
       "| 31 |  37 | 279 |  7.4 | 76 | 5 | 31 |\n",
       "| 38 |  29 | 127 |  9.7 | 82 | 6 |  7 |\n",
       "| 40 |  71 | 291 | 13.8 | 90 | 6 |  9 |\n",
       "| 41 |  39 | 323 | 11.5 | 87 | 6 | 10 |\n",
       "| 44 |  23 | 148 |  8.0 | 82 | 6 | 13 |\n",
       "| ⋮ | ⋮ | ⋮ | ⋮ | ⋮ | ⋮ | ⋮ |\n",
       "| 123 | 85 | 188 |  6.3 | 94 | 8 | 31 |\n",
       "| 124 | 96 | 167 |  6.9 | 91 | 9 |  1 |\n",
       "| 125 | 78 | 197 |  5.1 | 92 | 9 |  2 |\n",
       "| 126 | 73 | 183 |  2.8 | 93 | 9 |  3 |\n",
       "| 127 | 91 | 189 |  4.6 | 93 | 9 |  4 |\n",
       "| 128 | 47 |  95 |  7.4 | 87 | 9 |  5 |\n",
       "| 129 | 32 |  92 | 15.5 | 84 | 9 |  6 |\n",
       "| 130 | 20 | 252 | 10.9 | 80 | 9 |  7 |\n",
       "| 131 | 23 | 220 | 10.3 | 78 | 9 |  8 |\n",
       "| 132 | 21 | 230 | 10.9 | 75 | 9 |  9 |\n",
       "| 133 | 24 | 259 |  9.7 | 73 | 9 | 10 |\n",
       "| 134 | 44 | 236 | 14.9 | 81 | 9 | 11 |\n",
       "| 135 | 21 | 259 | 15.5 | 76 | 9 | 12 |\n",
       "| 136 | 28 | 238 |  6.3 | 77 | 9 | 13 |\n",
       "| 137 |  9 |  24 | 10.9 | 71 | 9 | 14 |\n",
       "| 138 | 13 | 112 | 11.5 | 71 | 9 | 15 |\n",
       "| 139 | 46 | 237 |  6.9 | 78 | 9 | 16 |\n",
       "| 140 | 18 | 224 | 13.8 | 67 | 9 | 17 |\n",
       "| 141 | 13 |  27 | 10.3 | 76 | 9 | 18 |\n",
       "| 142 | 24 | 238 | 10.3 | 68 | 9 | 19 |\n",
       "| 143 | 16 | 201 |  8.0 | 82 | 9 | 20 |\n",
       "| 144 | 13 | 238 | 12.6 | 64 | 9 | 21 |\n",
       "| 145 | 23 |  14 |  9.2 | 71 | 9 | 22 |\n",
       "| 146 | 36 | 139 | 10.3 | 81 | 9 | 23 |\n",
       "| 147 |  7 |  49 | 10.3 | 69 | 9 | 24 |\n",
       "| 148 | 14 |  20 | 16.6 | 63 | 9 | 25 |\n",
       "| 149 | 30 | 193 |  6.9 | 70 | 9 | 26 |\n",
       "| 151 | 14 | 191 | 14.3 | 75 | 9 | 28 |\n",
       "| 152 | 18 | 131 |  8.0 | 76 | 9 | 29 |\n",
       "| 153 | 20 | 223 | 11.5 | 68 | 9 | 30 |\n",
       "\n"
      ],
      "text/plain": [
       "    Ozone Solar.R Wind Temp Month Day\n",
       "1    41   190      7.4 67   5      1 \n",
       "2    36   118      8.0 72   5      2 \n",
       "3    12   149     12.6 74   5      3 \n",
       "4    18   313     11.5 62   5      4 \n",
       "6    28    NA     14.9 66   5      6 \n",
       "7    23   299      8.6 65   5      7 \n",
       "8    19    99     13.8 59   5      8 \n",
       "9     8    19     20.1 61   5      9 \n",
       "11    7    NA      6.9 74   5     11 \n",
       "12   16   256      9.7 69   5     12 \n",
       "13   11   290      9.2 66   5     13 \n",
       "14   14   274     10.9 68   5     14 \n",
       "15   18    65     13.2 58   5     15 \n",
       "16   14   334     11.5 64   5     16 \n",
       "17   34   307     12.0 66   5     17 \n",
       "18    6    78     18.4 57   5     18 \n",
       "19   30   322     11.5 68   5     19 \n",
       "20   11    44      9.7 62   5     20 \n",
       "21    1     8      9.7 59   5     21 \n",
       "22   11   320     16.6 73   5     22 \n",
       "23    4    25      9.7 61   5     23 \n",
       "24   32    92     12.0 61   5     24 \n",
       "28   23    13     12.0 67   5     28 \n",
       "29   45   252     14.9 81   5     29 \n",
       "30  115   223      5.7 79   5     30 \n",
       "31   37   279      7.4 76   5     31 \n",
       "38   29   127      9.7 82   6      7 \n",
       "40   71   291     13.8 90   6      9 \n",
       "41   39   323     11.5 87   6     10 \n",
       "44   23   148      8.0 82   6     13 \n",
       "⋮   ⋮     ⋮       ⋮    ⋮    ⋮     ⋮  \n",
       "123 85    188      6.3 94   8     31 \n",
       "124 96    167      6.9 91   9      1 \n",
       "125 78    197      5.1 92   9      2 \n",
       "126 73    183      2.8 93   9      3 \n",
       "127 91    189      4.6 93   9      4 \n",
       "128 47     95      7.4 87   9      5 \n",
       "129 32     92     15.5 84   9      6 \n",
       "130 20    252     10.9 80   9      7 \n",
       "131 23    220     10.3 78   9      8 \n",
       "132 21    230     10.9 75   9      9 \n",
       "133 24    259      9.7 73   9     10 \n",
       "134 44    236     14.9 81   9     11 \n",
       "135 21    259     15.5 76   9     12 \n",
       "136 28    238      6.3 77   9     13 \n",
       "137  9     24     10.9 71   9     14 \n",
       "138 13    112     11.5 71   9     15 \n",
       "139 46    237      6.9 78   9     16 \n",
       "140 18    224     13.8 67   9     17 \n",
       "141 13     27     10.3 76   9     18 \n",
       "142 24    238     10.3 68   9     19 \n",
       "143 16    201      8.0 82   9     20 \n",
       "144 13    238     12.6 64   9     21 \n",
       "145 23     14      9.2 71   9     22 \n",
       "146 36    139     10.3 81   9     23 \n",
       "147  7     49     10.3 69   9     24 \n",
       "148 14     20     16.6 63   9     25 \n",
       "149 30    193      6.9 70   9     26 \n",
       "151 14    191     14.3 75   9     28 \n",
       "152 18    131      8.0 76   9     29 \n",
       "153 20    223     11.5 68   9     30 "
      ]
     },
     "metadata": {},
     "output_type": "display_data"
    },
    {
     "name": "stdout",
     "output_type": "stream",
     "text": [
      "37 rows have been removed"
     ]
    }
   ],
   "source": [
    "# Write your answer here\n",
    "air3 <- airquality[complete.cases(airquality$Solar.R), ]           \n",
    "airquality_no_na<- airquality[complete.cases(airquality$Ozone), ]   \n",
    "airquality_no_na\n",
    "answer<-nrow(airquality)-nrow(airquality_no_na)\n",
    "cat(answer, \"rows have been removed\")"
   ]
  },
  {
   "cell_type": "markdown",
   "id": "47fab9ee",
   "metadata": {
    "pycharm": {
     "name": "#%% md\n"
    }
   },
   "source": [
    "#### Question 7\n",
    "* Let's use a different strategy and impute the missing value.\n",
    "  * replace the missing values for Solar.R using that month's average.\n",
    "  * Example:\n",
    "    * The missing value for line 6 should be replaced with the average for month 5.\n",
    "    * The missing value for line 97 should be replaced with the average for month 8."
   ]
  },
  {
   "cell_type": "code",
   "execution_count": 110,
   "id": "fe11d9dd",
   "metadata": {
    "pycharm": {
     "name": "#%%\n"
    }
   },
   "outputs": [
    {
     "data": {
      "text/html": [
       "<table class=\"dataframe\">\n",
       "<caption>A data.frame: 7 × 6</caption>\n",
       "<thead>\n",
       "\t<tr><th></th><th scope=col>Ozone</th><th scope=col>Solar.R</th><th scope=col>Wind</th><th scope=col>Temp</th><th scope=col>Month</th><th scope=col>Day</th></tr>\n",
       "\t<tr><th></th><th scope=col>&lt;int&gt;</th><th scope=col>&lt;int&gt;</th><th scope=col>&lt;dbl&gt;</th><th scope=col>&lt;int&gt;</th><th scope=col>&lt;int&gt;</th><th scope=col>&lt;int&gt;</th></tr>\n",
       "</thead>\n",
       "<tbody>\n",
       "\t<tr><th scope=row>5</th><td>NA</td><td>NA</td><td>14.3</td><td>56</td><td>5</td><td> 5</td></tr>\n",
       "\t<tr><th scope=row>6</th><td>28</td><td>NA</td><td>14.9</td><td>66</td><td>5</td><td> 6</td></tr>\n",
       "\t<tr><th scope=row>11</th><td> 7</td><td>NA</td><td> 6.9</td><td>74</td><td>5</td><td>11</td></tr>\n",
       "\t<tr><th scope=row>27</th><td>NA</td><td>NA</td><td> 8.0</td><td>57</td><td>5</td><td>27</td></tr>\n",
       "\t<tr><th scope=row>96</th><td>78</td><td>NA</td><td> 6.9</td><td>86</td><td>8</td><td> 4</td></tr>\n",
       "\t<tr><th scope=row>97</th><td>35</td><td>NA</td><td> 7.4</td><td>85</td><td>8</td><td> 5</td></tr>\n",
       "\t<tr><th scope=row>98</th><td>66</td><td>NA</td><td> 4.6</td><td>87</td><td>8</td><td> 6</td></tr>\n",
       "</tbody>\n",
       "</table>\n"
      ],
      "text/latex": [
       "A data.frame: 7 × 6\n",
       "\\begin{tabular}{r|llllll}\n",
       "  & Ozone & Solar.R & Wind & Temp & Month & Day\\\\\n",
       "  & <int> & <int> & <dbl> & <int> & <int> & <int>\\\\\n",
       "\\hline\n",
       "\t5 & NA & NA & 14.3 & 56 & 5 &  5\\\\\n",
       "\t6 & 28 & NA & 14.9 & 66 & 5 &  6\\\\\n",
       "\t11 &  7 & NA &  6.9 & 74 & 5 & 11\\\\\n",
       "\t27 & NA & NA &  8.0 & 57 & 5 & 27\\\\\n",
       "\t96 & 78 & NA &  6.9 & 86 & 8 &  4\\\\\n",
       "\t97 & 35 & NA &  7.4 & 85 & 8 &  5\\\\\n",
       "\t98 & 66 & NA &  4.6 & 87 & 8 &  6\\\\\n",
       "\\end{tabular}\n"
      ],
      "text/markdown": [
       "\n",
       "A data.frame: 7 × 6\n",
       "\n",
       "| <!--/--> | Ozone &lt;int&gt; | Solar.R &lt;int&gt; | Wind &lt;dbl&gt; | Temp &lt;int&gt; | Month &lt;int&gt; | Day &lt;int&gt; |\n",
       "|---|---|---|---|---|---|---|\n",
       "| 5 | NA | NA | 14.3 | 56 | 5 |  5 |\n",
       "| 6 | 28 | NA | 14.9 | 66 | 5 |  6 |\n",
       "| 11 |  7 | NA |  6.9 | 74 | 5 | 11 |\n",
       "| 27 | NA | NA |  8.0 | 57 | 5 | 27 |\n",
       "| 96 | 78 | NA |  6.9 | 86 | 8 |  4 |\n",
       "| 97 | 35 | NA |  7.4 | 85 | 8 |  5 |\n",
       "| 98 | 66 | NA |  4.6 | 87 | 8 |  6 |\n",
       "\n"
      ],
      "text/plain": [
       "   Ozone Solar.R Wind Temp Month Day\n",
       "5  NA    NA      14.3 56   5      5 \n",
       "6  28    NA      14.9 66   5      6 \n",
       "11  7    NA       6.9 74   5     11 \n",
       "27 NA    NA       8.0 57   5     27 \n",
       "96 78    NA       6.9 86   8      4 \n",
       "97 35    NA       7.4 85   8      5 \n",
       "98 66    NA       4.6 87   8      6 "
      ]
     },
     "metadata": {},
     "output_type": "display_data"
    },
    {
     "data": {
      "text/html": [
       "<table class=\"dataframe\">\n",
       "<caption>A data.frame: 31 × 6</caption>\n",
       "<thead>\n",
       "\t<tr><th></th><th scope=col>Ozone</th><th scope=col>Solar.R</th><th scope=col>Wind</th><th scope=col>Temp</th><th scope=col>Month</th><th scope=col>Day</th></tr>\n",
       "\t<tr><th></th><th scope=col>&lt;int&gt;</th><th scope=col>&lt;dbl&gt;</th><th scope=col>&lt;dbl&gt;</th><th scope=col>&lt;int&gt;</th><th scope=col>&lt;int&gt;</th><th scope=col>&lt;int&gt;</th></tr>\n",
       "</thead>\n",
       "<tbody>\n",
       "\t<tr><th scope=row>93</th><td> 39</td><td> 83.0000</td><td> 6.9</td><td>81</td><td>8</td><td> 1</td></tr>\n",
       "\t<tr><th scope=row>94</th><td>  9</td><td> 24.0000</td><td>13.8</td><td>81</td><td>8</td><td> 2</td></tr>\n",
       "\t<tr><th scope=row>95</th><td> 16</td><td> 77.0000</td><td> 7.4</td><td>82</td><td>8</td><td> 3</td></tr>\n",
       "\t<tr><th scope=row>96</th><td> 78</td><td>171.8571</td><td> 6.9</td><td>86</td><td>8</td><td> 4</td></tr>\n",
       "\t<tr><th scope=row>97</th><td> 35</td><td>171.8571</td><td> 7.4</td><td>85</td><td>8</td><td> 5</td></tr>\n",
       "\t<tr><th scope=row>98</th><td> 66</td><td>171.8571</td><td> 4.6</td><td>87</td><td>8</td><td> 6</td></tr>\n",
       "\t<tr><th scope=row>99</th><td>122</td><td>255.0000</td><td> 4.0</td><td>89</td><td>8</td><td> 7</td></tr>\n",
       "\t<tr><th scope=row>100</th><td> 89</td><td>229.0000</td><td>10.3</td><td>90</td><td>8</td><td> 8</td></tr>\n",
       "\t<tr><th scope=row>101</th><td>110</td><td>207.0000</td><td> 8.0</td><td>90</td><td>8</td><td> 9</td></tr>\n",
       "\t<tr><th scope=row>102</th><td> NA</td><td>222.0000</td><td> 8.6</td><td>92</td><td>8</td><td>10</td></tr>\n",
       "\t<tr><th scope=row>103</th><td> NA</td><td>137.0000</td><td>11.5</td><td>86</td><td>8</td><td>11</td></tr>\n",
       "\t<tr><th scope=row>104</th><td> 44</td><td>192.0000</td><td>11.5</td><td>86</td><td>8</td><td>12</td></tr>\n",
       "\t<tr><th scope=row>105</th><td> 28</td><td>273.0000</td><td>11.5</td><td>82</td><td>8</td><td>13</td></tr>\n",
       "\t<tr><th scope=row>106</th><td> 65</td><td>157.0000</td><td> 9.7</td><td>80</td><td>8</td><td>14</td></tr>\n",
       "\t<tr><th scope=row>107</th><td> NA</td><td> 64.0000</td><td>11.5</td><td>79</td><td>8</td><td>15</td></tr>\n",
       "\t<tr><th scope=row>108</th><td> 22</td><td> 71.0000</td><td>10.3</td><td>77</td><td>8</td><td>16</td></tr>\n",
       "\t<tr><th scope=row>109</th><td> 59</td><td> 51.0000</td><td> 6.3</td><td>79</td><td>8</td><td>17</td></tr>\n",
       "\t<tr><th scope=row>110</th><td> 23</td><td>115.0000</td><td> 7.4</td><td>76</td><td>8</td><td>18</td></tr>\n",
       "\t<tr><th scope=row>111</th><td> 31</td><td>244.0000</td><td>10.9</td><td>78</td><td>8</td><td>19</td></tr>\n",
       "\t<tr><th scope=row>112</th><td> 44</td><td>190.0000</td><td>10.3</td><td>78</td><td>8</td><td>20</td></tr>\n",
       "\t<tr><th scope=row>113</th><td> 21</td><td>259.0000</td><td>15.5</td><td>77</td><td>8</td><td>21</td></tr>\n",
       "\t<tr><th scope=row>114</th><td>  9</td><td> 36.0000</td><td>14.3</td><td>72</td><td>8</td><td>22</td></tr>\n",
       "\t<tr><th scope=row>115</th><td> NA</td><td>255.0000</td><td>12.6</td><td>75</td><td>8</td><td>23</td></tr>\n",
       "\t<tr><th scope=row>116</th><td> 45</td><td>212.0000</td><td> 9.7</td><td>79</td><td>8</td><td>24</td></tr>\n",
       "\t<tr><th scope=row>117</th><td>168</td><td>238.0000</td><td> 3.4</td><td>81</td><td>8</td><td>25</td></tr>\n",
       "\t<tr><th scope=row>118</th><td> 73</td><td>215.0000</td><td> 8.0</td><td>86</td><td>8</td><td>26</td></tr>\n",
       "\t<tr><th scope=row>119</th><td> NA</td><td>153.0000</td><td> 5.7</td><td>88</td><td>8</td><td>27</td></tr>\n",
       "\t<tr><th scope=row>120</th><td> 76</td><td>203.0000</td><td> 9.7</td><td>97</td><td>8</td><td>28</td></tr>\n",
       "\t<tr><th scope=row>121</th><td>118</td><td>225.0000</td><td> 2.3</td><td>94</td><td>8</td><td>29</td></tr>\n",
       "\t<tr><th scope=row>122</th><td> 84</td><td>237.0000</td><td> 6.3</td><td>96</td><td>8</td><td>30</td></tr>\n",
       "\t<tr><th scope=row>123</th><td> 85</td><td>188.0000</td><td> 6.3</td><td>94</td><td>8</td><td>31</td></tr>\n",
       "</tbody>\n",
       "</table>\n"
      ],
      "text/latex": [
       "A data.frame: 31 × 6\n",
       "\\begin{tabular}{r|llllll}\n",
       "  & Ozone & Solar.R & Wind & Temp & Month & Day\\\\\n",
       "  & <int> & <dbl> & <dbl> & <int> & <int> & <int>\\\\\n",
       "\\hline\n",
       "\t93 &  39 &  83.0000 &  6.9 & 81 & 8 &  1\\\\\n",
       "\t94 &   9 &  24.0000 & 13.8 & 81 & 8 &  2\\\\\n",
       "\t95 &  16 &  77.0000 &  7.4 & 82 & 8 &  3\\\\\n",
       "\t96 &  78 & 171.8571 &  6.9 & 86 & 8 &  4\\\\\n",
       "\t97 &  35 & 171.8571 &  7.4 & 85 & 8 &  5\\\\\n",
       "\t98 &  66 & 171.8571 &  4.6 & 87 & 8 &  6\\\\\n",
       "\t99 & 122 & 255.0000 &  4.0 & 89 & 8 &  7\\\\\n",
       "\t100 &  89 & 229.0000 & 10.3 & 90 & 8 &  8\\\\\n",
       "\t101 & 110 & 207.0000 &  8.0 & 90 & 8 &  9\\\\\n",
       "\t102 &  NA & 222.0000 &  8.6 & 92 & 8 & 10\\\\\n",
       "\t103 &  NA & 137.0000 & 11.5 & 86 & 8 & 11\\\\\n",
       "\t104 &  44 & 192.0000 & 11.5 & 86 & 8 & 12\\\\\n",
       "\t105 &  28 & 273.0000 & 11.5 & 82 & 8 & 13\\\\\n",
       "\t106 &  65 & 157.0000 &  9.7 & 80 & 8 & 14\\\\\n",
       "\t107 &  NA &  64.0000 & 11.5 & 79 & 8 & 15\\\\\n",
       "\t108 &  22 &  71.0000 & 10.3 & 77 & 8 & 16\\\\\n",
       "\t109 &  59 &  51.0000 &  6.3 & 79 & 8 & 17\\\\\n",
       "\t110 &  23 & 115.0000 &  7.4 & 76 & 8 & 18\\\\\n",
       "\t111 &  31 & 244.0000 & 10.9 & 78 & 8 & 19\\\\\n",
       "\t112 &  44 & 190.0000 & 10.3 & 78 & 8 & 20\\\\\n",
       "\t113 &  21 & 259.0000 & 15.5 & 77 & 8 & 21\\\\\n",
       "\t114 &   9 &  36.0000 & 14.3 & 72 & 8 & 22\\\\\n",
       "\t115 &  NA & 255.0000 & 12.6 & 75 & 8 & 23\\\\\n",
       "\t116 &  45 & 212.0000 &  9.7 & 79 & 8 & 24\\\\\n",
       "\t117 & 168 & 238.0000 &  3.4 & 81 & 8 & 25\\\\\n",
       "\t118 &  73 & 215.0000 &  8.0 & 86 & 8 & 26\\\\\n",
       "\t119 &  NA & 153.0000 &  5.7 & 88 & 8 & 27\\\\\n",
       "\t120 &  76 & 203.0000 &  9.7 & 97 & 8 & 28\\\\\n",
       "\t121 & 118 & 225.0000 &  2.3 & 94 & 8 & 29\\\\\n",
       "\t122 &  84 & 237.0000 &  6.3 & 96 & 8 & 30\\\\\n",
       "\t123 &  85 & 188.0000 &  6.3 & 94 & 8 & 31\\\\\n",
       "\\end{tabular}\n"
      ],
      "text/markdown": [
       "\n",
       "A data.frame: 31 × 6\n",
       "\n",
       "| <!--/--> | Ozone &lt;int&gt; | Solar.R &lt;dbl&gt; | Wind &lt;dbl&gt; | Temp &lt;int&gt; | Month &lt;int&gt; | Day &lt;int&gt; |\n",
       "|---|---|---|---|---|---|---|\n",
       "| 93 |  39 |  83.0000 |  6.9 | 81 | 8 |  1 |\n",
       "| 94 |   9 |  24.0000 | 13.8 | 81 | 8 |  2 |\n",
       "| 95 |  16 |  77.0000 |  7.4 | 82 | 8 |  3 |\n",
       "| 96 |  78 | 171.8571 |  6.9 | 86 | 8 |  4 |\n",
       "| 97 |  35 | 171.8571 |  7.4 | 85 | 8 |  5 |\n",
       "| 98 |  66 | 171.8571 |  4.6 | 87 | 8 |  6 |\n",
       "| 99 | 122 | 255.0000 |  4.0 | 89 | 8 |  7 |\n",
       "| 100 |  89 | 229.0000 | 10.3 | 90 | 8 |  8 |\n",
       "| 101 | 110 | 207.0000 |  8.0 | 90 | 8 |  9 |\n",
       "| 102 |  NA | 222.0000 |  8.6 | 92 | 8 | 10 |\n",
       "| 103 |  NA | 137.0000 | 11.5 | 86 | 8 | 11 |\n",
       "| 104 |  44 | 192.0000 | 11.5 | 86 | 8 | 12 |\n",
       "| 105 |  28 | 273.0000 | 11.5 | 82 | 8 | 13 |\n",
       "| 106 |  65 | 157.0000 |  9.7 | 80 | 8 | 14 |\n",
       "| 107 |  NA |  64.0000 | 11.5 | 79 | 8 | 15 |\n",
       "| 108 |  22 |  71.0000 | 10.3 | 77 | 8 | 16 |\n",
       "| 109 |  59 |  51.0000 |  6.3 | 79 | 8 | 17 |\n",
       "| 110 |  23 | 115.0000 |  7.4 | 76 | 8 | 18 |\n",
       "| 111 |  31 | 244.0000 | 10.9 | 78 | 8 | 19 |\n",
       "| 112 |  44 | 190.0000 | 10.3 | 78 | 8 | 20 |\n",
       "| 113 |  21 | 259.0000 | 15.5 | 77 | 8 | 21 |\n",
       "| 114 |   9 |  36.0000 | 14.3 | 72 | 8 | 22 |\n",
       "| 115 |  NA | 255.0000 | 12.6 | 75 | 8 | 23 |\n",
       "| 116 |  45 | 212.0000 |  9.7 | 79 | 8 | 24 |\n",
       "| 117 | 168 | 238.0000 |  3.4 | 81 | 8 | 25 |\n",
       "| 118 |  73 | 215.0000 |  8.0 | 86 | 8 | 26 |\n",
       "| 119 |  NA | 153.0000 |  5.7 | 88 | 8 | 27 |\n",
       "| 120 |  76 | 203.0000 |  9.7 | 97 | 8 | 28 |\n",
       "| 121 | 118 | 225.0000 |  2.3 | 94 | 8 | 29 |\n",
       "| 122 |  84 | 237.0000 |  6.3 | 96 | 8 | 30 |\n",
       "| 123 |  85 | 188.0000 |  6.3 | 94 | 8 | 31 |\n",
       "\n"
      ],
      "text/plain": [
       "    Ozone Solar.R  Wind Temp Month Day\n",
       "93   39    83.0000  6.9 81   8      1 \n",
       "94    9    24.0000 13.8 81   8      2 \n",
       "95   16    77.0000  7.4 82   8      3 \n",
       "96   78   171.8571  6.9 86   8      4 \n",
       "97   35   171.8571  7.4 85   8      5 \n",
       "98   66   171.8571  4.6 87   8      6 \n",
       "99  122   255.0000  4.0 89   8      7 \n",
       "100  89   229.0000 10.3 90   8      8 \n",
       "101 110   207.0000  8.0 90   8      9 \n",
       "102  NA   222.0000  8.6 92   8     10 \n",
       "103  NA   137.0000 11.5 86   8     11 \n",
       "104  44   192.0000 11.5 86   8     12 \n",
       "105  28   273.0000 11.5 82   8     13 \n",
       "106  65   157.0000  9.7 80   8     14 \n",
       "107  NA    64.0000 11.5 79   8     15 \n",
       "108  22    71.0000 10.3 77   8     16 \n",
       "109  59    51.0000  6.3 79   8     17 \n",
       "110  23   115.0000  7.4 76   8     18 \n",
       "111  31   244.0000 10.9 78   8     19 \n",
       "112  44   190.0000 10.3 78   8     20 \n",
       "113  21   259.0000 15.5 77   8     21 \n",
       "114   9    36.0000 14.3 72   8     22 \n",
       "115  NA   255.0000 12.6 75   8     23 \n",
       "116  45   212.0000  9.7 79   8     24 \n",
       "117 168   238.0000  3.4 81   8     25 \n",
       "118  73   215.0000  8.0 86   8     26 \n",
       "119  NA   153.0000  5.7 88   8     27 \n",
       "120  76   203.0000  9.7 97   8     28 \n",
       "121 118   225.0000  2.3 94   8     29 \n",
       "122  84   237.0000  6.3 96   8     30 \n",
       "123  85   188.0000  6.3 94   8     31 "
      ]
     },
     "metadata": {},
     "output_type": "display_data"
    }
   ],
   "source": [
    "# Write your answer here\n",
    "data(airquality)\n",
    "missingS<-is.na(airquality$Solar.R)\n",
    "airquality[missingS,]\n",
    "#only need means for May and august\n",
    "#let's start with may \n",
    "may<-subset(airquality, Month==5)$Solar.R\n",
    "may_mean<-mean(may,na.rm=TRUE)\n",
    "airquality[is.na(airquality$Solar.R)&airquality$Month==5,'Solar.R']<-may_mean\n",
    "#checking for any NA in may\n",
    "#airquality[airquality$Month==5,]\n",
    "#yay! let's do it for august \n",
    "aug<-subset(airquality, Month==8)$Solar.R\n",
    "aug_mean<-mean(aug,na.rm=TRUE)\n",
    "airquality[is.na(airquality$Solar.R)&airquality$Month==8,'Solar.R']<-aug_mean\n",
    "#checking for any NA in august\n",
    "airquality[airquality$Month==8,]"
   ]
  }
 ],
 "metadata": {
  "kernelspec": {
   "display_name": "R",
   "language": "R",
   "name": "ir"
  },
  "language_info": {
   "codemirror_mode": "r",
   "file_extension": ".r",
   "mimetype": "text/x-r-source",
   "name": "R",
   "pygments_lexer": "r",
   "version": "4.2.1"
  }
 },
 "nbformat": 4,
 "nbformat_minor": 5
}
