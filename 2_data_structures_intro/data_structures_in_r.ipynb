{
 "cells": [
  {
   "cell_type": "markdown",
   "id": "e1ef8982",
   "metadata": {
    "pycharm": {
     "name": "#%% md\n"
    }
   },
   "source": [
    "### Question 0\n",
    "\n",
    "*  Draw a concepts diagram that uses all the following Github terminology \n",
    "   * Include any missing keywords that will simplify the concepts diagrams \n",
    "\n",
    "\n",
    "`Push`, `Repository`, `Clone`, `Pull`, `Pull Request`, `Branch`, `Merging`, `Github Client`, `README file`, `Private or Public`\n"
   ]
  },
  {
   "cell_type": "markdown",
   "id": "90509a3f",
   "metadata": {
    "pycharm": {
     "name": "#%%\n"
    }
   },
   "source": [
    "#Image\n",
    "![\"MBIO612CD2\"](IMG_8181.HEIC)"
   ]
  },
  {
   "cell_type": "markdown",
   "id": "d82929c0",
   "metadata": {
    "pycharm": {
     "name": "#%% md\n"
    }
   },
   "source": [
    "#### Question 1\n",
    "\n",
    "`matrix(c(1,2,3,4,5,6) , nrow = 3)`\n",
    "\n",
    "* Running the expression produces the following matrix\n",
    "\n",
    "|  |  |\n",
    "|---|---|\n",
    "| 1 | 4 |\n",
    "| 2 | 5 |\n",
    "| 3 | 6 |\n",
    "\n",
    "* How can you modify the call to `matrix()` to produce the following matrix instead?\n",
    "\n",
    "|   | col_1 |  col_2 |\n",
    "| --- |---|---|\n",
    "| row_1 | 1 | 2 |\n",
    "| row_2 | 3 | 4 |\n",
    "| row_3 | 5 | 6 |\n",
    "\n",
    "* Note that you need to name the columns (col_1 and col_2) and name the rows (row_1, row_2, row_3)\n",
    "\n",
    "Hint: Use the `?` symbol to invoke the matrix documentation"
   ]
  },
  {
   "cell_type": "code",
   "execution_count": 13,
   "id": "fbbfafdc",
   "metadata": {},
   "outputs": [
    {
     "data": {
      "text/html": [
       "<table class=\"dataframe\">\n",
       "<caption>A matrix: 3 × 2 of type dbl</caption>\n",
       "<thead>\n",
       "\t<tr><th></th><th scope=col>col_1</th><th scope=col>col_2</th></tr>\n",
       "</thead>\n",
       "<tbody>\n",
       "\t<tr><th scope=row>row_1</th><td>1</td><td>4</td></tr>\n",
       "\t<tr><th scope=row>row_2</th><td>2</td><td>5</td></tr>\n",
       "\t<tr><th scope=row>row_3</th><td>3</td><td>6</td></tr>\n",
       "</tbody>\n",
       "</table>\n"
      ],
      "text/latex": [
       "A matrix: 3 × 2 of type dbl\n",
       "\\begin{tabular}{r|ll}\n",
       "  & col\\_1 & col\\_2\\\\\n",
       "\\hline\n",
       "\trow\\_1 & 1 & 4\\\\\n",
       "\trow\\_2 & 2 & 5\\\\\n",
       "\trow\\_3 & 3 & 6\\\\\n",
       "\\end{tabular}\n"
      ],
      "text/markdown": [
       "\n",
       "A matrix: 3 × 2 of type dbl\n",
       "\n",
       "| <!--/--> | col_1 | col_2 |\n",
       "|---|---|---|\n",
       "| row_1 | 1 | 4 |\n",
       "| row_2 | 2 | 5 |\n",
       "| row_3 | 3 | 6 |\n",
       "\n"
      ],
      "text/plain": [
       "      col_1 col_2\n",
       "row_1 1     4    \n",
       "row_2 2     5    \n",
       "row_3 3     6    "
      ]
     },
     "metadata": {},
     "output_type": "display_data"
    }
   ],
   "source": [
    "m<-matrix(c(1,2,3,4,5,6) , nrow = 3)\n",
    "rownames(m)=c(\"row_1\",\"row_2\", \"row_3\")\n",
    "colnames(m)=c(\"col_1\",\"col_2\")\n",
    "m\n"
   ]
  },
  {
   "cell_type": "markdown",
   "id": "ba4962d3",
   "metadata": {
    "pycharm": {
     "name": "#%% md\n"
    }
   },
   "source": [
    "#### Question 2\n",
    "\n",
    "* Load then sort the airquality data frame on its `Temp` and `Solar.R` columns in reverse order (largest to smallest values)\n",
    "  * The function to sort a data frame is called order\n",
    "* Display only the first 15 lines of your table"
   ]
  },
  {
   "cell_type": "code",
   "execution_count": 67,
   "id": "55d4ecc2",
   "metadata": {
    "pycharm": {
     "name": "#%%\n"
    }
   },
   "outputs": [
    {
     "data": {
      "text/html": [
       "<table class=\"dataframe\">\n",
       "<caption>A data.frame: 15 × 6</caption>\n",
       "<thead>\n",
       "\t<tr><th></th><th scope=col>Ozone</th><th scope=col>Solar.R</th><th scope=col>Wind</th><th scope=col>Temp</th><th scope=col>Month</th><th scope=col>Day</th></tr>\n",
       "\t<tr><th></th><th scope=col>&lt;int&gt;</th><th scope=col>&lt;int&gt;</th><th scope=col>&lt;dbl&gt;</th><th scope=col>&lt;int&gt;</th><th scope=col>&lt;int&gt;</th><th scope=col>&lt;int&gt;</th></tr>\n",
       "</thead>\n",
       "<tbody>\n",
       "\t<tr><th scope=row>120</th><td> 76</td><td>203</td><td> 9.7</td><td>97</td><td>8</td><td>28</td></tr>\n",
       "\t<tr><th scope=row>122</th><td> 84</td><td>237</td><td> 6.3</td><td>96</td><td>8</td><td>30</td></tr>\n",
       "\t<tr><th scope=row>121</th><td>118</td><td>225</td><td> 2.3</td><td>94</td><td>8</td><td>29</td></tr>\n",
       "\t<tr><th scope=row>123</th><td> 85</td><td>188</td><td> 6.3</td><td>94</td><td>8</td><td>31</td></tr>\n",
       "\t<tr><th scope=row>42</th><td> NA</td><td>259</td><td>10.9</td><td>93</td><td>6</td><td>11</td></tr>\n",
       "\t<tr><th scope=row>127</th><td> 91</td><td>189</td><td> 4.6</td><td>93</td><td>9</td><td> 4</td></tr>\n",
       "\t<tr><th scope=row>126</th><td> 73</td><td>183</td><td> 2.8</td><td>93</td><td>9</td><td> 3</td></tr>\n",
       "\t<tr><th scope=row>70</th><td> 97</td><td>272</td><td> 5.7</td><td>92</td><td>7</td><td> 9</td></tr>\n",
       "\t<tr><th scope=row>69</th><td> 97</td><td>267</td><td> 6.3</td><td>92</td><td>7</td><td> 8</td></tr>\n",
       "\t<tr><th scope=row>43</th><td> NA</td><td>250</td><td> 9.2</td><td>92</td><td>6</td><td>12</td></tr>\n",
       "\t<tr><th scope=row>102</th><td> NA</td><td>222</td><td> 8.6</td><td>92</td><td>8</td><td>10</td></tr>\n",
       "\t<tr><th scope=row>125</th><td> 78</td><td>197</td><td> 5.1</td><td>92</td><td>9</td><td> 2</td></tr>\n",
       "\t<tr><th scope=row>75</th><td> NA</td><td>291</td><td>14.9</td><td>91</td><td>7</td><td>14</td></tr>\n",
       "\t<tr><th scope=row>124</th><td> 96</td><td>167</td><td> 6.9</td><td>91</td><td>9</td><td> 1</td></tr>\n",
       "\t<tr><th scope=row>40</th><td> 71</td><td>291</td><td>13.8</td><td>90</td><td>6</td><td> 9</td></tr>\n",
       "</tbody>\n",
       "</table>\n"
      ],
      "text/latex": [
       "A data.frame: 15 × 6\n",
       "\\begin{tabular}{r|llllll}\n",
       "  & Ozone & Solar.R & Wind & Temp & Month & Day\\\\\n",
       "  & <int> & <int> & <dbl> & <int> & <int> & <int>\\\\\n",
       "\\hline\n",
       "\t120 &  76 & 203 &  9.7 & 97 & 8 & 28\\\\\n",
       "\t122 &  84 & 237 &  6.3 & 96 & 8 & 30\\\\\n",
       "\t121 & 118 & 225 &  2.3 & 94 & 8 & 29\\\\\n",
       "\t123 &  85 & 188 &  6.3 & 94 & 8 & 31\\\\\n",
       "\t42 &  NA & 259 & 10.9 & 93 & 6 & 11\\\\\n",
       "\t127 &  91 & 189 &  4.6 & 93 & 9 &  4\\\\\n",
       "\t126 &  73 & 183 &  2.8 & 93 & 9 &  3\\\\\n",
       "\t70 &  97 & 272 &  5.7 & 92 & 7 &  9\\\\\n",
       "\t69 &  97 & 267 &  6.3 & 92 & 7 &  8\\\\\n",
       "\t43 &  NA & 250 &  9.2 & 92 & 6 & 12\\\\\n",
       "\t102 &  NA & 222 &  8.6 & 92 & 8 & 10\\\\\n",
       "\t125 &  78 & 197 &  5.1 & 92 & 9 &  2\\\\\n",
       "\t75 &  NA & 291 & 14.9 & 91 & 7 & 14\\\\\n",
       "\t124 &  96 & 167 &  6.9 & 91 & 9 &  1\\\\\n",
       "\t40 &  71 & 291 & 13.8 & 90 & 6 &  9\\\\\n",
       "\\end{tabular}\n"
      ],
      "text/markdown": [
       "\n",
       "A data.frame: 15 × 6\n",
       "\n",
       "| <!--/--> | Ozone &lt;int&gt; | Solar.R &lt;int&gt; | Wind &lt;dbl&gt; | Temp &lt;int&gt; | Month &lt;int&gt; | Day &lt;int&gt; |\n",
       "|---|---|---|---|---|---|---|\n",
       "| 120 |  76 | 203 |  9.7 | 97 | 8 | 28 |\n",
       "| 122 |  84 | 237 |  6.3 | 96 | 8 | 30 |\n",
       "| 121 | 118 | 225 |  2.3 | 94 | 8 | 29 |\n",
       "| 123 |  85 | 188 |  6.3 | 94 | 8 | 31 |\n",
       "| 42 |  NA | 259 | 10.9 | 93 | 6 | 11 |\n",
       "| 127 |  91 | 189 |  4.6 | 93 | 9 |  4 |\n",
       "| 126 |  73 | 183 |  2.8 | 93 | 9 |  3 |\n",
       "| 70 |  97 | 272 |  5.7 | 92 | 7 |  9 |\n",
       "| 69 |  97 | 267 |  6.3 | 92 | 7 |  8 |\n",
       "| 43 |  NA | 250 |  9.2 | 92 | 6 | 12 |\n",
       "| 102 |  NA | 222 |  8.6 | 92 | 8 | 10 |\n",
       "| 125 |  78 | 197 |  5.1 | 92 | 9 |  2 |\n",
       "| 75 |  NA | 291 | 14.9 | 91 | 7 | 14 |\n",
       "| 124 |  96 | 167 |  6.9 | 91 | 9 |  1 |\n",
       "| 40 |  71 | 291 | 13.8 | 90 | 6 |  9 |\n",
       "\n"
      ],
      "text/plain": [
       "    Ozone Solar.R Wind Temp Month Day\n",
       "120  76   203      9.7 97   8     28 \n",
       "122  84   237      6.3 96   8     30 \n",
       "121 118   225      2.3 94   8     29 \n",
       "123  85   188      6.3 94   8     31 \n",
       "42   NA   259     10.9 93   6     11 \n",
       "127  91   189      4.6 93   9      4 \n",
       "126  73   183      2.8 93   9      3 \n",
       "70   97   272      5.7 92   7      9 \n",
       "69   97   267      6.3 92   7      8 \n",
       "43   NA   250      9.2 92   6     12 \n",
       "102  NA   222      8.6 92   8     10 \n",
       "125  78   197      5.1 92   9      2 \n",
       "75   NA   291     14.9 91   7     14 \n",
       "124  96   167      6.9 91   9      1 \n",
       "40   71   291     13.8 90   6      9 "
      ]
     },
     "metadata": {},
     "output_type": "display_data"
    }
   ],
   "source": [
    "# Write your answer here\n",
    "data(\"airquality\")\n",
    "air<-airquality[order(-airquality$Temp, -airquality$Solar.R),]\n",
    "head(air,n=15)"
   ]
  },
  {
   "cell_type": "markdown",
   "id": "b377d82a",
   "metadata": {
    "pycharm": {
     "name": "#%% md\n"
    }
   },
   "source": [
    "#### Question 3\n",
    "\n",
    "* Sort the airquality data frame on its `Temp` in decreasing order and `Solar.R` in increasing order\n",
    "* Display only the first 15 lines of your table"
   ]
  },
  {
   "cell_type": "code",
   "execution_count": 68,
   "id": "34a70e10",
   "metadata": {
    "pycharm": {
     "name": "#%%\n"
    }
   },
   "outputs": [
    {
     "data": {
      "text/html": [
       "<table class=\"dataframe\">\n",
       "<caption>A data.frame: 15 × 6</caption>\n",
       "<thead>\n",
       "\t<tr><th></th><th scope=col>Ozone</th><th scope=col>Solar.R</th><th scope=col>Wind</th><th scope=col>Temp</th><th scope=col>Month</th><th scope=col>Day</th></tr>\n",
       "\t<tr><th></th><th scope=col>&lt;int&gt;</th><th scope=col>&lt;int&gt;</th><th scope=col>&lt;dbl&gt;</th><th scope=col>&lt;int&gt;</th><th scope=col>&lt;int&gt;</th><th scope=col>&lt;int&gt;</th></tr>\n",
       "</thead>\n",
       "<tbody>\n",
       "\t<tr><th scope=row>120</th><td> 76</td><td>203</td><td> 9.7</td><td>97</td><td>8</td><td>28</td></tr>\n",
       "\t<tr><th scope=row>122</th><td> 84</td><td>237</td><td> 6.3</td><td>96</td><td>8</td><td>30</td></tr>\n",
       "\t<tr><th scope=row>123</th><td> 85</td><td>188</td><td> 6.3</td><td>94</td><td>8</td><td>31</td></tr>\n",
       "\t<tr><th scope=row>121</th><td>118</td><td>225</td><td> 2.3</td><td>94</td><td>8</td><td>29</td></tr>\n",
       "\t<tr><th scope=row>126</th><td> 73</td><td>183</td><td> 2.8</td><td>93</td><td>9</td><td> 3</td></tr>\n",
       "\t<tr><th scope=row>127</th><td> 91</td><td>189</td><td> 4.6</td><td>93</td><td>9</td><td> 4</td></tr>\n",
       "\t<tr><th scope=row>42</th><td> NA</td><td>259</td><td>10.9</td><td>93</td><td>6</td><td>11</td></tr>\n",
       "\t<tr><th scope=row>125</th><td> 78</td><td>197</td><td> 5.1</td><td>92</td><td>9</td><td> 2</td></tr>\n",
       "\t<tr><th scope=row>102</th><td> NA</td><td>222</td><td> 8.6</td><td>92</td><td>8</td><td>10</td></tr>\n",
       "\t<tr><th scope=row>43</th><td> NA</td><td>250</td><td> 9.2</td><td>92</td><td>6</td><td>12</td></tr>\n",
       "\t<tr><th scope=row>69</th><td> 97</td><td>267</td><td> 6.3</td><td>92</td><td>7</td><td> 8</td></tr>\n",
       "\t<tr><th scope=row>70</th><td> 97</td><td>272</td><td> 5.7</td><td>92</td><td>7</td><td> 9</td></tr>\n",
       "\t<tr><th scope=row>124</th><td> 96</td><td>167</td><td> 6.9</td><td>91</td><td>9</td><td> 1</td></tr>\n",
       "\t<tr><th scope=row>75</th><td> NA</td><td>291</td><td>14.9</td><td>91</td><td>7</td><td>14</td></tr>\n",
       "\t<tr><th scope=row>101</th><td>110</td><td>207</td><td> 8.0</td><td>90</td><td>8</td><td> 9</td></tr>\n",
       "</tbody>\n",
       "</table>\n"
      ],
      "text/latex": [
       "A data.frame: 15 × 6\n",
       "\\begin{tabular}{r|llllll}\n",
       "  & Ozone & Solar.R & Wind & Temp & Month & Day\\\\\n",
       "  & <int> & <int> & <dbl> & <int> & <int> & <int>\\\\\n",
       "\\hline\n",
       "\t120 &  76 & 203 &  9.7 & 97 & 8 & 28\\\\\n",
       "\t122 &  84 & 237 &  6.3 & 96 & 8 & 30\\\\\n",
       "\t123 &  85 & 188 &  6.3 & 94 & 8 & 31\\\\\n",
       "\t121 & 118 & 225 &  2.3 & 94 & 8 & 29\\\\\n",
       "\t126 &  73 & 183 &  2.8 & 93 & 9 &  3\\\\\n",
       "\t127 &  91 & 189 &  4.6 & 93 & 9 &  4\\\\\n",
       "\t42 &  NA & 259 & 10.9 & 93 & 6 & 11\\\\\n",
       "\t125 &  78 & 197 &  5.1 & 92 & 9 &  2\\\\\n",
       "\t102 &  NA & 222 &  8.6 & 92 & 8 & 10\\\\\n",
       "\t43 &  NA & 250 &  9.2 & 92 & 6 & 12\\\\\n",
       "\t69 &  97 & 267 &  6.3 & 92 & 7 &  8\\\\\n",
       "\t70 &  97 & 272 &  5.7 & 92 & 7 &  9\\\\\n",
       "\t124 &  96 & 167 &  6.9 & 91 & 9 &  1\\\\\n",
       "\t75 &  NA & 291 & 14.9 & 91 & 7 & 14\\\\\n",
       "\t101 & 110 & 207 &  8.0 & 90 & 8 &  9\\\\\n",
       "\\end{tabular}\n"
      ],
      "text/markdown": [
       "\n",
       "A data.frame: 15 × 6\n",
       "\n",
       "| <!--/--> | Ozone &lt;int&gt; | Solar.R &lt;int&gt; | Wind &lt;dbl&gt; | Temp &lt;int&gt; | Month &lt;int&gt; | Day &lt;int&gt; |\n",
       "|---|---|---|---|---|---|---|\n",
       "| 120 |  76 | 203 |  9.7 | 97 | 8 | 28 |\n",
       "| 122 |  84 | 237 |  6.3 | 96 | 8 | 30 |\n",
       "| 123 |  85 | 188 |  6.3 | 94 | 8 | 31 |\n",
       "| 121 | 118 | 225 |  2.3 | 94 | 8 | 29 |\n",
       "| 126 |  73 | 183 |  2.8 | 93 | 9 |  3 |\n",
       "| 127 |  91 | 189 |  4.6 | 93 | 9 |  4 |\n",
       "| 42 |  NA | 259 | 10.9 | 93 | 6 | 11 |\n",
       "| 125 |  78 | 197 |  5.1 | 92 | 9 |  2 |\n",
       "| 102 |  NA | 222 |  8.6 | 92 | 8 | 10 |\n",
       "| 43 |  NA | 250 |  9.2 | 92 | 6 | 12 |\n",
       "| 69 |  97 | 267 |  6.3 | 92 | 7 |  8 |\n",
       "| 70 |  97 | 272 |  5.7 | 92 | 7 |  9 |\n",
       "| 124 |  96 | 167 |  6.9 | 91 | 9 |  1 |\n",
       "| 75 |  NA | 291 | 14.9 | 91 | 7 | 14 |\n",
       "| 101 | 110 | 207 |  8.0 | 90 | 8 |  9 |\n",
       "\n"
      ],
      "text/plain": [
       "    Ozone Solar.R Wind Temp Month Day\n",
       "120  76   203      9.7 97   8     28 \n",
       "122  84   237      6.3 96   8     30 \n",
       "123  85   188      6.3 94   8     31 \n",
       "121 118   225      2.3 94   8     29 \n",
       "126  73   183      2.8 93   9      3 \n",
       "127  91   189      4.6 93   9      4 \n",
       "42   NA   259     10.9 93   6     11 \n",
       "125  78   197      5.1 92   9      2 \n",
       "102  NA   222      8.6 92   8     10 \n",
       "43   NA   250      9.2 92   6     12 \n",
       "69   97   267      6.3 92   7      8 \n",
       "70   97   272      5.7 92   7      9 \n",
       "124  96   167      6.9 91   9      1 \n",
       "75   NA   291     14.9 91   7     14 \n",
       "101 110   207      8.0 90   8      9 "
      ]
     },
     "metadata": {},
     "output_type": "display_data"
    }
   ],
   "source": [
    "# Write your answer here\n",
    "data(\"airquality\")\n",
    "air2<-airquality[order(-airquality$Temp, airquality$Solar.R),]\n",
    "head(air2,n=15)"
   ]
  },
  {
   "cell_type": "markdown",
   "id": "25e9a77e",
   "metadata": {
    "pycharm": {
     "name": "#%% md\n"
    }
   },
   "source": [
    "#### Question 4\n",
    "\n",
    "* There are various ways to select a subset of observations from a data frame.\n",
    "\n",
    "* Consult your [R Reference Card](https://cran.r-project.org/doc/contrib/Baggott-refcard-v2.pdf), see `Data Selection and Manipulation` section.\n",
    "  * What operations can you use to select all observations where the temperature is 72. Give at least two different answers to this question\n",
    "\n"
   ]
  },
  {
   "cell_type": "code",
   "execution_count": 75,
   "id": "5f6a8531",
   "metadata": {
    "pycharm": {
     "name": "#%%\n"
    }
   },
   "outputs": [
    {
     "data": {
      "text/html": [
       "<table class=\"dataframe\">\n",
       "<caption>A data.frame: 3 × 6</caption>\n",
       "<thead>\n",
       "\t<tr><th></th><th scope=col>Ozone</th><th scope=col>Solar.R</th><th scope=col>Wind</th><th scope=col>Temp</th><th scope=col>Month</th><th scope=col>Day</th></tr>\n",
       "\t<tr><th></th><th scope=col>&lt;int&gt;</th><th scope=col>&lt;int&gt;</th><th scope=col>&lt;dbl&gt;</th><th scope=col>&lt;int&gt;</th><th scope=col>&lt;int&gt;</th><th scope=col>&lt;int&gt;</th></tr>\n",
       "</thead>\n",
       "<tbody>\n",
       "\t<tr><th scope=row>2</th><td>36</td><td>118</td><td> 8.0</td><td>72</td><td>5</td><td> 2</td></tr>\n",
       "\t<tr><th scope=row>48</th><td>37</td><td>284</td><td>20.7</td><td>72</td><td>6</td><td>17</td></tr>\n",
       "\t<tr><th scope=row>114</th><td> 9</td><td> 36</td><td>14.3</td><td>72</td><td>8</td><td>22</td></tr>\n",
       "</tbody>\n",
       "</table>\n"
      ],
      "text/latex": [
       "A data.frame: 3 × 6\n",
       "\\begin{tabular}{r|llllll}\n",
       "  & Ozone & Solar.R & Wind & Temp & Month & Day\\\\\n",
       "  & <int> & <int> & <dbl> & <int> & <int> & <int>\\\\\n",
       "\\hline\n",
       "\t2 & 36 & 118 &  8.0 & 72 & 5 &  2\\\\\n",
       "\t48 & 37 & 284 & 20.7 & 72 & 6 & 17\\\\\n",
       "\t114 &  9 &  36 & 14.3 & 72 & 8 & 22\\\\\n",
       "\\end{tabular}\n"
      ],
      "text/markdown": [
       "\n",
       "A data.frame: 3 × 6\n",
       "\n",
       "| <!--/--> | Ozone &lt;int&gt; | Solar.R &lt;int&gt; | Wind &lt;dbl&gt; | Temp &lt;int&gt; | Month &lt;int&gt; | Day &lt;int&gt; |\n",
       "|---|---|---|---|---|---|---|\n",
       "| 2 | 36 | 118 |  8.0 | 72 | 5 |  2 |\n",
       "| 48 | 37 | 284 | 20.7 | 72 | 6 | 17 |\n",
       "| 114 |  9 |  36 | 14.3 | 72 | 8 | 22 |\n",
       "\n"
      ],
      "text/plain": [
       "    Ozone Solar.R Wind Temp Month Day\n",
       "2   36    118      8.0 72   5      2 \n",
       "48  37    284     20.7 72   6     17 \n",
       "114  9     36     14.3 72   8     22 "
      ]
     },
     "metadata": {},
     "output_type": "display_data"
    },
    {
     "data": {
      "text/html": [
       "<table class=\"dataframe\">\n",
       "<caption>A data.frame: 3 × 6</caption>\n",
       "<thead>\n",
       "\t<tr><th></th><th scope=col>Ozone</th><th scope=col>Solar.R</th><th scope=col>Wind</th><th scope=col>Temp</th><th scope=col>Month</th><th scope=col>Day</th></tr>\n",
       "\t<tr><th></th><th scope=col>&lt;int&gt;</th><th scope=col>&lt;int&gt;</th><th scope=col>&lt;dbl&gt;</th><th scope=col>&lt;int&gt;</th><th scope=col>&lt;int&gt;</th><th scope=col>&lt;int&gt;</th></tr>\n",
       "</thead>\n",
       "<tbody>\n",
       "\t<tr><th scope=row>2</th><td>36</td><td>118</td><td> 8.0</td><td>72</td><td>5</td><td> 2</td></tr>\n",
       "\t<tr><th scope=row>48</th><td>37</td><td>284</td><td>20.7</td><td>72</td><td>6</td><td>17</td></tr>\n",
       "\t<tr><th scope=row>114</th><td> 9</td><td> 36</td><td>14.3</td><td>72</td><td>8</td><td>22</td></tr>\n",
       "</tbody>\n",
       "</table>\n"
      ],
      "text/latex": [
       "A data.frame: 3 × 6\n",
       "\\begin{tabular}{r|llllll}\n",
       "  & Ozone & Solar.R & Wind & Temp & Month & Day\\\\\n",
       "  & <int> & <int> & <dbl> & <int> & <int> & <int>\\\\\n",
       "\\hline\n",
       "\t2 & 36 & 118 &  8.0 & 72 & 5 &  2\\\\\n",
       "\t48 & 37 & 284 & 20.7 & 72 & 6 & 17\\\\\n",
       "\t114 &  9 &  36 & 14.3 & 72 & 8 & 22\\\\\n",
       "\\end{tabular}\n"
      ],
      "text/markdown": [
       "\n",
       "A data.frame: 3 × 6\n",
       "\n",
       "| <!--/--> | Ozone &lt;int&gt; | Solar.R &lt;int&gt; | Wind &lt;dbl&gt; | Temp &lt;int&gt; | Month &lt;int&gt; | Day &lt;int&gt; |\n",
       "|---|---|---|---|---|---|---|\n",
       "| 2 | 36 | 118 |  8.0 | 72 | 5 |  2 |\n",
       "| 48 | 37 | 284 | 20.7 | 72 | 6 | 17 |\n",
       "| 114 |  9 |  36 | 14.3 | 72 | 8 | 22 |\n",
       "\n"
      ],
      "text/plain": [
       "    Ozone Solar.R Wind Temp Month Day\n",
       "2   36    118      8.0 72   5      2 \n",
       "48  37    284     20.7 72   6     17 \n",
       "114  9     36     14.3 72   8     22 "
      ]
     },
     "metadata": {},
     "output_type": "display_data"
    }
   ],
   "source": [
    "# option 1\n",
    "temp_72<-airquality$Temp==72\n",
    "airquality[temp_72,]\n",
    "#option 2\n",
    "subset(airquality,  Temp==72)"
   ]
  },
  {
   "cell_type": "markdown",
   "id": "f794ee74",
   "metadata": {
    "pycharm": {
     "name": "#%% md\n"
    }
   },
   "source": [
    "#### Question 6\n",
    "\n",
    "* You may have noticed when working with the `airqulity` data that some values show as `NA`\n",
    " * `NA` stands for not available, or missing values.\n",
    "* A major part of data wrangling consists of cleaning missing values by either:\n",
    "  * Dropping the lines that have missing values\n",
    "   * Sometimes we can drop the column with missing values if the column is made of predominantly missing values\n",
    "  * Imputing the missing values, which uses educated guesses (or more complex algorithms) to fill the missing values\n",
    "  \n",
    "* Find and remove all rows that are missing values for the `Solar.R` or `Ozone` variables\n",
    "* Save the cleaned data to a new data frame called airquality_no_na\n",
    "  * How many lines have been removed?\n"
   ]
  },
  {
   "cell_type": "code",
   "execution_count": 115,
   "id": "4b5ade16",
   "metadata": {
    "pycharm": {
     "name": "#%%\n"
    }
   },
   "outputs": [
    {
     "name": "stdout",
     "output_type": "stream",
     "text": [
      "37 rows have been removed"
     ]
    }
   ],
   "source": [
    "# Write your answer here\n",
    "air3 <- airquality[complete.cases(airquality$Solar.R), ]           \n",
    "airquality_no_na<- airquality[complete.cases(airquality$Ozone), ]   \n",
    "#airquality_no_na\n",
    "answer<-nrow(airquality)-nrow(airquality_no_na)\n",
    "cat(answer, \"rows have been removed\")"
   ]
  },
  {
   "cell_type": "markdown",
   "id": "47fab9ee",
   "metadata": {
    "pycharm": {
     "name": "#%% md\n"
    }
   },
   "source": [
    "#### Question 7\n",
    "* Let's use a different strategy and impute the missing value.\n",
    "  * replace the missing values for Solar.R using that month's average.\n",
    "  * Example:\n",
    "    * The missing value for line 6 should be replaced with the average for month 5.\n",
    "    * The missing value for line 97 should be replaced with the average for month 8."
   ]
  },
  {
   "cell_type": "code",
   "execution_count": 116,
   "id": "fe11d9dd",
   "metadata": {
    "pycharm": {
     "name": "#%%\n"
    }
   },
   "outputs": [],
   "source": [
    "# Write your answer here\n",
    "data(airquality)\n",
    "missingS<-is.na(airquality$Solar.R)\n",
    "#airquality[missingS,]\n",
    "#only need means for May and august\n",
    "#let's start with may \n",
    "may<-subset(airquality, Month==5)$Solar.R\n",
    "may_mean<-mean(may,na.rm=TRUE)\n",
    "airquality[is.na(airquality$Solar.R)&airquality$Month==5,'Solar.R']<-may_mean\n",
    "#checking for any NA in may\n",
    "#airquality[airquality$Month==5,]\n",
    "#yay! let's do it for august \n",
    "aug<-subset(airquality, Month==8)$Solar.R\n",
    "aug_mean<-mean(aug,na.rm=TRUE)\n",
    "airquality[is.na(airquality$Solar.R)&airquality$Month==8,'Solar.R']<-aug_mean\n",
    "#checking for any NA in august\n",
    "#airquality[airquality$Month==8,]"
   ]
  }
 ],
 "metadata": {
  "kernelspec": {
   "display_name": "R",
   "language": "R",
   "name": "ir"
  },
  "language_info": {
   "codemirror_mode": "r",
   "file_extension": ".r",
   "mimetype": "text/x-r-source",
   "name": "R",
   "pygments_lexer": "r",
   "version": "4.2.1"
  }
 },
 "nbformat": 4,
 "nbformat_minor": 5
}
