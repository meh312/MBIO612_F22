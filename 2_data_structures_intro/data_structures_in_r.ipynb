{
 "cells": [
  {
   "cell_type": "markdown",
   "id": "e1ef8982",
   "metadata": {
    "pycharm": {
     "name": "#%% md\n"
    }
   },
   "source": [
    "### Question 0\n",
    "\n",
    "*  Draw a concepts diagram that uses all the following Github terminology \n",
    "   * Include any missing keywords that will simplify the concepts diagrams \n",
    "\n",
    "\n",
    "`Push`, `Repository`, `Clone`, `Pull`, `Pull Request`, `Branch`, `Merging`, `Github Client`, `README file`, `Private or Public`\n"
   ]
  },
  {
   "cell_type": "code",
   "execution_count": null,
   "id": "6961c972",
   "metadata": {
    "pycharm": {
     "name": "#%%\n"
    }
   },
   "outputs": [],
   "source": [
    "# Add your photo here"
   ]
  },
  {
   "cell_type": "markdown",
   "id": "d82929c0",
   "metadata": {
    "pycharm": {
     "name": "#%% md\n"
    }
   },
   "source": [
    "#### Question 1\n",
    "\n",
    "`matrix(c(1,2,3,4,5,6) , nrow = 3)`\n",
    "\n",
    "* Running the expression produces the following matrix\n",
    "\n",
    "|  |  |\n",
    "|---|---|\n",
    "| 1 | 4 |\n",
    "| 2 | 5 |\n",
    "| 3 | 6 |\n",
    "\n",
    "* How can you modify the call to `matrix()` to produce the following matrix instead?\n",
    "\n",
    "|   | col_1 |  col_2 |\n",
    "| --- |---|---|\n",
    "| row_1 | 1 | 2 |\n",
    "| row_2 | 3 | 4 |\n",
    "| row_3 | 5 | 6 |\n",
    "\n",
    "* Note that you need to name the columns (col_1 and col_2) and name the rows (row_1, row_2, row_3)\n",
    "\n",
    "Hint: Use the `?` symbol to invoke the matrix documentation"
   ]
  },
  {
   "cell_type": "code",
   "execution_count": 10,
   "id": "fbbfafdc",
   "metadata": {},
   "outputs": [
    {
     "data": {
      "text/html": [
       "<table class=\"dataframe\">\n",
       "<caption>A matrix: 3 × 2 of type dbl</caption>\n",
       "<thead>\n",
       "\t<tr><th></th><th scope=col>col_1</th><th scope=col>col_2</th></tr>\n",
       "</thead>\n",
       "<tbody>\n",
       "\t<tr><th scope=row>row_1</th><td>1</td><td>4</td></tr>\n",
       "\t<tr><th scope=row>row_2</th><td>2</td><td>5</td></tr>\n",
       "\t<tr><th scope=row>row_3</th><td>3</td><td>6</td></tr>\n",
       "</tbody>\n",
       "</table>\n"
      ],
      "text/latex": [
       "A matrix: 3 × 2 of type dbl\n",
       "\\begin{tabular}{r|ll}\n",
       "  & col\\_1 & col\\_2\\\\\n",
       "\\hline\n",
       "\trow\\_1 & 1 & 4\\\\\n",
       "\trow\\_2 & 2 & 5\\\\\n",
       "\trow\\_3 & 3 & 6\\\\\n",
       "\\end{tabular}\n"
      ],
      "text/markdown": [
       "\n",
       "A matrix: 3 × 2 of type dbl\n",
       "\n",
       "| <!--/--> | col_1 | col_2 |\n",
       "|---|---|---|\n",
       "| row_1 | 1 | 4 |\n",
       "| row_2 | 2 | 5 |\n",
       "| row_3 | 3 | 6 |\n",
       "\n"
      ],
      "text/plain": [
       "      col_1 col_2\n",
       "row_1 1     4    \n",
       "row_2 2     5    \n",
       "row_3 3     6    "
      ]
     },
     "metadata": {},
     "output_type": "display_data"
    }
   ],
   "source": [
    "# Add your photo here\n",
    "x <- c(\"col_1\",\"col_2\")\n",
    "y <- c(\"row_1\",\"row_2\", \"row_3\")\n",
    "m<-matrix(c(1,2,3,4,5,6) , nrow = 3, dimnames=list(y,x))\n",
    "m"
   ]
  },
  {
   "cell_type": "markdown",
   "id": "1b89533c",
   "metadata": {
    "pycharm": {
     "name": "#%% md\n"
    }
   },
   "source": [
    "#### Question 1\n",
    "\n",
    "`matrix(c(1,2,3,4,5,6) , nrow = 3)`\n",
    "\n",
    "* Running the expression produces the following matrix\n",
    "\n",
    "|  |  |\n",
    "|---|---|\n",
    "| 1 | 4 |\n",
    "| 2 | 5 |\n",
    "| 3 | 6 |\n",
    "\n",
    "* How can you modify the call to `matrix()` to produce the following matrix instead?\n",
    "\n",
    "|   | col_1 |  col_2 |\n",
    "| --- |---|---|\n",
    "| row_1 | 1 | 2 |\n",
    "| row_2 | 3 | 4 |\n",
    "| row_3 | 5 | 6 |\n",
    "\n",
    "* Note that you need to name the columns (col_1 and col_2) and name the rows (row_1, row_2, row_3)\n",
    "\n",
    "Hint: Use the `?` symbol to invoke the matrix documentation"
   ]
  },
  {
   "cell_type": "code",
   "execution_count": 8,
   "id": "a725cc99",
   "metadata": {
    "pycharm": {
     "name": "#%%\n"
    }
   },
   "outputs": [],
   "source": [
    "# Write your answer here\n",
    "?matrix()"
   ]
  },
  {
   "cell_type": "markdown",
   "id": "ba4962d3",
   "metadata": {
    "pycharm": {
     "name": "#%% md\n"
    }
   },
   "source": [
    "#### Question 2\n",
    "\n",
    "* Load then sort the airquality data frame on its `Temp` and `Solar.R` columns in reverse order (largest to smallest values)\n",
    "  * The function to sort a data frame is called order\n",
    "* Display only the first 15 lines of your table"
   ]
  },
  {
   "cell_type": "code",
   "execution_count": null,
   "id": "55d4ecc2",
   "metadata": {
    "pycharm": {
     "name": "#%%\n"
    }
   },
   "outputs": [],
   "source": [
    "# Write your answer here\n",
    "colnames(\"airquality\")"
   ]
  },
  {
   "cell_type": "markdown",
   "id": "b377d82a",
   "metadata": {
    "pycharm": {
     "name": "#%% md\n"
    }
   },
   "source": [
    "#### Question 3\n",
    "\n",
    "* Sort the airquality data frame on its `Temp` in decreasing order and `Solar.R` in increasing order\n",
    "* Display only the first 15 lines of your table"
   ]
  },
  {
   "cell_type": "code",
   "execution_count": null,
   "id": "34a70e10",
   "metadata": {
    "pycharm": {
     "name": "#%%\n"
    }
   },
   "outputs": [],
   "source": [
    "# Write your answer here"
   ]
  },
  {
   "cell_type": "markdown",
   "id": "25e9a77e",
   "metadata": {
    "pycharm": {
     "name": "#%% md\n"
    }
   },
   "source": [
    "#### Question 4\n",
    "\n",
    "* There are various ways to select a subset of observations from a data frame.\n",
    "\n",
    "* Consult your [R Reference Card](https://cran.r-project.org/doc/contrib/Baggott-refcard-v2.pdf), see `Data Selection and Manipulation` section.\n",
    "  * What operations can you use to select all observations where the temperature is 72. Give at least two different answers to this question\n",
    "\n"
   ]
  },
  {
   "cell_type": "code",
   "execution_count": 2,
   "id": "5f6a8531",
   "metadata": {
    "pycharm": {
     "name": "#%%\n"
    }
   },
   "outputs": [],
   "source": [
    "# Write your answer here"
   ]
  },
  {
   "cell_type": "markdown",
   "id": "f794ee74",
   "metadata": {
    "pycharm": {
     "name": "#%% md\n"
    }
   },
   "source": [
    "#### Question 6\n",
    "\n",
    "* You may have noticed when working with the `airqulity` data that some values show as `NA`\n",
    " * `NA` stands for not available, or missing values.\n",
    "* A major part of data wrangling consists of cleaning missing values by either:\n",
    "  * Dropping the lines that have missing values\n",
    "   * Sometimes we can drop the column with missing values if the column is made of predominantly missing values\n",
    "  * Imputing the missing values, which uses educated guesses (or more complex algorithms) to fill the missing values\n",
    "  \n",
    "* Find and remove all rows that are missing values for the `Solar.R` or `Ozone` variables\n",
    "* Save the cleaned data to a new data frame called airquality_no_na\n",
    "  * How many lines have been removed?\n"
   ]
  },
  {
   "cell_type": "code",
   "execution_count": null,
   "id": "4b5ade16",
   "metadata": {
    "pycharm": {
     "name": "#%%\n"
    }
   },
   "outputs": [],
   "source": [
    "# Write your answer here"
   ]
  },
  {
   "cell_type": "markdown",
   "id": "47fab9ee",
   "metadata": {
    "pycharm": {
     "name": "#%% md\n"
    }
   },
   "source": [
    "#### Question 7\n",
    "* Let's use a different strategy and impute the missing value.\n",
    "  * replace the missing values for Solar.R using that month's average.\n",
    "  * Example:\n",
    "    * The missing value for line 6 should be replaced with the average for month 5.\n",
    "    * The missing value for line 97 should be replaced with the average for month 8."
   ]
  },
  {
   "cell_type": "code",
   "execution_count": null,
   "id": "fe11d9dd",
   "metadata": {
    "pycharm": {
     "name": "#%%\n"
    }
   },
   "outputs": [],
   "source": [
    "# Write your answer here"
   ]
  }
 ],
 "metadata": {
  "kernelspec": {
   "display_name": "R",
   "language": "R",
   "name": "ir"
  },
  "language_info": {
   "codemirror_mode": "r",
   "file_extension": ".r",
   "mimetype": "text/x-r-source",
   "name": "R",
   "pygments_lexer": "r",
   "version": "4.2.1"
  }
 },
 "nbformat": 4,
 "nbformat_minor": 5
}
