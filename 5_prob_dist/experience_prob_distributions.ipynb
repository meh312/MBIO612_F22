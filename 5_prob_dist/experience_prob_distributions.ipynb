{
 "cells": [
  {
   "cell_type": "code",
   "execution_count": 2,
   "id": "de0b52d1",
   "metadata": {
    "pycharm": {
     "name": "#%%\n"
    }
   },
   "outputs": [],
   "source": [
    " library(ggplot2)"
   ]
  },
  {
   "cell_type": "markdown",
   "id": "526a84d8",
   "metadata": {
    "pycharm": {
     "name": "#%% md\n"
    }
   },
   "source": [
    "### Q0\n",
    "\n",
    "* Draw a concepts diagram that uses all the following terminology covered in this module\n",
    "\n",
    "* Probability mass function, outcome, expriment, sample space, Gaussian, probanility mass funciton, probability distribution, binomial, maximum likelyhood, parameters, mean and variance, lambda, sample, p-value"
   ]
  },
  {
   "cell_type": "code",
   "execution_count": 1,
   "id": "ef2e6b4d",
   "metadata": {
    "pycharm": {
     "name": "#%%\n"
    }
   },
   "outputs": [],
   "source": [
    "### Write your code here\n"
   ]
  },
  {
   "cell_type": "markdown",
   "id": "b4207bca",
   "metadata": {
    "pycharm": {
     "name": "#%% md\n"
    }
   },
   "source": [
    "###  Q1\n",
    "Write a function that returns the sample space for the experiment consisting of samplign a 4 digit PIN\n",
    "  * Call your function get_all_perms\n",
    "\n",
    "  * Essentially, your function does not take any arguments but returns the sample space consisting of all the four digit numbers\n",
    "   \n",
    "  * The function `expand.grid` expand.grid creates a data frame from all combinations of the supplied vectors or factors. For example:\n",
    " \n",
    "  ```expand.grid(0:1, 0:1, 0:1)```\n",
    "\n",
    "* generates  \n",
    "\n",
    "![](https://www.dropbox.com/s/cnlt4fg8rxd01d6/expand.grid.png?dl=1)\n",
    " \n",
    "\n",
    "* Strategy, use `expand.grid` to generate the permutation for four verctation in the range 0:9\n",
    "  * Return the number of rows in that `data.frame`\n",
    "\n",
    "  "
   ]
  },
  {
   "cell_type": "code",
   "execution_count": 92,
   "id": "e559210c",
   "metadata": {
    "pycharm": {
     "name": "#%%\n"
    }
   },
   "outputs": [],
   "source": [
    "### Write your code here\n",
    "get_all_perms<-function(){\n",
    "    expand.grid(0:9, 0:9, 0:9,0:9)\n",
    "}\n"
   ]
  },
  {
   "cell_type": "code",
   "execution_count": 93,
   "id": "5c7bf775",
   "metadata": {
    "pycharm": {
     "name": "#%%\n"
    }
   },
   "outputs": [
    {
     "data": {
      "text/html": [
       "<table class=\"dataframe\">\n",
       "<caption>A data.frame: 10000 × 4</caption>\n",
       "<thead>\n",
       "\t<tr><th scope=col>Var1</th><th scope=col>Var2</th><th scope=col>Var3</th><th scope=col>Var4</th></tr>\n",
       "\t<tr><th scope=col>&lt;int&gt;</th><th scope=col>&lt;int&gt;</th><th scope=col>&lt;int&gt;</th><th scope=col>&lt;int&gt;</th></tr>\n",
       "</thead>\n",
       "<tbody>\n",
       "\t<tr><td>0</td><td>0</td><td>0</td><td>0</td></tr>\n",
       "\t<tr><td>1</td><td>0</td><td>0</td><td>0</td></tr>\n",
       "\t<tr><td>2</td><td>0</td><td>0</td><td>0</td></tr>\n",
       "\t<tr><td>3</td><td>0</td><td>0</td><td>0</td></tr>\n",
       "\t<tr><td>4</td><td>0</td><td>0</td><td>0</td></tr>\n",
       "\t<tr><td>5</td><td>0</td><td>0</td><td>0</td></tr>\n",
       "\t<tr><td>6</td><td>0</td><td>0</td><td>0</td></tr>\n",
       "\t<tr><td>7</td><td>0</td><td>0</td><td>0</td></tr>\n",
       "\t<tr><td>8</td><td>0</td><td>0</td><td>0</td></tr>\n",
       "\t<tr><td>9</td><td>0</td><td>0</td><td>0</td></tr>\n",
       "\t<tr><td>0</td><td>1</td><td>0</td><td>0</td></tr>\n",
       "\t<tr><td>1</td><td>1</td><td>0</td><td>0</td></tr>\n",
       "\t<tr><td>2</td><td>1</td><td>0</td><td>0</td></tr>\n",
       "\t<tr><td>3</td><td>1</td><td>0</td><td>0</td></tr>\n",
       "\t<tr><td>4</td><td>1</td><td>0</td><td>0</td></tr>\n",
       "\t<tr><td>5</td><td>1</td><td>0</td><td>0</td></tr>\n",
       "\t<tr><td>6</td><td>1</td><td>0</td><td>0</td></tr>\n",
       "\t<tr><td>7</td><td>1</td><td>0</td><td>0</td></tr>\n",
       "\t<tr><td>8</td><td>1</td><td>0</td><td>0</td></tr>\n",
       "\t<tr><td>9</td><td>1</td><td>0</td><td>0</td></tr>\n",
       "\t<tr><td>0</td><td>2</td><td>0</td><td>0</td></tr>\n",
       "\t<tr><td>1</td><td>2</td><td>0</td><td>0</td></tr>\n",
       "\t<tr><td>2</td><td>2</td><td>0</td><td>0</td></tr>\n",
       "\t<tr><td>3</td><td>2</td><td>0</td><td>0</td></tr>\n",
       "\t<tr><td>4</td><td>2</td><td>0</td><td>0</td></tr>\n",
       "\t<tr><td>5</td><td>2</td><td>0</td><td>0</td></tr>\n",
       "\t<tr><td>6</td><td>2</td><td>0</td><td>0</td></tr>\n",
       "\t<tr><td>7</td><td>2</td><td>0</td><td>0</td></tr>\n",
       "\t<tr><td>8</td><td>2</td><td>0</td><td>0</td></tr>\n",
       "\t<tr><td>9</td><td>2</td><td>0</td><td>0</td></tr>\n",
       "\t<tr><td>⋮</td><td>⋮</td><td>⋮</td><td>⋮</td></tr>\n",
       "\t<tr><td>0</td><td>7</td><td>9</td><td>9</td></tr>\n",
       "\t<tr><td>1</td><td>7</td><td>9</td><td>9</td></tr>\n",
       "\t<tr><td>2</td><td>7</td><td>9</td><td>9</td></tr>\n",
       "\t<tr><td>3</td><td>7</td><td>9</td><td>9</td></tr>\n",
       "\t<tr><td>4</td><td>7</td><td>9</td><td>9</td></tr>\n",
       "\t<tr><td>5</td><td>7</td><td>9</td><td>9</td></tr>\n",
       "\t<tr><td>6</td><td>7</td><td>9</td><td>9</td></tr>\n",
       "\t<tr><td>7</td><td>7</td><td>9</td><td>9</td></tr>\n",
       "\t<tr><td>8</td><td>7</td><td>9</td><td>9</td></tr>\n",
       "\t<tr><td>9</td><td>7</td><td>9</td><td>9</td></tr>\n",
       "\t<tr><td>0</td><td>8</td><td>9</td><td>9</td></tr>\n",
       "\t<tr><td>1</td><td>8</td><td>9</td><td>9</td></tr>\n",
       "\t<tr><td>2</td><td>8</td><td>9</td><td>9</td></tr>\n",
       "\t<tr><td>3</td><td>8</td><td>9</td><td>9</td></tr>\n",
       "\t<tr><td>4</td><td>8</td><td>9</td><td>9</td></tr>\n",
       "\t<tr><td>5</td><td>8</td><td>9</td><td>9</td></tr>\n",
       "\t<tr><td>6</td><td>8</td><td>9</td><td>9</td></tr>\n",
       "\t<tr><td>7</td><td>8</td><td>9</td><td>9</td></tr>\n",
       "\t<tr><td>8</td><td>8</td><td>9</td><td>9</td></tr>\n",
       "\t<tr><td>9</td><td>8</td><td>9</td><td>9</td></tr>\n",
       "\t<tr><td>0</td><td>9</td><td>9</td><td>9</td></tr>\n",
       "\t<tr><td>1</td><td>9</td><td>9</td><td>9</td></tr>\n",
       "\t<tr><td>2</td><td>9</td><td>9</td><td>9</td></tr>\n",
       "\t<tr><td>3</td><td>9</td><td>9</td><td>9</td></tr>\n",
       "\t<tr><td>4</td><td>9</td><td>9</td><td>9</td></tr>\n",
       "\t<tr><td>5</td><td>9</td><td>9</td><td>9</td></tr>\n",
       "\t<tr><td>6</td><td>9</td><td>9</td><td>9</td></tr>\n",
       "\t<tr><td>7</td><td>9</td><td>9</td><td>9</td></tr>\n",
       "\t<tr><td>8</td><td>9</td><td>9</td><td>9</td></tr>\n",
       "\t<tr><td>9</td><td>9</td><td>9</td><td>9</td></tr>\n",
       "</tbody>\n",
       "</table>\n"
      ],
      "text/latex": [
       "A data.frame: 10000 × 4\n",
       "\\begin{tabular}{llll}\n",
       " Var1 & Var2 & Var3 & Var4\\\\\n",
       " <int> & <int> & <int> & <int>\\\\\n",
       "\\hline\n",
       "\t 0 & 0 & 0 & 0\\\\\n",
       "\t 1 & 0 & 0 & 0\\\\\n",
       "\t 2 & 0 & 0 & 0\\\\\n",
       "\t 3 & 0 & 0 & 0\\\\\n",
       "\t 4 & 0 & 0 & 0\\\\\n",
       "\t 5 & 0 & 0 & 0\\\\\n",
       "\t 6 & 0 & 0 & 0\\\\\n",
       "\t 7 & 0 & 0 & 0\\\\\n",
       "\t 8 & 0 & 0 & 0\\\\\n",
       "\t 9 & 0 & 0 & 0\\\\\n",
       "\t 0 & 1 & 0 & 0\\\\\n",
       "\t 1 & 1 & 0 & 0\\\\\n",
       "\t 2 & 1 & 0 & 0\\\\\n",
       "\t 3 & 1 & 0 & 0\\\\\n",
       "\t 4 & 1 & 0 & 0\\\\\n",
       "\t 5 & 1 & 0 & 0\\\\\n",
       "\t 6 & 1 & 0 & 0\\\\\n",
       "\t 7 & 1 & 0 & 0\\\\\n",
       "\t 8 & 1 & 0 & 0\\\\\n",
       "\t 9 & 1 & 0 & 0\\\\\n",
       "\t 0 & 2 & 0 & 0\\\\\n",
       "\t 1 & 2 & 0 & 0\\\\\n",
       "\t 2 & 2 & 0 & 0\\\\\n",
       "\t 3 & 2 & 0 & 0\\\\\n",
       "\t 4 & 2 & 0 & 0\\\\\n",
       "\t 5 & 2 & 0 & 0\\\\\n",
       "\t 6 & 2 & 0 & 0\\\\\n",
       "\t 7 & 2 & 0 & 0\\\\\n",
       "\t 8 & 2 & 0 & 0\\\\\n",
       "\t 9 & 2 & 0 & 0\\\\\n",
       "\t ⋮ & ⋮ & ⋮ & ⋮\\\\\n",
       "\t 0 & 7 & 9 & 9\\\\\n",
       "\t 1 & 7 & 9 & 9\\\\\n",
       "\t 2 & 7 & 9 & 9\\\\\n",
       "\t 3 & 7 & 9 & 9\\\\\n",
       "\t 4 & 7 & 9 & 9\\\\\n",
       "\t 5 & 7 & 9 & 9\\\\\n",
       "\t 6 & 7 & 9 & 9\\\\\n",
       "\t 7 & 7 & 9 & 9\\\\\n",
       "\t 8 & 7 & 9 & 9\\\\\n",
       "\t 9 & 7 & 9 & 9\\\\\n",
       "\t 0 & 8 & 9 & 9\\\\\n",
       "\t 1 & 8 & 9 & 9\\\\\n",
       "\t 2 & 8 & 9 & 9\\\\\n",
       "\t 3 & 8 & 9 & 9\\\\\n",
       "\t 4 & 8 & 9 & 9\\\\\n",
       "\t 5 & 8 & 9 & 9\\\\\n",
       "\t 6 & 8 & 9 & 9\\\\\n",
       "\t 7 & 8 & 9 & 9\\\\\n",
       "\t 8 & 8 & 9 & 9\\\\\n",
       "\t 9 & 8 & 9 & 9\\\\\n",
       "\t 0 & 9 & 9 & 9\\\\\n",
       "\t 1 & 9 & 9 & 9\\\\\n",
       "\t 2 & 9 & 9 & 9\\\\\n",
       "\t 3 & 9 & 9 & 9\\\\\n",
       "\t 4 & 9 & 9 & 9\\\\\n",
       "\t 5 & 9 & 9 & 9\\\\\n",
       "\t 6 & 9 & 9 & 9\\\\\n",
       "\t 7 & 9 & 9 & 9\\\\\n",
       "\t 8 & 9 & 9 & 9\\\\\n",
       "\t 9 & 9 & 9 & 9\\\\\n",
       "\\end{tabular}\n"
      ],
      "text/markdown": [
       "\n",
       "A data.frame: 10000 × 4\n",
       "\n",
       "| Var1 &lt;int&gt; | Var2 &lt;int&gt; | Var3 &lt;int&gt; | Var4 &lt;int&gt; |\n",
       "|---|---|---|---|\n",
       "| 0 | 0 | 0 | 0 |\n",
       "| 1 | 0 | 0 | 0 |\n",
       "| 2 | 0 | 0 | 0 |\n",
       "| 3 | 0 | 0 | 0 |\n",
       "| 4 | 0 | 0 | 0 |\n",
       "| 5 | 0 | 0 | 0 |\n",
       "| 6 | 0 | 0 | 0 |\n",
       "| 7 | 0 | 0 | 0 |\n",
       "| 8 | 0 | 0 | 0 |\n",
       "| 9 | 0 | 0 | 0 |\n",
       "| 0 | 1 | 0 | 0 |\n",
       "| 1 | 1 | 0 | 0 |\n",
       "| 2 | 1 | 0 | 0 |\n",
       "| 3 | 1 | 0 | 0 |\n",
       "| 4 | 1 | 0 | 0 |\n",
       "| 5 | 1 | 0 | 0 |\n",
       "| 6 | 1 | 0 | 0 |\n",
       "| 7 | 1 | 0 | 0 |\n",
       "| 8 | 1 | 0 | 0 |\n",
       "| 9 | 1 | 0 | 0 |\n",
       "| 0 | 2 | 0 | 0 |\n",
       "| 1 | 2 | 0 | 0 |\n",
       "| 2 | 2 | 0 | 0 |\n",
       "| 3 | 2 | 0 | 0 |\n",
       "| 4 | 2 | 0 | 0 |\n",
       "| 5 | 2 | 0 | 0 |\n",
       "| 6 | 2 | 0 | 0 |\n",
       "| 7 | 2 | 0 | 0 |\n",
       "| 8 | 2 | 0 | 0 |\n",
       "| 9 | 2 | 0 | 0 |\n",
       "| ⋮ | ⋮ | ⋮ | ⋮ |\n",
       "| 0 | 7 | 9 | 9 |\n",
       "| 1 | 7 | 9 | 9 |\n",
       "| 2 | 7 | 9 | 9 |\n",
       "| 3 | 7 | 9 | 9 |\n",
       "| 4 | 7 | 9 | 9 |\n",
       "| 5 | 7 | 9 | 9 |\n",
       "| 6 | 7 | 9 | 9 |\n",
       "| 7 | 7 | 9 | 9 |\n",
       "| 8 | 7 | 9 | 9 |\n",
       "| 9 | 7 | 9 | 9 |\n",
       "| 0 | 8 | 9 | 9 |\n",
       "| 1 | 8 | 9 | 9 |\n",
       "| 2 | 8 | 9 | 9 |\n",
       "| 3 | 8 | 9 | 9 |\n",
       "| 4 | 8 | 9 | 9 |\n",
       "| 5 | 8 | 9 | 9 |\n",
       "| 6 | 8 | 9 | 9 |\n",
       "| 7 | 8 | 9 | 9 |\n",
       "| 8 | 8 | 9 | 9 |\n",
       "| 9 | 8 | 9 | 9 |\n",
       "| 0 | 9 | 9 | 9 |\n",
       "| 1 | 9 | 9 | 9 |\n",
       "| 2 | 9 | 9 | 9 |\n",
       "| 3 | 9 | 9 | 9 |\n",
       "| 4 | 9 | 9 | 9 |\n",
       "| 5 | 9 | 9 | 9 |\n",
       "| 6 | 9 | 9 | 9 |\n",
       "| 7 | 9 | 9 | 9 |\n",
       "| 8 | 9 | 9 | 9 |\n",
       "| 9 | 9 | 9 | 9 |\n",
       "\n"
      ],
      "text/plain": [
       "      Var1 Var2 Var3 Var4\n",
       "1     0    0    0    0   \n",
       "2     1    0    0    0   \n",
       "3     2    0    0    0   \n",
       "4     3    0    0    0   \n",
       "5     4    0    0    0   \n",
       "6     5    0    0    0   \n",
       "7     6    0    0    0   \n",
       "8     7    0    0    0   \n",
       "9     8    0    0    0   \n",
       "10    9    0    0    0   \n",
       "11    0    1    0    0   \n",
       "12    1    1    0    0   \n",
       "13    2    1    0    0   \n",
       "14    3    1    0    0   \n",
       "15    4    1    0    0   \n",
       "16    5    1    0    0   \n",
       "17    6    1    0    0   \n",
       "18    7    1    0    0   \n",
       "19    8    1    0    0   \n",
       "20    9    1    0    0   \n",
       "21    0    2    0    0   \n",
       "22    1    2    0    0   \n",
       "23    2    2    0    0   \n",
       "24    3    2    0    0   \n",
       "25    4    2    0    0   \n",
       "26    5    2    0    0   \n",
       "27    6    2    0    0   \n",
       "28    7    2    0    0   \n",
       "29    8    2    0    0   \n",
       "30    9    2    0    0   \n",
       "⋮     ⋮    ⋮    ⋮    ⋮   \n",
       "9971  0    7    9    9   \n",
       "9972  1    7    9    9   \n",
       "9973  2    7    9    9   \n",
       "9974  3    7    9    9   \n",
       "9975  4    7    9    9   \n",
       "9976  5    7    9    9   \n",
       "9977  6    7    9    9   \n",
       "9978  7    7    9    9   \n",
       "9979  8    7    9    9   \n",
       "9980  9    7    9    9   \n",
       "9981  0    8    9    9   \n",
       "9982  1    8    9    9   \n",
       "9983  2    8    9    9   \n",
       "9984  3    8    9    9   \n",
       "9985  4    8    9    9   \n",
       "9986  5    8    9    9   \n",
       "9987  6    8    9    9   \n",
       "9988  7    8    9    9   \n",
       "9989  8    8    9    9   \n",
       "9990  9    8    9    9   \n",
       "9991  0    9    9    9   \n",
       "9992  1    9    9    9   \n",
       "9993  2    9    9    9   \n",
       "9994  3    9    9    9   \n",
       "9995  4    9    9    9   \n",
       "9996  5    9    9    9   \n",
       "9997  6    9    9    9   \n",
       "9998  7    9    9    9   \n",
       "9999  8    9    9    9   \n",
       "10000 9    9    9    9   "
      ]
     },
     "metadata": {},
     "output_type": "display_data"
    }
   ],
   "source": [
    "# Running this should return 10,000\n",
    "get_all_perms()"
   ]
  },
  {
   "cell_type": "markdown",
   "id": "7b5f5dec",
   "metadata": {
    "pycharm": {
     "name": "#%% md\n"
    }
   },
   "source": [
    "###  Q2\n",
    "\n",
    "The function above is not very useful since it always computes the same thing, namely the number of possible permutation of digits. One way to make it more useful is by passing as an argument the number of digits to consider, i.e., the number of columns in `expand.grid`. Let;s call that param `size`, which by default should be `4`. For exmaple:\n",
    "\n",
    "*  `get_all_perms(size = 1 )` will return all the number of size 1 (0-9)\n",
    "*  `get_all_perms(size = 3 )` will return all the permutations of size 3 (000 - to 999)\n",
    "\n",
    "\n",
    "* Hint: `expand.grid` requires the number of input parameters to match the permutation length. We need to automate that so that the number of vectors passed as input matches the `size` values passed into `get_all_perms`\n",
    "  * We can do that using `replicate`\n",
    "  * `replicate(2, c(1,2,3), simplify=FALSE)` will repeat the vector `c(1,2,3)` twice\n",
    "    * We need to pass `replicate` the value `simplify=FALSE` so that it does not convert the output for us into a matrix\n",
    "  * Use pipe (`%>%`) pass the output of `replicate` into expand.grid\n",
    "  * Make sure replicated generate the correct input for exand.grid\n",
    "  "
   ]
  },
  {
   "cell_type": "code",
   "execution_count": 111,
   "id": "a45bbd1d",
   "metadata": {
    "pycharm": {
     "name": "#%%\n"
    }
   },
   "outputs": [
    {
     "data": {
      "text/html": [
       "<table class=\"dataframe\">\n",
       "<caption>A data.frame: 10000 × 4</caption>\n",
       "<thead>\n",
       "\t<tr><th scope=col>Var1</th><th scope=col>Var2</th><th scope=col>Var3</th><th scope=col>Var4</th></tr>\n",
       "\t<tr><th scope=col>&lt;int&gt;</th><th scope=col>&lt;int&gt;</th><th scope=col>&lt;int&gt;</th><th scope=col>&lt;int&gt;</th></tr>\n",
       "</thead>\n",
       "<tbody>\n",
       "\t<tr><td>0</td><td>0</td><td>0</td><td>0</td></tr>\n",
       "\t<tr><td>1</td><td>0</td><td>0</td><td>0</td></tr>\n",
       "\t<tr><td>2</td><td>0</td><td>0</td><td>0</td></tr>\n",
       "\t<tr><td>3</td><td>0</td><td>0</td><td>0</td></tr>\n",
       "\t<tr><td>4</td><td>0</td><td>0</td><td>0</td></tr>\n",
       "\t<tr><td>5</td><td>0</td><td>0</td><td>0</td></tr>\n",
       "\t<tr><td>6</td><td>0</td><td>0</td><td>0</td></tr>\n",
       "\t<tr><td>7</td><td>0</td><td>0</td><td>0</td></tr>\n",
       "\t<tr><td>8</td><td>0</td><td>0</td><td>0</td></tr>\n",
       "\t<tr><td>9</td><td>0</td><td>0</td><td>0</td></tr>\n",
       "\t<tr><td>0</td><td>1</td><td>0</td><td>0</td></tr>\n",
       "\t<tr><td>1</td><td>1</td><td>0</td><td>0</td></tr>\n",
       "\t<tr><td>2</td><td>1</td><td>0</td><td>0</td></tr>\n",
       "\t<tr><td>3</td><td>1</td><td>0</td><td>0</td></tr>\n",
       "\t<tr><td>4</td><td>1</td><td>0</td><td>0</td></tr>\n",
       "\t<tr><td>5</td><td>1</td><td>0</td><td>0</td></tr>\n",
       "\t<tr><td>6</td><td>1</td><td>0</td><td>0</td></tr>\n",
       "\t<tr><td>7</td><td>1</td><td>0</td><td>0</td></tr>\n",
       "\t<tr><td>8</td><td>1</td><td>0</td><td>0</td></tr>\n",
       "\t<tr><td>9</td><td>1</td><td>0</td><td>0</td></tr>\n",
       "\t<tr><td>0</td><td>2</td><td>0</td><td>0</td></tr>\n",
       "\t<tr><td>1</td><td>2</td><td>0</td><td>0</td></tr>\n",
       "\t<tr><td>2</td><td>2</td><td>0</td><td>0</td></tr>\n",
       "\t<tr><td>3</td><td>2</td><td>0</td><td>0</td></tr>\n",
       "\t<tr><td>4</td><td>2</td><td>0</td><td>0</td></tr>\n",
       "\t<tr><td>5</td><td>2</td><td>0</td><td>0</td></tr>\n",
       "\t<tr><td>6</td><td>2</td><td>0</td><td>0</td></tr>\n",
       "\t<tr><td>7</td><td>2</td><td>0</td><td>0</td></tr>\n",
       "\t<tr><td>8</td><td>2</td><td>0</td><td>0</td></tr>\n",
       "\t<tr><td>9</td><td>2</td><td>0</td><td>0</td></tr>\n",
       "\t<tr><td>⋮</td><td>⋮</td><td>⋮</td><td>⋮</td></tr>\n",
       "\t<tr><td>0</td><td>7</td><td>9</td><td>9</td></tr>\n",
       "\t<tr><td>1</td><td>7</td><td>9</td><td>9</td></tr>\n",
       "\t<tr><td>2</td><td>7</td><td>9</td><td>9</td></tr>\n",
       "\t<tr><td>3</td><td>7</td><td>9</td><td>9</td></tr>\n",
       "\t<tr><td>4</td><td>7</td><td>9</td><td>9</td></tr>\n",
       "\t<tr><td>5</td><td>7</td><td>9</td><td>9</td></tr>\n",
       "\t<tr><td>6</td><td>7</td><td>9</td><td>9</td></tr>\n",
       "\t<tr><td>7</td><td>7</td><td>9</td><td>9</td></tr>\n",
       "\t<tr><td>8</td><td>7</td><td>9</td><td>9</td></tr>\n",
       "\t<tr><td>9</td><td>7</td><td>9</td><td>9</td></tr>\n",
       "\t<tr><td>0</td><td>8</td><td>9</td><td>9</td></tr>\n",
       "\t<tr><td>1</td><td>8</td><td>9</td><td>9</td></tr>\n",
       "\t<tr><td>2</td><td>8</td><td>9</td><td>9</td></tr>\n",
       "\t<tr><td>3</td><td>8</td><td>9</td><td>9</td></tr>\n",
       "\t<tr><td>4</td><td>8</td><td>9</td><td>9</td></tr>\n",
       "\t<tr><td>5</td><td>8</td><td>9</td><td>9</td></tr>\n",
       "\t<tr><td>6</td><td>8</td><td>9</td><td>9</td></tr>\n",
       "\t<tr><td>7</td><td>8</td><td>9</td><td>9</td></tr>\n",
       "\t<tr><td>8</td><td>8</td><td>9</td><td>9</td></tr>\n",
       "\t<tr><td>9</td><td>8</td><td>9</td><td>9</td></tr>\n",
       "\t<tr><td>0</td><td>9</td><td>9</td><td>9</td></tr>\n",
       "\t<tr><td>1</td><td>9</td><td>9</td><td>9</td></tr>\n",
       "\t<tr><td>2</td><td>9</td><td>9</td><td>9</td></tr>\n",
       "\t<tr><td>3</td><td>9</td><td>9</td><td>9</td></tr>\n",
       "\t<tr><td>4</td><td>9</td><td>9</td><td>9</td></tr>\n",
       "\t<tr><td>5</td><td>9</td><td>9</td><td>9</td></tr>\n",
       "\t<tr><td>6</td><td>9</td><td>9</td><td>9</td></tr>\n",
       "\t<tr><td>7</td><td>9</td><td>9</td><td>9</td></tr>\n",
       "\t<tr><td>8</td><td>9</td><td>9</td><td>9</td></tr>\n",
       "\t<tr><td>9</td><td>9</td><td>9</td><td>9</td></tr>\n",
       "</tbody>\n",
       "</table>\n"
      ],
      "text/latex": [
       "A data.frame: 10000 × 4\n",
       "\\begin{tabular}{llll}\n",
       " Var1 & Var2 & Var3 & Var4\\\\\n",
       " <int> & <int> & <int> & <int>\\\\\n",
       "\\hline\n",
       "\t 0 & 0 & 0 & 0\\\\\n",
       "\t 1 & 0 & 0 & 0\\\\\n",
       "\t 2 & 0 & 0 & 0\\\\\n",
       "\t 3 & 0 & 0 & 0\\\\\n",
       "\t 4 & 0 & 0 & 0\\\\\n",
       "\t 5 & 0 & 0 & 0\\\\\n",
       "\t 6 & 0 & 0 & 0\\\\\n",
       "\t 7 & 0 & 0 & 0\\\\\n",
       "\t 8 & 0 & 0 & 0\\\\\n",
       "\t 9 & 0 & 0 & 0\\\\\n",
       "\t 0 & 1 & 0 & 0\\\\\n",
       "\t 1 & 1 & 0 & 0\\\\\n",
       "\t 2 & 1 & 0 & 0\\\\\n",
       "\t 3 & 1 & 0 & 0\\\\\n",
       "\t 4 & 1 & 0 & 0\\\\\n",
       "\t 5 & 1 & 0 & 0\\\\\n",
       "\t 6 & 1 & 0 & 0\\\\\n",
       "\t 7 & 1 & 0 & 0\\\\\n",
       "\t 8 & 1 & 0 & 0\\\\\n",
       "\t 9 & 1 & 0 & 0\\\\\n",
       "\t 0 & 2 & 0 & 0\\\\\n",
       "\t 1 & 2 & 0 & 0\\\\\n",
       "\t 2 & 2 & 0 & 0\\\\\n",
       "\t 3 & 2 & 0 & 0\\\\\n",
       "\t 4 & 2 & 0 & 0\\\\\n",
       "\t 5 & 2 & 0 & 0\\\\\n",
       "\t 6 & 2 & 0 & 0\\\\\n",
       "\t 7 & 2 & 0 & 0\\\\\n",
       "\t 8 & 2 & 0 & 0\\\\\n",
       "\t 9 & 2 & 0 & 0\\\\\n",
       "\t ⋮ & ⋮ & ⋮ & ⋮\\\\\n",
       "\t 0 & 7 & 9 & 9\\\\\n",
       "\t 1 & 7 & 9 & 9\\\\\n",
       "\t 2 & 7 & 9 & 9\\\\\n",
       "\t 3 & 7 & 9 & 9\\\\\n",
       "\t 4 & 7 & 9 & 9\\\\\n",
       "\t 5 & 7 & 9 & 9\\\\\n",
       "\t 6 & 7 & 9 & 9\\\\\n",
       "\t 7 & 7 & 9 & 9\\\\\n",
       "\t 8 & 7 & 9 & 9\\\\\n",
       "\t 9 & 7 & 9 & 9\\\\\n",
       "\t 0 & 8 & 9 & 9\\\\\n",
       "\t 1 & 8 & 9 & 9\\\\\n",
       "\t 2 & 8 & 9 & 9\\\\\n",
       "\t 3 & 8 & 9 & 9\\\\\n",
       "\t 4 & 8 & 9 & 9\\\\\n",
       "\t 5 & 8 & 9 & 9\\\\\n",
       "\t 6 & 8 & 9 & 9\\\\\n",
       "\t 7 & 8 & 9 & 9\\\\\n",
       "\t 8 & 8 & 9 & 9\\\\\n",
       "\t 9 & 8 & 9 & 9\\\\\n",
       "\t 0 & 9 & 9 & 9\\\\\n",
       "\t 1 & 9 & 9 & 9\\\\\n",
       "\t 2 & 9 & 9 & 9\\\\\n",
       "\t 3 & 9 & 9 & 9\\\\\n",
       "\t 4 & 9 & 9 & 9\\\\\n",
       "\t 5 & 9 & 9 & 9\\\\\n",
       "\t 6 & 9 & 9 & 9\\\\\n",
       "\t 7 & 9 & 9 & 9\\\\\n",
       "\t 8 & 9 & 9 & 9\\\\\n",
       "\t 9 & 9 & 9 & 9\\\\\n",
       "\\end{tabular}\n"
      ],
      "text/markdown": [
       "\n",
       "A data.frame: 10000 × 4\n",
       "\n",
       "| Var1 &lt;int&gt; | Var2 &lt;int&gt; | Var3 &lt;int&gt; | Var4 &lt;int&gt; |\n",
       "|---|---|---|---|\n",
       "| 0 | 0 | 0 | 0 |\n",
       "| 1 | 0 | 0 | 0 |\n",
       "| 2 | 0 | 0 | 0 |\n",
       "| 3 | 0 | 0 | 0 |\n",
       "| 4 | 0 | 0 | 0 |\n",
       "| 5 | 0 | 0 | 0 |\n",
       "| 6 | 0 | 0 | 0 |\n",
       "| 7 | 0 | 0 | 0 |\n",
       "| 8 | 0 | 0 | 0 |\n",
       "| 9 | 0 | 0 | 0 |\n",
       "| 0 | 1 | 0 | 0 |\n",
       "| 1 | 1 | 0 | 0 |\n",
       "| 2 | 1 | 0 | 0 |\n",
       "| 3 | 1 | 0 | 0 |\n",
       "| 4 | 1 | 0 | 0 |\n",
       "| 5 | 1 | 0 | 0 |\n",
       "| 6 | 1 | 0 | 0 |\n",
       "| 7 | 1 | 0 | 0 |\n",
       "| 8 | 1 | 0 | 0 |\n",
       "| 9 | 1 | 0 | 0 |\n",
       "| 0 | 2 | 0 | 0 |\n",
       "| 1 | 2 | 0 | 0 |\n",
       "| 2 | 2 | 0 | 0 |\n",
       "| 3 | 2 | 0 | 0 |\n",
       "| 4 | 2 | 0 | 0 |\n",
       "| 5 | 2 | 0 | 0 |\n",
       "| 6 | 2 | 0 | 0 |\n",
       "| 7 | 2 | 0 | 0 |\n",
       "| 8 | 2 | 0 | 0 |\n",
       "| 9 | 2 | 0 | 0 |\n",
       "| ⋮ | ⋮ | ⋮ | ⋮ |\n",
       "| 0 | 7 | 9 | 9 |\n",
       "| 1 | 7 | 9 | 9 |\n",
       "| 2 | 7 | 9 | 9 |\n",
       "| 3 | 7 | 9 | 9 |\n",
       "| 4 | 7 | 9 | 9 |\n",
       "| 5 | 7 | 9 | 9 |\n",
       "| 6 | 7 | 9 | 9 |\n",
       "| 7 | 7 | 9 | 9 |\n",
       "| 8 | 7 | 9 | 9 |\n",
       "| 9 | 7 | 9 | 9 |\n",
       "| 0 | 8 | 9 | 9 |\n",
       "| 1 | 8 | 9 | 9 |\n",
       "| 2 | 8 | 9 | 9 |\n",
       "| 3 | 8 | 9 | 9 |\n",
       "| 4 | 8 | 9 | 9 |\n",
       "| 5 | 8 | 9 | 9 |\n",
       "| 6 | 8 | 9 | 9 |\n",
       "| 7 | 8 | 9 | 9 |\n",
       "| 8 | 8 | 9 | 9 |\n",
       "| 9 | 8 | 9 | 9 |\n",
       "| 0 | 9 | 9 | 9 |\n",
       "| 1 | 9 | 9 | 9 |\n",
       "| 2 | 9 | 9 | 9 |\n",
       "| 3 | 9 | 9 | 9 |\n",
       "| 4 | 9 | 9 | 9 |\n",
       "| 5 | 9 | 9 | 9 |\n",
       "| 6 | 9 | 9 | 9 |\n",
       "| 7 | 9 | 9 | 9 |\n",
       "| 8 | 9 | 9 | 9 |\n",
       "| 9 | 9 | 9 | 9 |\n",
       "\n"
      ],
      "text/plain": [
       "      Var1 Var2 Var3 Var4\n",
       "1     0    0    0    0   \n",
       "2     1    0    0    0   \n",
       "3     2    0    0    0   \n",
       "4     3    0    0    0   \n",
       "5     4    0    0    0   \n",
       "6     5    0    0    0   \n",
       "7     6    0    0    0   \n",
       "8     7    0    0    0   \n",
       "9     8    0    0    0   \n",
       "10    9    0    0    0   \n",
       "11    0    1    0    0   \n",
       "12    1    1    0    0   \n",
       "13    2    1    0    0   \n",
       "14    3    1    0    0   \n",
       "15    4    1    0    0   \n",
       "16    5    1    0    0   \n",
       "17    6    1    0    0   \n",
       "18    7    1    0    0   \n",
       "19    8    1    0    0   \n",
       "20    9    1    0    0   \n",
       "21    0    2    0    0   \n",
       "22    1    2    0    0   \n",
       "23    2    2    0    0   \n",
       "24    3    2    0    0   \n",
       "25    4    2    0    0   \n",
       "26    5    2    0    0   \n",
       "27    6    2    0    0   \n",
       "28    7    2    0    0   \n",
       "29    8    2    0    0   \n",
       "30    9    2    0    0   \n",
       "⋮     ⋮    ⋮    ⋮    ⋮   \n",
       "9971  0    7    9    9   \n",
       "9972  1    7    9    9   \n",
       "9973  2    7    9    9   \n",
       "9974  3    7    9    9   \n",
       "9975  4    7    9    9   \n",
       "9976  5    7    9    9   \n",
       "9977  6    7    9    9   \n",
       "9978  7    7    9    9   \n",
       "9979  8    7    9    9   \n",
       "9980  9    7    9    9   \n",
       "9981  0    8    9    9   \n",
       "9982  1    8    9    9   \n",
       "9983  2    8    9    9   \n",
       "9984  3    8    9    9   \n",
       "9985  4    8    9    9   \n",
       "9986  5    8    9    9   \n",
       "9987  6    8    9    9   \n",
       "9988  7    8    9    9   \n",
       "9989  8    8    9    9   \n",
       "9990  9    8    9    9   \n",
       "9991  0    9    9    9   \n",
       "9992  1    9    9    9   \n",
       "9993  2    9    9    9   \n",
       "9994  3    9    9    9   \n",
       "9995  4    9    9    9   \n",
       "9996  5    9    9    9   \n",
       "9997  6    9    9    9   \n",
       "9998  7    9    9    9   \n",
       "9999  8    9    9    9   \n",
       "10000 9    9    9    9   "
      ]
     },
     "metadata": {},
     "output_type": "display_data"
    }
   ],
   "source": [
    "### Write your code here\n",
    "\n",
    "get_all_perms<-function(x){\n",
    "    y=replicate(x, c(0:9), simplify=FALSE)\n",
    "    expand.grid(y)\n",
    "}\n",
    "get_all_perms(4)"
   ]
  },
  {
   "cell_type": "markdown",
   "id": "d826dbff",
   "metadata": {
    "pycharm": {
     "name": "#%% md\n"
    }
   },
   "source": [
    "###  Q3\n",
    "\n",
    "* Given a fish disease that occurs with a probability of p= 0.43\n",
    "* You sampled 340 animals\n",
    "* How many of these animals should you expect to see the disease in?\n",
    "* Hint: you will need to compute the probability of each element of the sample space and find the value that has the highest probability"
   ]
  },
  {
   "cell_type": "code",
   "execution_count": 8,
   "id": "8ec880ab",
   "metadata": {
    "pycharm": {
     "name": "#%%\n"
    }
   },
   "outputs": [
    {
     "data": {
      "text/html": [
       "146.2"
      ],
      "text/latex": [
       "146.2"
      ],
      "text/markdown": [
       "146.2"
      ],
      "text/plain": [
       "[1] 146.2"
      ]
     },
     "metadata": {},
     "output_type": "display_data"
    },
    {
     "data": {
      "text/html": [
       "146"
      ],
      "text/latex": [
       "146"
      ],
      "text/markdown": [
       "146"
      ],
      "text/plain": [
       "[1] 146"
      ]
     },
     "metadata": {},
     "output_type": "display_data"
    }
   ],
   "source": [
    "### Write your code here\n",
    "#0.43*340\n",
    "x=rbinom(340,1,0.43)\n",
    "sum(x)"
   ]
  },
  {
   "cell_type": "markdown",
   "id": "2e17347b",
   "metadata": {
    "pycharm": {
     "name": "#%% md\n"
    }
   },
   "source": [
    "### Q4\n",
    "Plot the two following distributions:\n",
    "\n",
    "$$\n",
    "x \\sim \\mathcal{N}(10, 0.5) \\\\\n",
    "y \\sim \\mathcal{N}(10.2, 0.5) \\\\\n",
    "$$\n",
    "\n",
    "* Your plot should look like the following\n",
    "![](https://www.dropbox.com/s/psrjtl6abjla7z5/sample_gaussian_plot.png?dl=1)\n",
    "\n",
    "\n",
    "* Draw 40 values from the first distribution and store them in a variable called `x_sample`\n",
    "* Draw 40 values from the second distribution and store them in a variable called `y_sample`\n",
    "  * make sure you run the following line before you sample data\n",
    "  ```set.seed(42)```\n",
    " \n",
    "* Do a `t-`test to compute the `x_sample` and `y_sample`\n",
    "  * A `t-`test compares two vectors of values and predicts if the two vectors are from the same distribution\n",
    "  * The format for the t-test in R is\n",
    " \n",
    " `t.test(x,y)` where `x` an `y` are the vectors of values we would like to compare.\n",
    "  * Look at the `p-value`, if it's smaller than say 0.05, then there is a statistically significant difference between the two datasets.\n",
    "\n",
    "* Do you agree with the conclusion of the `t-test`. In other words, would you be comfortable reporting in a publication that the data in `x_sample` and `y_sample` are statistically different?"
   ]
  },
  {
   "cell_type": "code",
   "execution_count": 50,
   "id": "318d9e01",
   "metadata": {},
   "outputs": [
    {
     "data": {
      "text/html": [
       "<style>\n",
       ".list-inline {list-style: none; margin:0; padding: 0}\n",
       ".list-inline>li {display: inline-block}\n",
       ".list-inline>li:not(:last-child)::after {content: \"\\00b7\"; padding: 0 .5ex}\n",
       "</style>\n",
       "<ol class=list-inline><li>10.054036363971</li><li>9.75728238207667</li><li>9.74789143465605</li><li>9.16945046004259</li><li>9.80883313656309</li><li>9.7436748710611</li><li>11.3509455001724</li><li>9.31894188440514</li><li>10.0686281092793</li><li>9.25318746634185</li><li>9.2647821292816</li><li>10.0623511930985</li><li>9.50168043255798</li><li>9.99908869284765</li><li>9.78587055928709</li><li>9.69316419677525</li><li>8.98766107729045</li><li>9.38762602482001</li><li>10.089758220559</li><li>10.2838102972118</li></ol>\n"
      ],
      "text/latex": [
       "\\begin{enumerate*}\n",
       "\\item 10.054036363971\n",
       "\\item 9.75728238207667\n",
       "\\item 9.74789143465605\n",
       "\\item 9.16945046004259\n",
       "\\item 9.80883313656309\n",
       "\\item 9.7436748710611\n",
       "\\item 11.3509455001724\n",
       "\\item 9.31894188440514\n",
       "\\item 10.0686281092793\n",
       "\\item 9.25318746634185\n",
       "\\item 9.2647821292816\n",
       "\\item 10.0623511930985\n",
       "\\item 9.50168043255798\n",
       "\\item 9.99908869284765\n",
       "\\item 9.78587055928709\n",
       "\\item 9.69316419677525\n",
       "\\item 8.98766107729045\n",
       "\\item 9.38762602482001\n",
       "\\item 10.089758220559\n",
       "\\item 10.2838102972118\n",
       "\\end{enumerate*}\n"
      ],
      "text/markdown": [
       "1. 10.054036363971\n",
       "2. 9.75728238207667\n",
       "3. 9.74789143465605\n",
       "4. 9.16945046004259\n",
       "5. 9.80883313656309\n",
       "6. 9.7436748710611\n",
       "7. 11.3509455001724\n",
       "8. 9.31894188440514\n",
       "9. 10.0686281092793\n",
       "10. 9.25318746634185\n",
       "11. 9.2647821292816\n",
       "12. 10.0623511930985\n",
       "13. 9.50168043255798\n",
       "14. 9.99908869284765\n",
       "15. 9.78587055928709\n",
       "16. 9.69316419677525\n",
       "17. 8.98766107729045\n",
       "18. 9.38762602482001\n",
       "19. 10.089758220559\n",
       "20. 10.2838102972118\n",
       "\n",
       "\n"
      ],
      "text/plain": [
       " [1] 10.054036  9.757282  9.747891  9.169450  9.808833  9.743675 11.350946\n",
       " [8]  9.318942 10.068628  9.253187  9.264782 10.062351  9.501680  9.999089\n",
       "[15]  9.785871  9.693164  8.987661  9.387626 10.089758 10.283810"
      ]
     },
     "metadata": {},
     "output_type": "display_data"
    }
   ],
   "source": [
    "rnorm(20,10,0.5)"
   ]
  },
  {
   "cell_type": "code",
   "execution_count": 78,
   "id": "756f4ec4",
   "metadata": {
    "pycharm": {
     "name": "#%%\n"
    }
   },
   "outputs": [
    {
     "data": {
      "image/png": "[encoded data removed]",
      "text/plain": [
       "plot without title"
      ]
     },
     "metadata": {
      "image/png": {
       "height": 420,
       "width": 420
      }
     },
     "output_type": "display_data"
    }
   ],
   "source": [
    "# Write the code to draw the plot here\n",
    "set.seed(42)\n",
    "\n",
    "x=seq(8,12,0.1)\n",
    "\n",
    "x_sample=dnorm(x,10,0.5)\n",
    "y_sample=dnorm(x,10.2,0.5)\n",
    "\n",
    "df <- data.frame(x_sample,y_sample) \n",
    "\n",
    "ggplot(data = df,aes(x=x))+\n",
    "  geom_line(aes(y = x_sample),color='red')+\n",
    "  geom_line(aes(y = y_sample),color='blue')"
   ]
  },
  {
   "cell_type": "code",
   "execution_count": 81,
   "id": "67810bdb",
   "metadata": {
    "pycharm": {
     "name": "#%%\n"
    }
   },
   "outputs": [
    {
     "data": {
      "text/plain": [
       "\n",
       "\tWelch Two Sample t-test\n",
       "\n",
       "data:  x_sample and y_sample\n",
       "t = -2.1504, df = 72.3, p-value = 0.03486\n",
       "alternative hypothesis: true difference in means is not equal to 0\n",
       "95 percent confidence interval:\n",
       " -0.50040708 -0.01897381\n",
       "sample estimates:\n",
       "mean of x mean of y \n",
       " 9.980232 10.239922 \n"
      ]
     },
     "metadata": {},
     "output_type": "display_data"
    }
   ],
   "source": [
    "# Write the code to run your t-test here\n",
    "set.seed(42)\n",
    "\n",
    "x_sample=rnorm(40,10,0.5)\n",
    "y_sample=rnorm(40,10.2,0.5)\n",
    "\n",
    "t.test(x_sample,y_sample)"
   ]
  },
  {
   "cell_type": "markdown",
   "id": "3bad3d8b",
   "metadata": {},
   "source": [
    "Yes I would feel comfortable reporting this because it is statistically significant results."
   ]
  },
  {
   "cell_type": "markdown",
   "id": "9fedba3e",
   "metadata": {
    "pycharm": {
     "name": "#%% md\n"
    }
   },
   "source": [
    "### Q5\n",
    "\n",
    "* We have used the function `dnorm` to plot the bell-shaped curve for a distribution $ x \\sim \\mathcal{N}(10, 0.5)$\n",
    "  * Use seq(8, 12, 0.1) to generate the x-axis values\n",
    "  * The pdf should look like the following\n",
    "\n",
    "![](https://www.dropbox.com/s/jl2c2atpkxze7ev/sample_pdf_sum_question.png?dl=1)\n",
    "\n",
    "* Use `dnorm` to compute the probability density for each point along the $x-$axis generated using `seq()` above\n",
    "  * What do you notice? Hint, sum the values obtained\n",
    "  \n"
   ]
  },
  {
   "cell_type": "code",
   "execution_count": 117,
   "id": "e6acec6e",
   "metadata": {
    "pycharm": {
     "name": "#%%\n"
    }
   },
   "outputs": [
    {
     "data": {
      "text/html": [
       "9.99959885434281"
      ],
      "text/latex": [
       "9.99959885434281"
      ],
      "text/markdown": [
       "9.99959885434281"
      ],
      "text/plain": [
       "[1] 9.999599"
      ]
     },
     "metadata": {},
     "output_type": "display_data"
    },
    {
     "data": {
      "image/png": "[encoded data removed]",
      "text/plain": [
       "plot without title"
      ]
     },
     "metadata": {
      "image/png": {
       "height": 420,
       "width": 420
      }
     },
     "output_type": "display_data"
    }
   ],
   "source": [
    "# Write the code to run your t-test here\n",
    "x2=seq(8, 12, 0.1)\n",
    "x_sample2=dnorm(x2,10,0.5)\n",
    "plot(x2,x_sample2,type='l',xlab='x_vals', ylab='probs')\n",
    "\n",
    "sum(x_sample2)"
   ]
  },
  {
   "cell_type": "markdown",
   "id": "b66f05ee",
   "metadata": {},
   "source": [
    "Here, we see  that the sum of of the distribution curve is very close  to 10. I imagine that as we lower the sequencing value (0.1), we  will see that the sum of all densities will approach 1. "
   ]
  },
  {
   "cell_type": "markdown",
   "id": "99b70ba3",
   "metadata": {
    "pycharm": {
     "name": "#%%\n"
    }
   },
   "source": [
    "### Q6 Optional Challenge\n",
    "\n",
    "What transformation can you carry out to tranform the value to actual probabilities, i.e., values that sum to 1.  Write code to test whether your hypothesis works."
   ]
  },
  {
   "cell_type": "code",
   "execution_count": 121,
   "id": "7ec5aa60",
   "metadata": {},
   "outputs": [
    {
     "data": {
      "text/html": [
       "0.999936924819905"
      ],
      "text/latex": [
       "0.999936924819905"
      ],
      "text/markdown": [
       "0.999936924819905"
      ],
      "text/plain": [
       "[1] 0.9999369"
      ]
     },
     "metadata": {},
     "output_type": "display_data"
    },
    {
     "data": {
      "image/png": "[encoded data removed]",
      "text/plain": [
       "plot without title"
      ]
     },
     "metadata": {
      "image/png": {
       "height": 420,
       "width": 420
      }
     },
     "output_type": "display_data"
    }
   ],
   "source": [
    "# Write the code here\n",
    "x3=seq(8, 12, .001)\n",
    "x_sample3=dnorm(x3,10,0.5)\n",
    "plot(x3,x_sample3,type='l',xlab='x_vals', ylab='probs')\n",
    "\n",
    "sum(x_sample3/1000)"
   ]
  }
 ],
 "metadata": {
  "kernelspec": {
   "display_name": "R",
   "language": "R",
   "name": "ir"
  },
  "language_info": {
   "codemirror_mode": "r",
   "file_extension": ".r",
   "mimetype": "text/x-r-source",
   "name": "R",
   "pygments_lexer": "r",
   "version": "4.2.1"
  }
 },
 "nbformat": 4,
 "nbformat_minor": 5
}
