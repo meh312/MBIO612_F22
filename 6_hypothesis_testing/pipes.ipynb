{
 "cells": [
  {
   "cell_type": "markdown",
   "id": "105bf0e7",
   "metadata": {},
   "source": [
    "### What are Pipes\n",
    "\n",
    "* Pipes are used in a programming pradigm to chain operations\n",
    "   * Output of one operation (function) becomes the input of the next operation (function)\n",
    "* Pipes in `R` are represented using the pipe characters `%>%`\n",
    "  * The functionality is included in the `magrittr` packagashg\n",
    "  * Not part of tidyverse but get uploaded automatically when load `tidyvery`\n",
    "  * You can load it explictely using\n",
    "```\n",
    "library(magrittr)  \n",
    "```"
   ]
  },
  {
   "cell_type": "code",
   "execution_count": 4,
   "id": "94444002",
   "metadata": {},
   "outputs": [],
   "source": [
    "library(magrittr)  "
   ]
  },
  {
   "cell_type": "markdown",
   "id": "b1ba0835",
   "metadata": {},
   "source": [
    "### Why use Piping?\n",
    "\n",
    "* The need to chain operations is common in Data Science\n",
    "\n",
    "* Given some data, you may want to:\n",
    "\n",
    "![](https://www.dropbox.com/s/sypx0knvwwk3437/ops_chaining.png?dl=1)\n",
    "\n",
    "1. `remove_na()`: this function removes the missing values from the data\n",
    "2. `normalize_data()`: this function normalized the datas so that mean=0 and std=1\n",
    "3. `drop_outliers()`: remove data that is 3 std. deviations from the mean\n",
    "\n",
    "* These operations need to be run consecutively on the data\n",
    "* These three functions do not exist in `R`. We need to write them "
   ]
  },
  {
   "cell_type": "markdown",
   "id": "59c29306",
   "metadata": {},
   "source": [
    "### Why use Piping? - Temp Variables\n",
    "\n",
    "* Solution 1: creating temporary variables to hold the data\n",
    "\n",
    "```R\n",
    "# we do this first\n",
    "data_no_na = remove_na(data)\n",
    "# we do this second with the modified data\n",
    "data_no_na_nromalized = normalize_data(data_no_na)\n",
    "# we do this last with the results from the previous step\n",
    "data_no_na_nromalized_no_outliers = drop_outliers(data_no_na_nromalized)\n",
    "```"
   ]
  },
  {
   "cell_type": "markdown",
   "id": "3e9aa6a7",
   "metadata": {},
   "source": [
    "### Why use Piping? - Overwriting Variables\n",
    "\n",
    "* The aproach above forces you to name each intermediate variable\n",
    "  * those intermediate variables are not necessary. They clutter the code and slows down reading and writing\n",
    "  * Prone to errors: common to pass the wrong temporary variable\n",
    "\n",
    "* One way to deal with that is by overwriting the original data"
   ]
  },
  {
   "cell_type": "markdown",
   "id": "ea86bbba",
   "metadata": {},
   "source": [
    "### Why use Piping? - Overwriting Variables\n",
    "\n",
    "* Solution 1: overwriting the data\n",
    "\n",
    "```R\n",
    "# we do this first\n",
    "data = remove_na(data)\n",
    "# we do this second with the modified data\n",
    "data = normalize_data(data)\n",
    "# we do this last with the results from the previous step\n",
    "data = drop_outliers(data)\n",
    "```"
   ]
  },
  {
   "cell_type": "markdown",
   "id": "199f7872",
   "metadata": {},
   "source": [
    "### Why use Piping? - Overwriting Variables\n",
    "\n",
    "* Less typing and thinking but:\n",
    "\n",
    "1 Makes debugging painful:\n",
    "  * If you make an error you need to run the whole pipeline from the start (e.g.: read data)\n",
    "2. Repeating the same var name makes it difficult to understand how it's changing\n",
    "  * We wrote `data` 6 times, at least the first approach had a different variable name to explain (document) the operation\n"
   ]
  },
  {
   "cell_type": "markdown",
   "id": "1ace48b9",
   "metadata": {},
   "source": [
    "### Using the Pipe\n",
    "\n",
    "* Using %>% we can chain function in a way that does not require intermediate variables\n",
    "* The following operation\n",
    "`data %>% do_something()`\n",
    "translates into take data and pass as a first argument to do_something()\n",
    "\n",
    "  * It's equivalent to do_something(data)\n",
    "\n",
    "* we can further chain function and write\n",
    "```\n",
    "data %>%\n",
    "  do_something() \"%>%\"\n",
    "  do_something_else() \"%>%\"\n",
    "```\n",
    "This translates into\n",
    "1. take data and pass it do_something()\n",
    "  * i.e.,  `do_something(data)`\n",
    "2. take result of `do_something(data)` and pass it to `do_something_else()`\n",
    "      data_1 = do_something(data)\n",
    "      data_2 = do_something_else(data_1)\n",
    " \n",
    "* The above does not work when the function creates need to change some variable, as opposed to return data"
   ]
  },
  {
   "cell_type": "markdown",
   "id": "ffab2a21",
   "metadata": {},
   "source": [
    "### Putting it Together\n",
    "\n",
    "* Using the pipe symbol, our code would look like as follows:\n",
    "\n",
    "```\n",
    "data %>%\n",
    "  remove_na() %>%\n",
    "  normalize_data() %>%\n",
    "  drop_outliers()\n",
    "```\n",
    "\n",
    "* We will write these three function next"
   ]
  },
  {
   "cell_type": "code",
   "execution_count": 5,
   "id": "44c957e9",
   "metadata": {},
   "outputs": [
    {
     "name": "stdout",
     "output_type": "stream",
     "text": [
      "[1] 1 2 4 6\n"
     ]
    }
   ],
   "source": [
    "remove_na <- function(x){\n",
    "    x[!is.na(x)]\n",
    "}\n",
    "data = c(1,2,NA, 4,NA,6)\n",
    "data_no_na = remove_na(data)\n",
    "print(data_no_na)"
   ]
  },
  {
   "cell_type": "code",
   "execution_count": 6,
   "id": "14b06af0",
   "metadata": {},
   "outputs": [
    {
     "data": {
      "text/html": [
       "<style>\n",
       ".list-inline {list-style: none; margin:0; padding: 0}\n",
       ".list-inline>li {display: inline-block}\n",
       ".list-inline>li:not(:last-child)::after {content: \"\\00b7\"; padding: 0 .5ex}\n",
       "</style>\n",
       "<ol class=list-inline><li>1</li><li>2</li><li>4</li><li>6</li></ol>\n"
      ],
      "text/latex": [
       "\\begin{enumerate*}\n",
       "\\item 1\n",
       "\\item 2\n",
       "\\item 4\n",
       "\\item 6\n",
       "\\end{enumerate*}\n"
      ],
      "text/markdown": [
       "1. 1\n",
       "2. 2\n",
       "3. 4\n",
       "4. 6\n",
       "\n",
       "\n"
      ],
      "text/plain": [
       "[1] 1 2 4 6"
      ]
     },
     "metadata": {},
     "output_type": "display_data"
    }
   ],
   "source": [
    "data %>% remove_na()"
   ]
  },
  {
   "cell_type": "code",
   "execution_count": 7,
   "id": "4ca53d8f",
   "metadata": {},
   "outputs": [
    {
     "name": "stdout",
     "output_type": "stream",
     "text": [
      "[1] 1 2 4 6\n"
     ]
    }
   ],
   "source": [
    "data_no_na = data %>% remove_na()\n",
    "print(data_no_na)"
   ]
  },
  {
   "cell_type": "code",
   "execution_count": 8,
   "id": "0494d53e",
   "metadata": {},
   "outputs": [
    {
     "name": "stdout",
     "output_type": "stream",
     "text": [
      "[1] \"data before\"\n",
      " [1] 181.0255 176.2724 181.0842 180.7366 177.0877 176.5824 185.6273 182.0210\n",
      " [9] 180.3261 178.2344\n",
      "[1] \"data after\"\n",
      " [1] 181.03 176.27 181.08 180.74 177.09 176.58 185.63 182.02 180.33 178.23\n"
     ]
    }
   ],
   "source": [
    "data = rnorm(10, mean=180, sd=3)\n",
    "print(\"data before\")\n",
    "print(data)\n",
    "\n",
    "data = round(data, 2)\n",
    "print(\"data after\")\n",
    "print(data)"
   ]
  },
  {
   "cell_type": "code",
   "execution_count": 13,
   "id": "f54e554a",
   "metadata": {},
   "outputs": [
    {
     "data": {
      "text/html": [
       "181.829"
      ],
      "text/latex": [
       "181.829"
      ],
      "text/markdown": [
       "181.829"
      ],
      "text/plain": [
       "[1] 181.829"
      ]
     },
     "metadata": {},
     "output_type": "display_data"
    },
    {
     "data": {
      "text/html": [
       "3.35849321372944"
      ],
      "text/latex": [
       "3.35849321372944"
      ],
      "text/markdown": [
       "3.35849321372944"
      ],
      "text/plain": [
       "[1] 3.358493"
      ]
     },
     "metadata": {},
     "output_type": "display_data"
    }
   ],
   "source": [
    "data = 10 %>%\n",
    "  rnorm( mean=180, sd=3) %>%\n",
    "  round(2)\n",
    "\n",
    "\n",
    "mean(data)\n",
    "sd(data)\n"
   ]
  },
  {
   "cell_type": "code",
   "execution_count": 14,
   "id": "bfbf167e",
   "metadata": {},
   "outputs": [
    {
     "data": {
      "text/html": [
       "0"
      ],
      "text/latex": [
       "0"
      ],
      "text/markdown": [
       "0"
      ],
      "text/plain": [
       "[1] 0"
      ]
     },
     "metadata": {},
     "output_type": "display_data"
    },
    {
     "data": {
      "text/html": [
       "1"
      ],
      "text/latex": [
       "1"
      ],
      "text/markdown": [
       "1"
      ],
      "text/plain": [
       "[1] 1"
      ]
     },
     "metadata": {},
     "output_type": "display_data"
    }
   ],
   "source": [
    "# center the data round 0\n",
    "# normalized the sd to be 1\n",
    "normalize_data = function(x){\n",
    "    (x - mean(x))/sd(x)\n",
    "}\n",
    "data_normalized = normalize_data(data)\n",
    "\n",
    "\n",
    "round(mean(data_normalized), 2)\n",
    "sd(data_normalized)"
   ]
  },
  {
   "cell_type": "code",
   "execution_count": 15,
   "id": "58de5d08",
   "metadata": {},
   "outputs": [
    {
     "data": {
      "text/html": [
       "<style>\n",
       ".list-inline {list-style: none; margin:0; padding: 0}\n",
       ".list-inline>li {display: inline-block}\n",
       ".list-inline>li:not(:last-child)::after {content: \"\\00b7\"; padding: 0 .5ex}\n",
       "</style>\n",
       "<ol class=list-inline><li>-100</li><li>2.15900391591029</li><li>-0.559477087021856</li><li>-0.0711628652465273</li><li>-0.869139764245231</li><li>-1.4348696553264</li><li>0.938218361471975</li><li>-0.217061626630621</li><li>-0.139645957324771</li><li>0.443949088211587</li><li>-0.249814409798474</li><li>3000</li><li>5000</li></ol>\n"
      ],
      "text/latex": [
       "\\begin{enumerate*}\n",
       "\\item -100\n",
       "\\item 2.15900391591029\n",
       "\\item -0.559477087021856\n",
       "\\item -0.0711628652465273\n",
       "\\item -0.869139764245231\n",
       "\\item -1.4348696553264\n",
       "\\item 0.938218361471975\n",
       "\\item -0.217061626630621\n",
       "\\item -0.139645957324771\n",
       "\\item 0.443949088211587\n",
       "\\item -0.249814409798474\n",
       "\\item 3000\n",
       "\\item 5000\n",
       "\\end{enumerate*}\n"
      ],
      "text/markdown": [
       "1. -100\n",
       "2. 2.15900391591029\n",
       "3. -0.559477087021856\n",
       "4. -0.0711628652465273\n",
       "5. -0.869139764245231\n",
       "6. -1.4348696553264\n",
       "7. 0.938218361471975\n",
       "8. -0.217061626630621\n",
       "9. -0.139645957324771\n",
       "10. 0.443949088211587\n",
       "11. -0.249814409798474\n",
       "12. 3000\n",
       "13. 5000\n",
       "\n",
       "\n"
      ],
      "text/plain": [
       " [1] -100.00000000    2.15900392   -0.55947709   -0.07116287   -0.86913976\n",
       " [6]   -1.43486966    0.93821836   -0.21706163   -0.13964596    0.44394909\n",
       "[11]   -0.24981441 3000.00000000 5000.00000000"
      ]
     },
     "metadata": {},
     "output_type": "display_data"
    }
   ],
   "source": [
    "data_normalized_with_outlier  = c(-100, data_normalized, c(3000, 5000))\n",
    "data_normalized_with_outlier\n"
   ]
  },
  {
   "cell_type": "code",
   "execution_count": 16,
   "id": "6addb179",
   "metadata": {},
   "outputs": [
    {
     "data": {
      "text/html": [
       "<style>\n",
       ".list-inline {list-style: none; margin:0; padding: 0}\n",
       ".list-inline>li {display: inline-block}\n",
       ".list-inline>li:not(:last-child)::after {content: \"\\00b7\"; padding: 0 .5ex}\n",
       "</style>\n",
       "<ol class=list-inline><li>TRUE</li><li>FALSE</li><li>FALSE</li><li>FALSE</li><li>FALSE</li><li>FALSE</li><li>FALSE</li><li>FALSE</li><li>FALSE</li><li>FALSE</li><li>FALSE</li><li>TRUE</li><li>TRUE</li></ol>\n"
      ],
      "text/latex": [
       "\\begin{enumerate*}\n",
       "\\item TRUE\n",
       "\\item FALSE\n",
       "\\item FALSE\n",
       "\\item FALSE\n",
       "\\item FALSE\n",
       "\\item FALSE\n",
       "\\item FALSE\n",
       "\\item FALSE\n",
       "\\item FALSE\n",
       "\\item FALSE\n",
       "\\item FALSE\n",
       "\\item TRUE\n",
       "\\item TRUE\n",
       "\\end{enumerate*}\n"
      ],
      "text/markdown": [
       "1. TRUE\n",
       "2. FALSE\n",
       "3. FALSE\n",
       "4. FALSE\n",
       "5. FALSE\n",
       "6. FALSE\n",
       "7. FALSE\n",
       "8. FALSE\n",
       "9. FALSE\n",
       "10. FALSE\n",
       "11. FALSE\n",
       "12. TRUE\n",
       "13. TRUE\n",
       "\n",
       "\n"
      ],
      "text/plain": [
       " [1]  TRUE FALSE FALSE FALSE FALSE FALSE FALSE FALSE FALSE FALSE FALSE  TRUE\n",
       "[13]  TRUE"
      ]
     },
     "metadata": {},
     "output_type": "display_data"
    }
   ],
   "source": [
    "drop_outliers = function(x){\n",
    "    is_outlier = abs(x) > 3\n",
    "    is_outlier\n",
    "}\n",
    "\n",
    "drop_outliers(data_normalized_with_outlier)"
   ]
  },
  {
   "cell_type": "code",
   "execution_count": 17,
   "id": "a0b62919",
   "metadata": {},
   "outputs": [
    {
     "data": {
      "text/html": [
       "<style>\n",
       ".list-inline {list-style: none; margin:0; padding: 0}\n",
       ".list-inline>li {display: inline-block}\n",
       ".list-inline>li:not(:last-child)::after {content: \"\\00b7\"; padding: 0 .5ex}\n",
       "</style>\n",
       "<ol class=list-inline><li>2.15900391591029</li><li>-0.559477087021856</li><li>-0.0711628652465273</li><li>-0.869139764245231</li><li>-1.4348696553264</li><li>0.938218361471975</li><li>-0.217061626630621</li><li>-0.139645957324771</li><li>0.443949088211587</li><li>-0.249814409798474</li></ol>\n"
      ],
      "text/latex": [
       "\\begin{enumerate*}\n",
       "\\item 2.15900391591029\n",
       "\\item -0.559477087021856\n",
       "\\item -0.0711628652465273\n",
       "\\item -0.869139764245231\n",
       "\\item -1.4348696553264\n",
       "\\item 0.938218361471975\n",
       "\\item -0.217061626630621\n",
       "\\item -0.139645957324771\n",
       "\\item 0.443949088211587\n",
       "\\item -0.249814409798474\n",
       "\\end{enumerate*}\n"
      ],
      "text/markdown": [
       "1. 2.15900391591029\n",
       "2. -0.559477087021856\n",
       "3. -0.0711628652465273\n",
       "4. -0.869139764245231\n",
       "5. -1.4348696553264\n",
       "6. 0.938218361471975\n",
       "7. -0.217061626630621\n",
       "8. -0.139645957324771\n",
       "9. 0.443949088211587\n",
       "10. -0.249814409798474\n",
       "\n",
       "\n"
      ],
      "text/plain": [
       " [1]  2.15900392 -0.55947709 -0.07116287 -0.86913976 -1.43486966  0.93821836\n",
       " [7] -0.21706163 -0.13964596  0.44394909 -0.24981441"
      ]
     },
     "metadata": {},
     "output_type": "display_data"
    }
   ],
   "source": [
    "drop_outliers = function(x){\n",
    "    is_outlier = abs(x) > 3\n",
    "    x[!is_outlier]\n",
    "}\n",
    "\n",
    "drop_outliers(data_normalized_with_outlier)"
   ]
  },
  {
   "cell_type": "code",
   "execution_count": 20,
   "id": "fc3b7a63",
   "metadata": {},
   "outputs": [
    {
     "data": {
      "text/html": [
       "<style>\n",
       ".list-inline {list-style: none; margin:0; padding: 0}\n",
       ".list-inline>li {display: inline-block}\n",
       ".list-inline>li:not(:last-child)::after {content: \"\\00b7\"; padding: 0 .5ex}\n",
       "</style>\n",
       "<ol class=list-inline><li>10000</li><li>171.82</li><li>180.39</li><li>178.24</li><li>183.6</li><li>183.1</li><li>184.95</li><li>182.04</li><li>179.71</li><li>173.57</li><li>184.2</li><li>20000</li></ol>\n"
      ],
      "text/latex": [
       "\\begin{enumerate*}\n",
       "\\item 10000\n",
       "\\item 171.82\n",
       "\\item 180.39\n",
       "\\item 178.24\n",
       "\\item 183.6\n",
       "\\item 183.1\n",
       "\\item 184.95\n",
       "\\item 182.04\n",
       "\\item 179.71\n",
       "\\item 173.57\n",
       "\\item 184.2\n",
       "\\item 20000\n",
       "\\end{enumerate*}\n"
      ],
      "text/markdown": [
       "1. 10000\n",
       "2. 171.82\n",
       "3. 180.39\n",
       "4. 178.24\n",
       "5. 183.6\n",
       "6. 183.1\n",
       "7. 184.95\n",
       "8. 182.04\n",
       "9. 179.71\n",
       "10. 173.57\n",
       "11. 184.2\n",
       "12. 20000\n",
       "\n",
       "\n"
      ],
      "text/plain": [
       " [1] 10000.00   171.82   180.39   178.24   183.60   183.10   184.95   182.04\n",
       " [9]   179.71   173.57   184.20 20000.00"
      ]
     },
     "metadata": {},
     "output_type": "display_data"
    }
   ],
   "source": [
    "data = 10 %>%\n",
    "  rnorm( mean=180, sd=3) %>%\n",
    "  round(2)\n",
    "\n",
    "data_with_outlier = c(10000, data, 20000)\n",
    "data_with_outlier"
   ]
  },
  {
   "cell_type": "code",
   "execution_count": 21,
   "id": "94f953d0",
   "metadata": {},
   "outputs": [
    {
     "data": {
      "text/html": [
       "<style>\n",
       ".list-inline {list-style: none; margin:0; padding: 0}\n",
       ".list-inline>li {display: inline-block}\n",
       ".list-inline>li:not(:last-child)::after {content: \"\\00b7\"; padding: 0 .5ex}\n",
       "</style>\n",
       "<ol class=list-inline><li>-1.86</li><li>0.05</li><li>-0.43</li><li>0.77</li><li>0.66</li><li>1.07</li><li>0.42</li><li>-0.1</li><li>-1.47</li><li>0.9</li></ol>\n"
      ],
      "text/latex": [
       "\\begin{enumerate*}\n",
       "\\item -1.86\n",
       "\\item 0.05\n",
       "\\item -0.43\n",
       "\\item 0.77\n",
       "\\item 0.66\n",
       "\\item 1.07\n",
       "\\item 0.42\n",
       "\\item -0.1\n",
       "\\item -1.47\n",
       "\\item 0.9\n",
       "\\end{enumerate*}\n"
      ],
      "text/markdown": [
       "1. -1.86\n",
       "2. 0.05\n",
       "3. -0.43\n",
       "4. 0.77\n",
       "5. 0.66\n",
       "6. 1.07\n",
       "7. 0.42\n",
       "8. -0.1\n",
       "9. -1.47\n",
       "10. 0.9\n",
       "\n",
       "\n"
      ],
      "text/plain": [
       " [1] -1.86  0.05 -0.43  0.77  0.66  1.07  0.42 -0.10 -1.47  0.90"
      ]
     },
     "metadata": {},
     "output_type": "display_data"
    }
   ],
   "source": [
    "data %>%\n",
    "  remove_na() %>%\n",
    "  normalize_data() %>%\n",
    "  drop_outliers() %>%\n",
    "  round(2)"
   ]
  },
  {
   "cell_type": "markdown",
   "id": "b4f6e5e4",
   "metadata": {},
   "source": [
    "### When to Use Pipes\n",
    "\n",
    "* Pipes should be applied to a short sequence of operations\n",
    "  * 5 to 6 operations\n",
    "  * If longer, create intermediate operations and document the code thoroughly using comments\n",
    "\n",
    "* This approach only works when you take a single object and return a new copy with some modification\n"
   ]
  }
 ],
 "metadata": {
  "kernelspec": {
   "display_name": "R",
   "language": "R",
   "name": "ir"
  },
  "language_info": {
   "codemirror_mode": "r",
   "file_extension": ".r",
   "mimetype": "text/x-r-source",
   "name": "R",
   "pygments_lexer": "r",
   "version": "4.2.1"
  }
 },
 "nbformat": 4,
 "nbformat_minor": 5
}
