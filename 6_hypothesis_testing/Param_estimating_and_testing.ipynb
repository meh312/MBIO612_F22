{
 "cells": [
  {
   "cell_type": "code",
   "execution_count": 21,
   "id": "5f7b98a7",
   "metadata": {},
   "outputs": [
    {
     "data": {
      "text/html": [
       "70"
      ],
      "text/latex": [
       "70"
      ],
      "text/markdown": [
       "70"
      ],
      "text/plain": [
       "[1] 70"
      ]
     },
     "metadata": {},
     "output_type": "display_data"
    }
   ],
   "source": [
    "rbinom(1, 100, 0.75)\n"
   ]
  },
  {
   "cell_type": "code",
   "execution_count": 14,
   "id": "05a2164f",
   "metadata": {
    "pycharm": {
     "name": "#%%\n"
    }
   },
   "outputs": [
    {
     "name": "stderr",
     "output_type": "stream",
     "text": [
      "── \u001b[1mAttaching packages\u001b[22m ────────────────────────────────────────────────────────────────────────────────────────────────────────────────────────────────────────────────────────────────────────────────── tidyverse 1.3.2 ──\n",
      "\u001b[32m✔\u001b[39m \u001b[34mggplot2\u001b[39m 3.3.6     \u001b[32m✔\u001b[39m \u001b[34mpurrr  \u001b[39m 0.3.4\n",
      "\u001b[32m✔\u001b[39m \u001b[34mtibble \u001b[39m 3.1.8     \u001b[32m✔\u001b[39m \u001b[34mdplyr  \u001b[39m 1.0.9\n",
      "\u001b[32m✔\u001b[39m \u001b[34mtidyr  \u001b[39m 1.2.0     \u001b[32m✔\u001b[39m \u001b[34mstringr\u001b[39m 1.4.1\n",
      "\u001b[32m✔\u001b[39m \u001b[34mreadr  \u001b[39m 2.1.2     \u001b[32m✔\u001b[39m \u001b[34mforcats\u001b[39m 0.5.2\n",
      "── \u001b[1mConflicts\u001b[22m ───────────────────────────────────────────────────────────────────────────────────────────────────────────────────────────────────────────────────────────────────────────────────── tidyverse_conflicts() ──\n",
      "\u001b[31m✖\u001b[39m \u001b[34mdplyr\u001b[39m::\u001b[32mfilter()\u001b[39m masks \u001b[34mstats\u001b[39m::filter()\n",
      "\u001b[31m✖\u001b[39m \u001b[34mdplyr\u001b[39m::\u001b[32mlag()\u001b[39m    masks \u001b[34mstats\u001b[39m::lag()\n"
     ]
    }
   ],
   "source": [
    "library(tidyverse)"
   ]
  },
  {
   "cell_type": "markdown",
   "id": "06ee6a59",
   "metadata": {
    "pycharm": {
     "name": "#%% md\n"
    }
   },
   "source": [
    "### Empirical Distribution of a Statistic\n",
    "\n",
    "* The Law of Averages implies that with high probability, the empirical distribution of a large random sample will resemble the distribution of the population from which the sample was drawn.\n",
    "\n",
    "* The empirical histogram of a large random sample is likely to resemble the histogram of the population.\n",
    "\n",
    "* Given a large fish tank that contains 580 Mozambique tilapia fish\n",
    " * Suppose that we know, somehow, the weight of all the fishes in the tank\n",
    "  * Population is the total of all fishes in the tank\n",
    "  * Random variable $X \\sim \\mathcal{N}(630.26, 75.89)$.\n"
   ]
  },
  {
   "cell_type": "code",
   "execution_count": 1,
   "id": "32a475c0",
   "metadata": {
    "pycharm": {
     "name": "#%%\n"
    }
   },
   "outputs": [
    {
     "data": {
      "text/html": [
       "<table class=\"dataframe\">\n",
       "<caption>A data.frame: 6 × 2</caption>\n",
       "<thead>\n",
       "\t<tr><th></th><th scope=col>fish_index</th><th scope=col>data</th></tr>\n",
       "\t<tr><th></th><th scope=col>&lt;int&gt;</th><th scope=col>&lt;dbl&gt;</th></tr>\n",
       "</thead>\n",
       "<tbody>\n",
       "\t<tr><th scope=row>1</th><td>1</td><td>574.2974</td></tr>\n",
       "\t<tr><th scope=row>2</th><td>2</td><td>728.5173</td></tr>\n",
       "\t<tr><th scope=row>3</th><td>3</td><td>517.1673</td></tr>\n",
       "\t<tr><th scope=row>4</th><td>4</td><td>561.2709</td></tr>\n",
       "\t<tr><th scope=row>5</th><td>5</td><td>565.4517</td></tr>\n",
       "\t<tr><th scope=row>6</th><td>6</td><td>696.6255</td></tr>\n",
       "</tbody>\n",
       "</table>\n"
      ],
      "text/latex": [
       "A data.frame: 6 × 2\n",
       "\\begin{tabular}{r|ll}\n",
       "  & fish\\_index & data\\\\\n",
       "  & <int> & <dbl>\\\\\n",
       "\\hline\n",
       "\t1 & 1 & 574.2974\\\\\n",
       "\t2 & 2 & 728.5173\\\\\n",
       "\t3 & 3 & 517.1673\\\\\n",
       "\t4 & 4 & 561.2709\\\\\n",
       "\t5 & 5 & 565.4517\\\\\n",
       "\t6 & 6 & 696.6255\\\\\n",
       "\\end{tabular}\n"
      ],
      "text/markdown": [
       "\n",
       "A data.frame: 6 × 2\n",
       "\n",
       "| <!--/--> | fish_index &lt;int&gt; | data &lt;dbl&gt; |\n",
       "|---|---|---|\n",
       "| 1 | 1 | 574.2974 |\n",
       "| 2 | 2 | 728.5173 |\n",
       "| 3 | 3 | 517.1673 |\n",
       "| 4 | 4 | 561.2709 |\n",
       "| 5 | 5 | 565.4517 |\n",
       "| 6 | 6 | 696.6255 |\n",
       "\n"
      ],
      "text/plain": [
       "  fish_index data    \n",
       "1 1          574.2974\n",
       "2 2          728.5173\n",
       "3 3          517.1673\n",
       "4 4          561.2709\n",
       "5 5          565.4517\n",
       "6 6          696.6255"
      ]
     },
     "metadata": {},
     "output_type": "display_data"
    }
   ],
   "source": [
    "weights = read.csv(\"data/tank_5_oreochromis_mossambicus.csv\")\n",
    "head(weights)"
   ]
  },
  {
   "cell_type": "code",
   "execution_count": 2,
   "id": "d0841d67",
   "metadata": {},
   "outputs": [
    {
     "data": {
      "text/html": [
       "<style>\n",
       ".list-inline {list-style: none; margin:0; padding: 0}\n",
       ".list-inline>li {display: inline-block}\n",
       ".list-inline>li:not(:last-child)::after {content: \"\\00b7\"; padding: 0 .5ex}\n",
       "</style>\n",
       "<ol class=list-inline><li>580</li><li>2</li></ol>\n"
      ],
      "text/latex": [
       "\\begin{enumerate*}\n",
       "\\item 580\n",
       "\\item 2\n",
       "\\end{enumerate*}\n"
      ],
      "text/markdown": [
       "1. 580\n",
       "2. 2\n",
       "\n",
       "\n"
      ],
      "text/plain": [
       "[1] 580   2"
      ]
     },
     "metadata": {},
     "output_type": "display_data"
    }
   ],
   "source": [
    "dim(weights)"
   ]
  },
  {
   "cell_type": "code",
   "execution_count": 5,
   "id": "61f59fff",
   "metadata": {
    "pycharm": {
     "name": "#%%\n"
    }
   },
   "outputs": [
    {
     "name": "stderr",
     "output_type": "stream",
     "text": [
      "\u001b[1mRows: \u001b[22m\u001b[34m580\u001b[39m \u001b[1mColumns: \u001b[22m\u001b[34m2\u001b[39m\n",
      "\u001b[36m──\u001b[39m \u001b[1mColumn specification\u001b[22m \u001b[36m────────────────────────────────────────────────────────────────────────────────────────────────────────────────────────────────────────────────────────────────────────────────────────────────────────────────────────────────────────\u001b[39m\n",
      "\u001b[1mDelimiter:\u001b[22m \",\"\n",
      "\u001b[32mdbl\u001b[39m (2): fish_index, data\n",
      "\n",
      "\u001b[36mℹ\u001b[39m Use `spec()` to retrieve the full column specification for this data.\n",
      "\u001b[36mℹ\u001b[39m Specify the column types or set `show_col_types = FALSE` to quiet this message.\n"
     ]
    },
    {
     "data": {
      "text/html": [
       "<table class=\"dataframe\">\n",
       "<caption>A tibble: 6 × 2</caption>\n",
       "<thead>\n",
       "\t<tr><th scope=col>fish_index</th><th scope=col>data</th></tr>\n",
       "\t<tr><th scope=col>&lt;dbl&gt;</th><th scope=col>&lt;dbl&gt;</th></tr>\n",
       "</thead>\n",
       "<tbody>\n",
       "\t<tr><td>1</td><td>574.2974</td></tr>\n",
       "\t<tr><td>2</td><td>728.5173</td></tr>\n",
       "\t<tr><td>3</td><td>517.1673</td></tr>\n",
       "\t<tr><td>4</td><td>561.2709</td></tr>\n",
       "\t<tr><td>5</td><td>565.4517</td></tr>\n",
       "\t<tr><td>6</td><td>696.6255</td></tr>\n",
       "</tbody>\n",
       "</table>\n"
      ],
      "text/latex": [
       "A tibble: 6 × 2\n",
       "\\begin{tabular}{ll}\n",
       " fish\\_index & data\\\\\n",
       " <dbl> & <dbl>\\\\\n",
       "\\hline\n",
       "\t 1 & 574.2974\\\\\n",
       "\t 2 & 728.5173\\\\\n",
       "\t 3 & 517.1673\\\\\n",
       "\t 4 & 561.2709\\\\\n",
       "\t 5 & 565.4517\\\\\n",
       "\t 6 & 696.6255\\\\\n",
       "\\end{tabular}\n"
      ],
      "text/markdown": [
       "\n",
       "A tibble: 6 × 2\n",
       "\n",
       "| fish_index &lt;dbl&gt; | data &lt;dbl&gt; |\n",
       "|---|---|\n",
       "| 1 | 574.2974 |\n",
       "| 2 | 728.5173 |\n",
       "| 3 | 517.1673 |\n",
       "| 4 | 561.2709 |\n",
       "| 5 | 565.4517 |\n",
       "| 6 | 696.6255 |\n",
       "\n"
      ],
      "text/plain": [
       "  fish_index data    \n",
       "1 1          574.2974\n",
       "2 2          728.5173\n",
       "3 3          517.1673\n",
       "4 4          561.2709\n",
       "5 5          565.4517\n",
       "6 6          696.6255"
      ]
     },
     "metadata": {},
     "output_type": "display_data"
    }
   ],
   "source": [
    "weights_tbl = read_csv(\"data/tank_5_oreochromis_mossambicus.csv\")\n",
    "head(weights_tbl)"
   ]
  },
  {
   "cell_type": "code",
   "execution_count": 7,
   "id": "365d6cca",
   "metadata": {
    "pycharm": {
     "name": "#%%\n"
    }
   },
   "outputs": [
    {
     "data": {
      "text/html": [
       "<table class=\"dataframe\">\n",
       "<caption>A tibble: 6 × 2</caption>\n",
       "<thead>\n",
       "\t<tr><th scope=col>fish_index</th><th scope=col>data</th></tr>\n",
       "\t<tr><th scope=col>&lt;int&gt;</th><th scope=col>&lt;dbl&gt;</th></tr>\n",
       "</thead>\n",
       "<tbody>\n",
       "\t<tr><td>1</td><td>574.2974</td></tr>\n",
       "\t<tr><td>2</td><td>728.5173</td></tr>\n",
       "\t<tr><td>3</td><td>517.1673</td></tr>\n",
       "\t<tr><td>4</td><td>561.2709</td></tr>\n",
       "\t<tr><td>5</td><td>565.4517</td></tr>\n",
       "\t<tr><td>6</td><td>696.6255</td></tr>\n",
       "</tbody>\n",
       "</table>\n"
      ],
      "text/latex": [
       "A tibble: 6 × 2\n",
       "\\begin{tabular}{ll}\n",
       " fish\\_index & data\\\\\n",
       " <int> & <dbl>\\\\\n",
       "\\hline\n",
       "\t 1 & 574.2974\\\\\n",
       "\t 2 & 728.5173\\\\\n",
       "\t 3 & 517.1673\\\\\n",
       "\t 4 & 561.2709\\\\\n",
       "\t 5 & 565.4517\\\\\n",
       "\t 6 & 696.6255\\\\\n",
       "\\end{tabular}\n"
      ],
      "text/markdown": [
       "\n",
       "A tibble: 6 × 2\n",
       "\n",
       "| fish_index &lt;int&gt; | data &lt;dbl&gt; |\n",
       "|---|---|\n",
       "| 1 | 574.2974 |\n",
       "| 2 | 728.5173 |\n",
       "| 3 | 517.1673 |\n",
       "| 4 | 561.2709 |\n",
       "| 5 | 565.4517 |\n",
       "| 6 | 696.6255 |\n",
       "\n"
      ],
      "text/plain": [
       "  fish_index data    \n",
       "1 1          574.2974\n",
       "2 2          728.5173\n",
       "3 3          517.1673\n",
       "4 4          561.2709\n",
       "5 5          565.4517\n",
       "6 6          696.6255"
      ]
     },
     "metadata": {},
     "output_type": "display_data"
    }
   ],
   "source": [
    "weights_tbl <- read_csv(\"data/tank_5_oreochromis_mossambicus.csv\",\n",
    "                      col_types = cols(\n",
    "                        fish_index = col_integer(),\n",
    "                        data = col_double()\n",
    "                      ))\n",
    "head(weights_tbl)"
   ]
  },
  {
   "cell_type": "code",
   "execution_count": 8,
   "id": "f1ee8556",
   "metadata": {
    "pycharm": {
     "name": "#%%\n"
    }
   },
   "outputs": [
    {
     "data": {
      "text/html": [
       "<table class=\"dataframe\">\n",
       "<caption>A tibble: 6 × 2</caption>\n",
       "<thead>\n",
       "\t<tr><th scope=col>index</th><th scope=col>weights</th></tr>\n",
       "\t<tr><th scope=col>&lt;int&gt;</th><th scope=col>&lt;dbl&gt;</th></tr>\n",
       "</thead>\n",
       "<tbody>\n",
       "\t<tr><td>1</td><td>574.2974</td></tr>\n",
       "\t<tr><td>2</td><td>728.5173</td></tr>\n",
       "\t<tr><td>3</td><td>517.1673</td></tr>\n",
       "\t<tr><td>4</td><td>561.2709</td></tr>\n",
       "\t<tr><td>5</td><td>565.4517</td></tr>\n",
       "\t<tr><td>6</td><td>696.6255</td></tr>\n",
       "</tbody>\n",
       "</table>\n"
      ],
      "text/latex": [
       "A tibble: 6 × 2\n",
       "\\begin{tabular}{ll}\n",
       " index & weights\\\\\n",
       " <int> & <dbl>\\\\\n",
       "\\hline\n",
       "\t 1 & 574.2974\\\\\n",
       "\t 2 & 728.5173\\\\\n",
       "\t 3 & 517.1673\\\\\n",
       "\t 4 & 561.2709\\\\\n",
       "\t 5 & 565.4517\\\\\n",
       "\t 6 & 696.6255\\\\\n",
       "\\end{tabular}\n"
      ],
      "text/markdown": [
       "\n",
       "A tibble: 6 × 2\n",
       "\n",
       "| index &lt;int&gt; | weights &lt;dbl&gt; |\n",
       "|---|---|\n",
       "| 1 | 574.2974 |\n",
       "| 2 | 728.5173 |\n",
       "| 3 | 517.1673 |\n",
       "| 4 | 561.2709 |\n",
       "| 5 | 565.4517 |\n",
       "| 6 | 696.6255 |\n",
       "\n"
      ],
      "text/plain": [
       "  index weights \n",
       "1 1     574.2974\n",
       "2 2     728.5173\n",
       "3 3     517.1673\n",
       "4 4     561.2709\n",
       "5 5     565.4517\n",
       "6 6     696.6255"
      ]
     },
     "metadata": {},
     "output_type": "display_data"
    }
   ],
   "source": [
    "names(weights_tbl) = c(\"index\", \"weights\")\n",
    "head(weights_tbl)"
   ]
  },
  {
   "cell_type": "code",
   "execution_count": 14,
   "id": "6bd4014f",
   "metadata": {
    "pycharm": {
     "name": "#%%\n"
    }
   },
   "outputs": [
    {
     "data": {
      "image/png": "[encoded data removed]",
      "text/plain": [
       "plot without title"
      ]
     },
     "metadata": {
      "image/png": {
       "height": 420,
       "width": 420
      }
     },
     "output_type": "display_data"
    }
   ],
   "source": [
    "ggplot(data=weights_tbl) + \n",
    "  geom_histogram(aes(x=weights), bins = 25, alpha=0.5, color=\"black\", size=1)\n"
   ]
  },
  {
   "cell_type": "markdown",
   "id": "5650e78d",
   "metadata": {
    "pycharm": {
     "name": "#%% md\n"
    }
   },
   "source": [
    "### Working with Kernel Density Estimates\n",
    "\n",
    "\n",
    "* Kernel density estimation (KDE) is a non-parametric way to estimate the probability density function of a random variable\n",
    "  * A fundamental data smoothing problem where inferences about the population are made, based on a finite data sample.\n",
    "\n",
    "* We much prefer to visualize data using KDEs instead of histograms for several reasons, which we will discuss later \n",
    "  * `geom_density` estiames the density using the KDE approach.\n",
    "  * Param `bw` of `geom_density` is tricky to estimate, but for now, we will just use the value that provides the smoothest KDE with the lowest variance.\n"
   ]
  },
  {
   "cell_type": "code",
   "execution_count": 8,
   "id": "c2d97dd9",
   "metadata": {
    "pycharm": {
     "name": "#%%\n"
    }
   },
   "outputs": [
    {
     "data": {
      "image/png": "[encoded data removed]",
      "text/plain": [
       "plot without title"
      ]
     },
     "metadata": {
      "image/png": {
       "height": 420,
       "width": 420
      }
     },
     "output_type": "display_data"
    }
   ],
   "source": [
    "ggplot(data=weights_tbl) + \n",
    "  geom_density(aes(x=weights), color=\"black\", size=1, bw=30)\n",
    "\n"
   ]
  },
  {
   "cell_type": "code",
   "execution_count": 10,
   "id": "8b32604d",
   "metadata": {
    "pycharm": {
     "name": "#%%\n"
    }
   },
   "outputs": [
    {
     "data": {
      "image/png": "[encoded data removed]",
      "text/plain": [
       "plot without title"
      ]
     },
     "metadata": {
      "image/png": {
       "height": 420,
       "width": 420
      }
     },
     "output_type": "display_data"
    }
   ],
   "source": [
    "ggplot(data=weights_tbl) + \n",
    "  geom_histogram(aes(x=weights, y=..density..), bins = 25, alpha=0.5, color=\"black\", size=1) +\n",
    "  geom_density(aes(x=weights), color=\"black\", size=1, bw=25) +  \n",
    "  scale_x_continuous(limits=c(300,1200), oob = scales::oob_keep)\n",
    "  \n",
    "# The oob = scales::oob_keep was added to fix an obscure warning\n",
    "# the solution was proposed here\n",
    "# https://github.com/tidyverse/ggplot2/issues/4083"
   ]
  },
  {
   "cell_type": "markdown",
   "id": "e5892c66",
   "metadata": {
    "pycharm": {
     "name": "#%% md\n"
    }
   },
   "source": [
    "### Parameters of a Distribution\n",
    "\n",
    "* Recall that a distribution's parameters define what the distribution looks like\n",
    "  * They are the numerical quantities that define a population\n",
    "\n",
    "* Knowing the parameters can help:\n",
    "  * Calculate the probability of certain events\n",
    "  * Compute expectation\n",
    "  * Understand the variance in the observations\n",
    "\n",
    "* For the fish data, we can easily compute the population parameters.\n",
    " * We distinguish sample mean $\\bar{X}$ from population mean $\\mu$\n",
    "   * We typically compute $\\bar{X}$ based on a small sample of the data as a proxy for $\\mu$\n",
    " * Here, we have access to the whole population, so we can calculate the population mean"
   ]
  },
  {
   "cell_type": "code",
   "execution_count": 11,
   "id": "00ae9bd4",
   "metadata": {
    "pycharm": {
     "name": "#%%\n"
    }
   },
   "outputs": [
    {
     "data": {
      "text/html": [
       "630.264650954715"
      ],
      "text/latex": [
       "630.264650954715"
      ],
      "text/markdown": [
       "630.264650954715"
      ],
      "text/plain": [
       "[1] 630.2647"
      ]
     },
     "metadata": {},
     "output_type": "display_data"
    },
    {
     "data": {
      "text/html": [
       "75.8954034612239"
      ],
      "text/latex": [
       "75.8954034612239"
      ],
      "text/markdown": [
       "75.8954034612239"
      ],
      "text/plain": [
       "[1] 75.8954"
      ]
     },
     "metadata": {},
     "output_type": "display_data"
    }
   ],
   "source": [
    "mean(weights_tbl$weights)\n",
    "sd(weights_tbl$weights)"
   ]
  },
  {
   "cell_type": "markdown",
   "id": "97a92e5b",
   "metadata": {
    "pycharm": {
     "name": "#%% md\n"
    }
   },
   "source": [
    "### Statistics \n",
    "\n",
    "- Statistics (field) deals to a large part with the estimation of unknown parameters. \n",
    "\n",
    "- A **statistic** (singular!) is any number computed using the data in a sample. \n",
    "\n",
    "* parameters estimated from subsets of the data are, therefore, statistics\n",
    "\n",
    "  * Statistics are subject to sample bias.\n",
    "\n",
    "* We know that for well behaved distributions samples are likely to resemble the populations they are drawn from\n",
    "  * This is the whole promise in stats\n",
    "\n",
    "* What would the sample mean look like if we randomly sampled from the population of all fish?\n"
   ]
  },
  {
   "cell_type": "code",
   "execution_count": 19,
   "id": "36d28984",
   "metadata": {
    "pycharm": {
     "name": "#%%\n"
    }
   },
   "outputs": [
    {
     "data": {
      "text/html": [
       "610.292127676524"
      ],
      "text/latex": [
       "610.292127676524"
      ],
      "text/markdown": [
       "610.292127676524"
      ],
      "text/plain": [
       "[1] 610.2921"
      ]
     },
     "metadata": {},
     "output_type": "display_data"
    }
   ],
   "source": [
    "set.seed(32) # Ask me what this means?\n",
    "random_sample = sample(weights_tbl$weights, 50)\n",
    "mean(random_sample)"
   ]
  },
  {
   "cell_type": "code",
   "execution_count": 20,
   "id": "102cf174",
   "metadata": {
    "pycharm": {
     "name": "#%%\n"
    }
   },
   "outputs": [
    {
     "data": {
      "text/html": [
       "631.69994978109"
      ],
      "text/latex": [
       "631.69994978109"
      ],
      "text/markdown": [
       "631.69994978109"
      ],
      "text/plain": [
       "[1] 631.6999"
      ]
     },
     "metadata": {},
     "output_type": "display_data"
    }
   ],
   "source": [
    "random_sample = sample(weights_tbl$weights, 50)\n",
    "mean(random_sample)"
   ]
  },
  {
   "cell_type": "markdown",
   "id": "e17e77e5",
   "metadata": {
    "pycharm": {
     "name": "#%% md\n"
    }
   },
   "source": [
    "### Statistics - Cont'd\n",
    "\n",
    "* Each sample (50 fish) produces one observed value of the statistic. \n",
    "  * These values are \"somewhat\" similar to the real population mean (630.26)\n",
    "\n",
    "* It is highly unlikely that different samples will yield the same statistic.\n",
    "* Based on the selected samples, how does the statistic change? It is possible to answer this question by computing the statistic many times and noting the results\n",
    "  * A histogram of those values will show us how the statistic is distributed.\n"
   ]
  },
  {
   "cell_type": "code",
   "execution_count": 21,
   "id": "6a01c464",
   "metadata": {
    "pycharm": {
     "name": "#%%\n"
    }
   },
   "outputs": [
    {
     "data": {
      "text/html": [
       "<table class=\"dataframe\">\n",
       "<caption>A matrix: 50 × 2 of type dbl</caption>\n",
       "<tbody>\n",
       "\t<tr><td>548.7803</td><td>586.7556</td></tr>\n",
       "\t<tr><td>594.5981</td><td>607.1552</td></tr>\n",
       "\t<tr><td>579.1077</td><td>680.5137</td></tr>\n",
       "\t<tr><td>561.2709</td><td>565.5827</td></tr>\n",
       "\t<tr><td>624.1020</td><td>591.2804</td></tr>\n",
       "\t<tr><td>647.3248</td><td>676.6681</td></tr>\n",
       "\t<tr><td>689.8878</td><td>716.2808</td></tr>\n",
       "\t<tr><td>587.7465</td><td>584.8933</td></tr>\n",
       "\t<tr><td>643.6683</td><td>665.8153</td></tr>\n",
       "\t<tr><td>628.8683</td><td>656.9784</td></tr>\n",
       "\t<tr><td>602.7418</td><td>665.4765</td></tr>\n",
       "\t<tr><td>624.9345</td><td>572.5309</td></tr>\n",
       "\t<tr><td>597.4559</td><td>636.8339</td></tr>\n",
       "\t<tr><td>625.6470</td><td>511.5269</td></tr>\n",
       "\t<tr><td>739.6466</td><td>631.9769</td></tr>\n",
       "\t<tr><td>640.9678</td><td>661.9350</td></tr>\n",
       "\t<tr><td>699.4125</td><td>551.2321</td></tr>\n",
       "\t<tr><td>643.3922</td><td>550.9752</td></tr>\n",
       "\t<tr><td>696.6255</td><td>692.1159</td></tr>\n",
       "\t<tr><td>590.9808</td><td>647.7979</td></tr>\n",
       "\t<tr><td>610.2621</td><td>587.1474</td></tr>\n",
       "\t<tr><td>761.1592</td><td>551.5883</td></tr>\n",
       "\t<tr><td>451.5276</td><td>595.2859</td></tr>\n",
       "\t<tr><td>668.2208</td><td>704.5368</td></tr>\n",
       "\t<tr><td>586.4496</td><td>548.8541</td></tr>\n",
       "\t<tr><td>588.6549</td><td>543.1448</td></tr>\n",
       "\t<tr><td>697.5139</td><td>623.9581</td></tr>\n",
       "\t<tr><td>640.0696</td><td>668.2898</td></tr>\n",
       "\t<tr><td>585.0128</td><td>708.5096</td></tr>\n",
       "\t<tr><td>716.2808</td><td>534.0245</td></tr>\n",
       "\t<tr><td>648.1928</td><td>583.6637</td></tr>\n",
       "\t<tr><td>709.7801</td><td>649.5066</td></tr>\n",
       "\t<tr><td>603.5754</td><td>644.9049</td></tr>\n",
       "\t<tr><td>598.7069</td><td>717.9873</td></tr>\n",
       "\t<tr><td>647.7979</td><td>738.7807</td></tr>\n",
       "\t<tr><td>534.2482</td><td>631.3019</td></tr>\n",
       "\t<tr><td>622.3356</td><td>678.6765</td></tr>\n",
       "\t<tr><td>671.3599</td><td>612.0528</td></tr>\n",
       "\t<tr><td>600.6940</td><td>616.6133</td></tr>\n",
       "\t<tr><td>685.1881</td><td>739.6903</td></tr>\n",
       "\t<tr><td>622.1810</td><td>561.2709</td></tr>\n",
       "\t<tr><td>688.0901</td><td>619.0905</td></tr>\n",
       "\t<tr><td>536.3424</td><td>735.9367</td></tr>\n",
       "\t<tr><td>715.1758</td><td>762.3774</td></tr>\n",
       "\t<tr><td>619.0582</td><td>603.5754</td></tr>\n",
       "\t<tr><td>615.1526</td><td>644.0904</td></tr>\n",
       "\t<tr><td>645.7885</td><td>684.8501</td></tr>\n",
       "\t<tr><td>540.8679</td><td>599.2372</td></tr>\n",
       "\t<tr><td>622.0339</td><td>702.3955</td></tr>\n",
       "\t<tr><td>687.1476</td><td>739.6466</td></tr>\n",
       "</tbody>\n",
       "</table>\n"
      ],
      "text/latex": [
       "A matrix: 50 × 2 of type dbl\n",
       "\\begin{tabular}{ll}\n",
       "\t 548.7803 & 586.7556\\\\\n",
       "\t 594.5981 & 607.1552\\\\\n",
       "\t 579.1077 & 680.5137\\\\\n",
       "\t 561.2709 & 565.5827\\\\\n",
       "\t 624.1020 & 591.2804\\\\\n",
       "\t 647.3248 & 676.6681\\\\\n",
       "\t 689.8878 & 716.2808\\\\\n",
       "\t 587.7465 & 584.8933\\\\\n",
       "\t 643.6683 & 665.8153\\\\\n",
       "\t 628.8683 & 656.9784\\\\\n",
       "\t 602.7418 & 665.4765\\\\\n",
       "\t 624.9345 & 572.5309\\\\\n",
       "\t 597.4559 & 636.8339\\\\\n",
       "\t 625.6470 & 511.5269\\\\\n",
       "\t 739.6466 & 631.9769\\\\\n",
       "\t 640.9678 & 661.9350\\\\\n",
       "\t 699.4125 & 551.2321\\\\\n",
       "\t 643.3922 & 550.9752\\\\\n",
       "\t 696.6255 & 692.1159\\\\\n",
       "\t 590.9808 & 647.7979\\\\\n",
       "\t 610.2621 & 587.1474\\\\\n",
       "\t 761.1592 & 551.5883\\\\\n",
       "\t 451.5276 & 595.2859\\\\\n",
       "\t 668.2208 & 704.5368\\\\\n",
       "\t 586.4496 & 548.8541\\\\\n",
       "\t 588.6549 & 543.1448\\\\\n",
       "\t 697.5139 & 623.9581\\\\\n",
       "\t 640.0696 & 668.2898\\\\\n",
       "\t 585.0128 & 708.5096\\\\\n",
       "\t 716.2808 & 534.0245\\\\\n",
       "\t 648.1928 & 583.6637\\\\\n",
       "\t 709.7801 & 649.5066\\\\\n",
       "\t 603.5754 & 644.9049\\\\\n",
       "\t 598.7069 & 717.9873\\\\\n",
       "\t 647.7979 & 738.7807\\\\\n",
       "\t 534.2482 & 631.3019\\\\\n",
       "\t 622.3356 & 678.6765\\\\\n",
       "\t 671.3599 & 612.0528\\\\\n",
       "\t 600.6940 & 616.6133\\\\\n",
       "\t 685.1881 & 739.6903\\\\\n",
       "\t 622.1810 & 561.2709\\\\\n",
       "\t 688.0901 & 619.0905\\\\\n",
       "\t 536.3424 & 735.9367\\\\\n",
       "\t 715.1758 & 762.3774\\\\\n",
       "\t 619.0582 & 603.5754\\\\\n",
       "\t 615.1526 & 644.0904\\\\\n",
       "\t 645.7885 & 684.8501\\\\\n",
       "\t 540.8679 & 599.2372\\\\\n",
       "\t 622.0339 & 702.3955\\\\\n",
       "\t 687.1476 & 739.6466\\\\\n",
       "\\end{tabular}\n"
      ],
      "text/markdown": [
       "\n",
       "A matrix: 50 × 2 of type dbl\n",
       "\n",
       "| 548.7803 | 586.7556 |\n",
       "| 594.5981 | 607.1552 |\n",
       "| 579.1077 | 680.5137 |\n",
       "| 561.2709 | 565.5827 |\n",
       "| 624.1020 | 591.2804 |\n",
       "| 647.3248 | 676.6681 |\n",
       "| 689.8878 | 716.2808 |\n",
       "| 587.7465 | 584.8933 |\n",
       "| 643.6683 | 665.8153 |\n",
       "| 628.8683 | 656.9784 |\n",
       "| 602.7418 | 665.4765 |\n",
       "| 624.9345 | 572.5309 |\n",
       "| 597.4559 | 636.8339 |\n",
       "| 625.6470 | 511.5269 |\n",
       "| 739.6466 | 631.9769 |\n",
       "| 640.9678 | 661.9350 |\n",
       "| 699.4125 | 551.2321 |\n",
       "| 643.3922 | 550.9752 |\n",
       "| 696.6255 | 692.1159 |\n",
       "| 590.9808 | 647.7979 |\n",
       "| 610.2621 | 587.1474 |\n",
       "| 761.1592 | 551.5883 |\n",
       "| 451.5276 | 595.2859 |\n",
       "| 668.2208 | 704.5368 |\n",
       "| 586.4496 | 548.8541 |\n",
       "| 588.6549 | 543.1448 |\n",
       "| 697.5139 | 623.9581 |\n",
       "| 640.0696 | 668.2898 |\n",
       "| 585.0128 | 708.5096 |\n",
       "| 716.2808 | 534.0245 |\n",
       "| 648.1928 | 583.6637 |\n",
       "| 709.7801 | 649.5066 |\n",
       "| 603.5754 | 644.9049 |\n",
       "| 598.7069 | 717.9873 |\n",
       "| 647.7979 | 738.7807 |\n",
       "| 534.2482 | 631.3019 |\n",
       "| 622.3356 | 678.6765 |\n",
       "| 671.3599 | 612.0528 |\n",
       "| 600.6940 | 616.6133 |\n",
       "| 685.1881 | 739.6903 |\n",
       "| 622.1810 | 561.2709 |\n",
       "| 688.0901 | 619.0905 |\n",
       "| 536.3424 | 735.9367 |\n",
       "| 715.1758 | 762.3774 |\n",
       "| 619.0582 | 603.5754 |\n",
       "| 615.1526 | 644.0904 |\n",
       "| 645.7885 | 684.8501 |\n",
       "| 540.8679 | 599.2372 |\n",
       "| 622.0339 | 702.3955 |\n",
       "| 687.1476 | 739.6466 |\n",
       "\n"
      ],
      "text/plain": [
       "      [,1]     [,2]    \n",
       " [1,] 548.7803 586.7556\n",
       " [2,] 594.5981 607.1552\n",
       " [3,] 579.1077 680.5137\n",
       " [4,] 561.2709 565.5827\n",
       " [5,] 624.1020 591.2804\n",
       " [6,] 647.3248 676.6681\n",
       " [7,] 689.8878 716.2808\n",
       " [8,] 587.7465 584.8933\n",
       " [9,] 643.6683 665.8153\n",
       "[10,] 628.8683 656.9784\n",
       "[11,] 602.7418 665.4765\n",
       "[12,] 624.9345 572.5309\n",
       "[13,] 597.4559 636.8339\n",
       "[14,] 625.6470 511.5269\n",
       "[15,] 739.6466 631.9769\n",
       "[16,] 640.9678 661.9350\n",
       "[17,] 699.4125 551.2321\n",
       "[18,] 643.3922 550.9752\n",
       "[19,] 696.6255 692.1159\n",
       "[20,] 590.9808 647.7979\n",
       "[21,] 610.2621 587.1474\n",
       "[22,] 761.1592 551.5883\n",
       "[23,] 451.5276 595.2859\n",
       "[24,] 668.2208 704.5368\n",
       "[25,] 586.4496 548.8541\n",
       "[26,] 588.6549 543.1448\n",
       "[27,] 697.5139 623.9581\n",
       "[28,] 640.0696 668.2898\n",
       "[29,] 585.0128 708.5096\n",
       "[30,] 716.2808 534.0245\n",
       "[31,] 648.1928 583.6637\n",
       "[32,] 709.7801 649.5066\n",
       "[33,] 603.5754 644.9049\n",
       "[34,] 598.7069 717.9873\n",
       "[35,] 647.7979 738.7807\n",
       "[36,] 534.2482 631.3019\n",
       "[37,] 622.3356 678.6765\n",
       "[38,] 671.3599 612.0528\n",
       "[39,] 600.6940 616.6133\n",
       "[40,] 685.1881 739.6903\n",
       "[41,] 622.1810 561.2709\n",
       "[42,] 688.0901 619.0905\n",
       "[43,] 536.3424 735.9367\n",
       "[44,] 715.1758 762.3774\n",
       "[45,] 619.0582 603.5754\n",
       "[46,] 615.1526 644.0904\n",
       "[47,] 645.7885 684.8501\n",
       "[48,] 540.8679 599.2372\n",
       "[49,] 622.0339 702.3955\n",
       "[50,] 687.1476 739.6466"
      ]
     },
     "metadata": {},
     "output_type": "display_data"
    }
   ],
   "source": [
    "n = 2\n",
    "\n",
    "n %>%\n",
    "  replicate(sample(weights_tbl$weights, 50))"
   ]
  },
  {
   "cell_type": "code",
   "execution_count": 17,
   "id": "74307683",
   "metadata": {
    "pycharm": {
     "name": "#%%\n"
    }
   },
   "outputs": [
    {
     "data": {
      "text/html": [
       "<style>\n",
       ".list-inline {list-style: none; margin:0; padding: 0}\n",
       ".list-inline>li {display: inline-block}\n",
       ".list-inline>li:not(:last-child)::after {content: \"\\00b7\"; padding: 0 .5ex}\n",
       "</style>\n",
       "<ol class=list-inline><li>631.906438535933</li><li>651.665878687113</li></ol>\n"
      ],
      "text/latex": [
       "\\begin{enumerate*}\n",
       "\\item 631.906438535933\n",
       "\\item 651.665878687113\n",
       "\\end{enumerate*}\n"
      ],
      "text/markdown": [
       "1. 631.906438535933\n",
       "2. 651.665878687113\n",
       "\n",
       "\n"
      ],
      "text/plain": [
       "[1] 631.9064 651.6659"
      ]
     },
     "metadata": {},
     "output_type": "display_data"
    }
   ],
   "source": [
    "n = 2\n",
    "\n",
    "n %>%\n",
    "  replicate(sample(weights_tbl$weights, 50)) %>%\n",
    "  t() %>%\n",
    "  apply(1, mean)\n"
   ]
  },
  {
   "cell_type": "code",
   "execution_count": 22,
   "id": "da0955e7",
   "metadata": {
    "pycharm": {
     "name": "#%%\n"
    }
   },
   "outputs": [],
   "source": [
    "set.seed(42)\n",
    "n = 1000\n",
    "\n",
    "samples_means <- n %>%\n",
    "  replicate(sample(weights_tbl$weights, 50)) %>%\n",
    "  t() %>%\n",
    "  apply(  1, mean)"
   ]
  },
  {
   "cell_type": "code",
   "execution_count": 23,
   "id": "3eb6cb10",
   "metadata": {},
   "outputs": [
    {
     "data": {
      "text/html": [
       "<style>\n",
       ".list-inline {list-style: none; margin:0; padding: 0}\n",
       ".list-inline>li {display: inline-block}\n",
       ".list-inline>li:not(:last-child)::after {content: \"\\00b7\"; padding: 0 .5ex}\n",
       "</style>\n",
       "<ol class=list-inline><li>632.123061152389</li><li>641.456858708358</li><li>638.247202031012</li><li>624.534429027101</li><li>609.017394646223</li><li>622.941374764352</li><li>639.653920114288</li><li>638.024770326387</li><li>613.991470842036</li><li>637.400071106166</li><li>639.615063298163</li><li>638.663978365119</li><li>622.922406642689</li><li>637.889893317655</li><li>639.12125863537</li><li>644.15525128332</li><li>620.874035384226</li><li>637.060257071102</li><li>638.802087979442</li><li>623.31643356576</li><li>632.327032000315</li><li>651.982016414304</li><li>645.436338555984</li><li>634.232425678122</li><li>621.572984066437</li><li>622.966030177619</li><li>648.619236727153</li><li>624.41724553486</li><li>607.620883571855</li><li>632.67354099288</li><li>611.093575221711</li><li>628.285894447562</li><li>633.596904077442</li><li>630.298599839696</li><li>650.450965807766</li><li>635.324588833587</li><li>610.844345451253</li><li>624.67160297255</li><li>627.749307577779</li><li>623.700447441188</li><li>618.893671719656</li><li>646.594937463583</li><li>624.373046528862</li><li>632.735988533846</li><li>616.805713331039</li><li>624.902497684185</li><li>599.745664038845</li><li>622.763283471027</li><li>634.927930475859</li><li>625.138030503505</li><li>631.258328669466</li><li>627.139763179225</li><li>628.224494689591</li><li>628.733507034439</li><li>630.04209584692</li><li>645.136351003674</li><li>642.087099268208</li><li>629.277242566829</li><li>638.616603587494</li><li>639.57152706404</li><li>621.676884772388</li><li>626.850730734451</li><li>644.170201453134</li><li>627.994892345305</li><li>607.114588406537</li><li>621.073238026124</li><li>644.304380337978</li><li>618.697747601975</li><li>615.115530029553</li><li>629.756367553319</li><li>625.686425153929</li><li>626.036813831712</li><li>633.940707316527</li><li>636.857253971151</li><li>633.028169670287</li><li>630.312781841788</li><li>617.775416060182</li><li>618.569026573042</li><li>617.991715073677</li><li>612.193741318833</li><li>634.440911452571</li><li>635.762891211748</li><li>604.453579762239</li><li>612.104273884738</li><li>642.3413351657</li><li>636.019003835833</li><li>636.869779889912</li><li>624.78119149054</li><li>650.469932326031</li><li>629.7852651721</li><li>615.551131243322</li><li>616.796642820501</li><li>630.541301105506</li><li>629.967031016014</li><li>659.683200947632</li><li>635.013331906315</li><li>631.798465826631</li><li>626.967344594328</li><li>639.881877489176</li><li>644.03489239273</li><li>619.133818917293</li><li>619.803089306778</li><li>635.54692615759</li><li>650.150391759435</li><li>649.246481277198</li><li>631.199098810279</li><li>636.784394931756</li><li>647.069585765915</li><li>631.927096331265</li><li>614.373322322944</li><li>634.801439326763</li><li>614.39482338323</li><li>603.806127430767</li><li>638.114692746849</li><li>625.01599984354</li><li>644.826468532899</li><li>637.120070136753</li><li>635.84637777329</li><li>626.67249939852</li><li>626.148859209677</li><li>614.509284381752</li><li>635.996081601511</li><li>640.23072971433</li><li>632.204564690682</li><li>624.171105176831</li><li>621.37704282948</li><li>618.568981557971</li><li>637.50258496275</li><li>631.977458238012</li><li>622.474854997529</li><li>624.664299364855</li><li>622.746155329371</li><li>629.108412916031</li><li>611.007509906181</li><li>636.921298073753</li><li>634.097307986832</li><li>613.890360083845</li><li>629.192820128284</li><li>626.457716355689</li><li>633.378917693604</li><li>617.002869532643</li><li>622.484951491091</li><li>627.459836866249</li><li>635.106258620984</li><li>620.489943613035</li><li>636.305183758181</li><li>629.103760536119</li><li>628.643767670767</li><li>650.129104747272</li><li>623.247559227959</li><li>627.682668751331</li><li>609.618123661514</li><li>623.717646878462</li><li>646.1787285017</li><li>642.818074504023</li><li>634.514124997785</li><li>630.416779356068</li><li>603.612341931561</li><li>623.380979519482</li><li>640.698302371996</li><li>627.903635208429</li><li>644.533888665442</li><li>639.055262884746</li><li>649.307103559666</li><li>622.185907050955</li><li>622.313543278564</li><li>600.699700713094</li><li>639.201156610295</li><li>635.218326765625</li><li>627.883458217048</li><li>623.430280174559</li><li>637.37976529007</li><li>640.181573699625</li><li>641.474386797975</li><li>636.63094564116</li><li>628.621029321507</li><li>632.967953453334</li><li>615.415515107169</li><li>619.643693325801</li><li>630.118218598261</li><li>630.888248107476</li><li>620.678450393736</li><li>643.654038494399</li><li>638.93473589309</li><li>628.826068769682</li><li>640.169177110426</li><li>619.326368168895</li><li>628.511675876977</li><li>636.030509127456</li><li>637.040736853091</li><li>628.354801277336</li><li>633.239908123657</li><li>616.556960345949</li><li>618.65820445622</li><li>626.958766476408</li><li>614.468099732983</li><li>652.311212729016</li><li>613.910408488554</li><li>642.351334128819</li><li>654.606537690465</li><li>⋯</li><li>645.149595573901</li><li>622.659748301209</li><li>640.55095613976</li><li>631.169394894791</li><li>638.993356065122</li><li>617.20231643404</li><li>639.528069974848</li><li>620.836234304015</li><li>619.530023542194</li><li>629.510925817776</li><li>629.048048147631</li><li>603.051741150856</li><li>627.81485664074</li><li>632.592460621123</li><li>635.038483314435</li><li>629.95959483822</li><li>632.070142966255</li><li>632.888239337622</li><li>637.843809578065</li><li>633.096495682568</li><li>639.021575910086</li><li>630.073335868108</li><li>610.322215260596</li><li>633.754041929222</li><li>636.92156558807</li><li>638.354888729617</li><li>640.847345263093</li><li>648.637410919678</li><li>636.471003032841</li><li>641.238650052201</li><li>632.046600426173</li><li>624.056525830285</li><li>632.696909072065</li><li>623.593622697388</li><li>630.398956517848</li><li>639.337832529307</li><li>627.31849946655</li><li>612.194521256774</li><li>643.996736877639</li><li>629.776907109658</li><li>655.491392165615</li><li>630.083716590929</li><li>620.486906668566</li><li>617.877146239189</li><li>617.814043702011</li><li>653.421399983282</li><li>636.933802393489</li><li>643.562527845855</li><li>623.610586287562</li><li>629.323837402628</li><li>630.246957280609</li><li>638.13788785882</li><li>632.211281547744</li><li>631.001670866478</li><li>637.978972522891</li><li>615.080027977039</li><li>638.749035198771</li><li>611.942326717468</li><li>629.513057473292</li><li>622.464972650133</li><li>632.774431311893</li><li>631.27921994791</li><li>640.310276999173</li><li>633.090930191294</li><li>626.951248102449</li><li>619.32808725851</li><li>620.757643187349</li><li>607.009790273797</li><li>609.635010951178</li><li>626.086777744203</li><li>636.102860796469</li><li>624.50815040838</li><li>645.447118873613</li><li>616.07520295343</li><li>618.068427273601</li><li>614.12178686198</li><li>644.361043168647</li><li>626.866993294689</li><li>635.838145669318</li><li>628.545862625934</li><li>611.480348177729</li><li>657.532297904266</li><li>605.847273491303</li><li>654.264658730886</li><li>642.379380444447</li><li>648.060868531909</li><li>627.32663921964</li><li>636.291503859149</li><li>635.837934889477</li><li>633.371404812469</li><li>638.933658553382</li><li>618.830379937747</li><li>643.705680429715</li><li>624.632453817857</li><li>644.326326955533</li><li>632.021642867056</li><li>632.005222916017</li><li>627.088533450525</li><li>613.946525937716</li><li>603.11586210305</li><li>648.726472080596</li><li>619.737880257948</li><li>636.79487328384</li><li>645.713200511737</li><li>618.082431832528</li><li>639.463303356756</li><li>619.985043186952</li><li>621.537590811127</li><li>624.042459200195</li><li>633.296072671759</li><li>641.464688706684</li><li>625.649039564747</li><li>633.036808384331</li><li>611.60679806719</li><li>628.273964234092</li><li>634.372943680283</li><li>621.557934894442</li><li>640.3183453232</li><li>630.194092348782</li><li>621.642070302458</li><li>633.457119579458</li><li>625.073240968328</li><li>654.458058674894</li><li>635.026181324985</li><li>635.204015156434</li><li>625.325246609587</li><li>630.315846692738</li><li>633.029430457222</li><li>620.567987722909</li><li>624.350023591647</li><li>616.299986746525</li><li>646.148643042418</li><li>648.938150296764</li><li>630.611189190422</li><li>623.713912104351</li><li>635.078722389868</li><li>614.777858035959</li><li>626.127422345304</li><li>643.673629605221</li><li>631.276495208493</li><li>619.685918798218</li><li>634.019281322032</li><li>645.583172072198</li><li>630.598605662106</li><li>620.635647636141</li><li>643.858977060604</li><li>648.641228546244</li><li>620.171810222474</li><li>645.776457302252</li><li>615.932471551925</li><li>638.560149208844</li><li>643.997591125315</li><li>621.672081422937</li><li>638.394393910175</li><li>644.423776435538</li><li>615.817462198875</li><li>627.213297297342</li><li>630.740228887558</li><li>640.397146921744</li><li>635.271177473851</li><li>640.135063032798</li><li>637.555300136133</li><li>610.797410879984</li><li>606.852486335244</li><li>656.985136904222</li><li>621.138595893711</li><li>629.583414293543</li><li>626.116284664308</li><li>631.714162454046</li><li>641.218957616708</li><li>635.013220905736</li><li>624.127244257917</li><li>628.021367991397</li><li>625.403517284657</li><li>648.047425433249</li><li>641.754522914772</li><li>628.878861700613</li><li>627.869479243792</li><li>637.204023278284</li><li>635.597076720352</li><li>634.31323489681</li><li>611.769556095217</li><li>633.610943241112</li><li>646.829873891365</li><li>622.342554234377</li><li>641.119433463723</li><li>630.534193187209</li><li>631.948549896897</li><li>637.224915459667</li><li>619.798139841539</li><li>639.099914119006</li><li>618.509239023268</li><li>648.375351527309</li><li>633.677934151667</li><li>650.275972291992</li><li>626.560084844152</li><li>628.309241755608</li><li>632.041350994925</li><li>636.772437091092</li><li>624.033931172549</li></ol>\n"
      ],
      "text/latex": [
       "\\begin{enumerate*}\n",
       "\\item 632.123061152389\n",
       "\\item 641.456858708358\n",
       "\\item 638.247202031012\n",
       "\\item 624.534429027101\n",
       "\\item 609.017394646223\n",
       "\\item 622.941374764352\n",
       "\\item 639.653920114288\n",
       "\\item 638.024770326387\n",
       "\\item 613.991470842036\n",
       "\\item 637.400071106166\n",
       "\\item 639.615063298163\n",
       "\\item 638.663978365119\n",
       "\\item 622.922406642689\n",
       "\\item 637.889893317655\n",
       "\\item 639.12125863537\n",
       "\\item 644.15525128332\n",
       "\\item 620.874035384226\n",
       "\\item 637.060257071102\n",
       "\\item 638.802087979442\n",
       "\\item 623.31643356576\n",
       "\\item 632.327032000315\n",
       "\\item 651.982016414304\n",
       "\\item 645.436338555984\n",
       "\\item 634.232425678122\n",
       "\\item 621.572984066437\n",
       "\\item 622.966030177619\n",
       "\\item 648.619236727153\n",
       "\\item 624.41724553486\n",
       "\\item 607.620883571855\n",
       "\\item 632.67354099288\n",
       "\\item 611.093575221711\n",
       "\\item 628.285894447562\n",
       "\\item 633.596904077442\n",
       "\\item 630.298599839696\n",
       "\\item 650.450965807766\n",
       "\\item 635.324588833587\n",
       "\\item 610.844345451253\n",
       "\\item 624.67160297255\n",
       "\\item 627.749307577779\n",
       "\\item 623.700447441188\n",
       "\\item 618.893671719656\n",
       "\\item 646.594937463583\n",
       "\\item 624.373046528862\n",
       "\\item 632.735988533846\n",
       "\\item 616.805713331039\n",
       "\\item 624.902497684185\n",
       "\\item 599.745664038845\n",
       "\\item 622.763283471027\n",
       "\\item 634.927930475859\n",
       "\\item 625.138030503505\n",
       "\\item 631.258328669466\n",
       "\\item 627.139763179225\n",
       "\\item 628.224494689591\n",
       "\\item 628.733507034439\n",
       "\\item 630.04209584692\n",
       "\\item 645.136351003674\n",
       "\\item 642.087099268208\n",
       "\\item 629.277242566829\n",
       "\\item 638.616603587494\n",
       "\\item 639.57152706404\n",
       "\\item 621.676884772388\n",
       "\\item 626.850730734451\n",
       "\\item 644.170201453134\n",
       "\\item 627.994892345305\n",
       "\\item 607.114588406537\n",
       "\\item 621.073238026124\n",
       "\\item 644.304380337978\n",
       "\\item 618.697747601975\n",
       "\\item 615.115530029553\n",
       "\\item 629.756367553319\n",
       "\\item 625.686425153929\n",
       "\\item 626.036813831712\n",
       "\\item 633.940707316527\n",
       "\\item 636.857253971151\n",
       "\\item 633.028169670287\n",
       "\\item 630.312781841788\n",
       "\\item 617.775416060182\n",
       "\\item 618.569026573042\n",
       "\\item 617.991715073677\n",
       "\\item 612.193741318833\n",
       "\\item 634.440911452571\n",
       "\\item 635.762891211748\n",
       "\\item 604.453579762239\n",
       "\\item 612.104273884738\n",
       "\\item 642.3413351657\n",
       "\\item 636.019003835833\n",
       "\\item 636.869779889912\n",
       "\\item 624.78119149054\n",
       "\\item 650.469932326031\n",
       "\\item 629.7852651721\n",
       "\\item 615.551131243322\n",
       "\\item 616.796642820501\n",
       "\\item 630.541301105506\n",
       "\\item 629.967031016014\n",
       "\\item 659.683200947632\n",
       "\\item 635.013331906315\n",
       "\\item 631.798465826631\n",
       "\\item 626.967344594328\n",
       "\\item 639.881877489176\n",
       "\\item 644.03489239273\n",
       "\\item 619.133818917293\n",
       "\\item 619.803089306778\n",
       "\\item 635.54692615759\n",
       "\\item 650.150391759435\n",
       "\\item 649.246481277198\n",
       "\\item 631.199098810279\n",
       "\\item 636.784394931756\n",
       "\\item 647.069585765915\n",
       "\\item 631.927096331265\n",
       "\\item 614.373322322944\n",
       "\\item 634.801439326763\n",
       "\\item 614.39482338323\n",
       "\\item 603.806127430767\n",
       "\\item 638.114692746849\n",
       "\\item 625.01599984354\n",
       "\\item 644.826468532899\n",
       "\\item 637.120070136753\n",
       "\\item 635.84637777329\n",
       "\\item 626.67249939852\n",
       "\\item 626.148859209677\n",
       "\\item 614.509284381752\n",
       "\\item 635.996081601511\n",
       "\\item 640.23072971433\n",
       "\\item 632.204564690682\n",
       "\\item 624.171105176831\n",
       "\\item 621.37704282948\n",
       "\\item 618.568981557971\n",
       "\\item 637.50258496275\n",
       "\\item 631.977458238012\n",
       "\\item 622.474854997529\n",
       "\\item 624.664299364855\n",
       "\\item 622.746155329371\n",
       "\\item 629.108412916031\n",
       "\\item 611.007509906181\n",
       "\\item 636.921298073753\n",
       "\\item 634.097307986832\n",
       "\\item 613.890360083845\n",
       "\\item 629.192820128284\n",
       "\\item 626.457716355689\n",
       "\\item 633.378917693604\n",
       "\\item 617.002869532643\n",
       "\\item 622.484951491091\n",
       "\\item 627.459836866249\n",
       "\\item 635.106258620984\n",
       "\\item 620.489943613035\n",
       "\\item 636.305183758181\n",
       "\\item 629.103760536119\n",
       "\\item 628.643767670767\n",
       "\\item 650.129104747272\n",
       "\\item 623.247559227959\n",
       "\\item 627.682668751331\n",
       "\\item 609.618123661514\n",
       "\\item 623.717646878462\n",
       "\\item 646.1787285017\n",
       "\\item 642.818074504023\n",
       "\\item 634.514124997785\n",
       "\\item 630.416779356068\n",
       "\\item 603.612341931561\n",
       "\\item 623.380979519482\n",
       "\\item 640.698302371996\n",
       "\\item 627.903635208429\n",
       "\\item 644.533888665442\n",
       "\\item 639.055262884746\n",
       "\\item 649.307103559666\n",
       "\\item 622.185907050955\n",
       "\\item 622.313543278564\n",
       "\\item 600.699700713094\n",
       "\\item 639.201156610295\n",
       "\\item 635.218326765625\n",
       "\\item 627.883458217048\n",
       "\\item 623.430280174559\n",
       "\\item 637.37976529007\n",
       "\\item 640.181573699625\n",
       "\\item 641.474386797975\n",
       "\\item 636.63094564116\n",
       "\\item 628.621029321507\n",
       "\\item 632.967953453334\n",
       "\\item 615.415515107169\n",
       "\\item 619.643693325801\n",
       "\\item 630.118218598261\n",
       "\\item 630.888248107476\n",
       "\\item 620.678450393736\n",
       "\\item 643.654038494399\n",
       "\\item 638.93473589309\n",
       "\\item 628.826068769682\n",
       "\\item 640.169177110426\n",
       "\\item 619.326368168895\n",
       "\\item 628.511675876977\n",
       "\\item 636.030509127456\n",
       "\\item 637.040736853091\n",
       "\\item 628.354801277336\n",
       "\\item 633.239908123657\n",
       "\\item 616.556960345949\n",
       "\\item 618.65820445622\n",
       "\\item 626.958766476408\n",
       "\\item 614.468099732983\n",
       "\\item 652.311212729016\n",
       "\\item 613.910408488554\n",
       "\\item 642.351334128819\n",
       "\\item 654.606537690465\n",
       "\\item ⋯\n",
       "\\item 645.149595573901\n",
       "\\item 622.659748301209\n",
       "\\item 640.55095613976\n",
       "\\item 631.169394894791\n",
       "\\item 638.993356065122\n",
       "\\item 617.20231643404\n",
       "\\item 639.528069974848\n",
       "\\item 620.836234304015\n",
       "\\item 619.530023542194\n",
       "\\item 629.510925817776\n",
       "\\item 629.048048147631\n",
       "\\item 603.051741150856\n",
       "\\item 627.81485664074\n",
       "\\item 632.592460621123\n",
       "\\item 635.038483314435\n",
       "\\item 629.95959483822\n",
       "\\item 632.070142966255\n",
       "\\item 632.888239337622\n",
       "\\item 637.843809578065\n",
       "\\item 633.096495682568\n",
       "\\item 639.021575910086\n",
       "\\item 630.073335868108\n",
       "\\item 610.322215260596\n",
       "\\item 633.754041929222\n",
       "\\item 636.92156558807\n",
       "\\item 638.354888729617\n",
       "\\item 640.847345263093\n",
       "\\item 648.637410919678\n",
       "\\item 636.471003032841\n",
       "\\item 641.238650052201\n",
       "\\item 632.046600426173\n",
       "\\item 624.056525830285\n",
       "\\item 632.696909072065\n",
       "\\item 623.593622697388\n",
       "\\item 630.398956517848\n",
       "\\item 639.337832529307\n",
       "\\item 627.31849946655\n",
       "\\item 612.194521256774\n",
       "\\item 643.996736877639\n",
       "\\item 629.776907109658\n",
       "\\item 655.491392165615\n",
       "\\item 630.083716590929\n",
       "\\item 620.486906668566\n",
       "\\item 617.877146239189\n",
       "\\item 617.814043702011\n",
       "\\item 653.421399983282\n",
       "\\item 636.933802393489\n",
       "\\item 643.562527845855\n",
       "\\item 623.610586287562\n",
       "\\item 629.323837402628\n",
       "\\item 630.246957280609\n",
       "\\item 638.13788785882\n",
       "\\item 632.211281547744\n",
       "\\item 631.001670866478\n",
       "\\item 637.978972522891\n",
       "\\item 615.080027977039\n",
       "\\item 638.749035198771\n",
       "\\item 611.942326717468\n",
       "\\item 629.513057473292\n",
       "\\item 622.464972650133\n",
       "\\item 632.774431311893\n",
       "\\item 631.27921994791\n",
       "\\item 640.310276999173\n",
       "\\item 633.090930191294\n",
       "\\item 626.951248102449\n",
       "\\item 619.32808725851\n",
       "\\item 620.757643187349\n",
       "\\item 607.009790273797\n",
       "\\item 609.635010951178\n",
       "\\item 626.086777744203\n",
       "\\item 636.102860796469\n",
       "\\item 624.50815040838\n",
       "\\item 645.447118873613\n",
       "\\item 616.07520295343\n",
       "\\item 618.068427273601\n",
       "\\item 614.12178686198\n",
       "\\item 644.361043168647\n",
       "\\item 626.866993294689\n",
       "\\item 635.838145669318\n",
       "\\item 628.545862625934\n",
       "\\item 611.480348177729\n",
       "\\item 657.532297904266\n",
       "\\item 605.847273491303\n",
       "\\item 654.264658730886\n",
       "\\item 642.379380444447\n",
       "\\item 648.060868531909\n",
       "\\item 627.32663921964\n",
       "\\item 636.291503859149\n",
       "\\item 635.837934889477\n",
       "\\item 633.371404812469\n",
       "\\item 638.933658553382\n",
       "\\item 618.830379937747\n",
       "\\item 643.705680429715\n",
       "\\item 624.632453817857\n",
       "\\item 644.326326955533\n",
       "\\item 632.021642867056\n",
       "\\item 632.005222916017\n",
       "\\item 627.088533450525\n",
       "\\item 613.946525937716\n",
       "\\item 603.11586210305\n",
       "\\item 648.726472080596\n",
       "\\item 619.737880257948\n",
       "\\item 636.79487328384\n",
       "\\item 645.713200511737\n",
       "\\item 618.082431832528\n",
       "\\item 639.463303356756\n",
       "\\item 619.985043186952\n",
       "\\item 621.537590811127\n",
       "\\item 624.042459200195\n",
       "\\item 633.296072671759\n",
       "\\item 641.464688706684\n",
       "\\item 625.649039564747\n",
       "\\item 633.036808384331\n",
       "\\item 611.60679806719\n",
       "\\item 628.273964234092\n",
       "\\item 634.372943680283\n",
       "\\item 621.557934894442\n",
       "\\item 640.3183453232\n",
       "\\item 630.194092348782\n",
       "\\item 621.642070302458\n",
       "\\item 633.457119579458\n",
       "\\item 625.073240968328\n",
       "\\item 654.458058674894\n",
       "\\item 635.026181324985\n",
       "\\item 635.204015156434\n",
       "\\item 625.325246609587\n",
       "\\item 630.315846692738\n",
       "\\item 633.029430457222\n",
       "\\item 620.567987722909\n",
       "\\item 624.350023591647\n",
       "\\item 616.299986746525\n",
       "\\item 646.148643042418\n",
       "\\item 648.938150296764\n",
       "\\item 630.611189190422\n",
       "\\item 623.713912104351\n",
       "\\item 635.078722389868\n",
       "\\item 614.777858035959\n",
       "\\item 626.127422345304\n",
       "\\item 643.673629605221\n",
       "\\item 631.276495208493\n",
       "\\item 619.685918798218\n",
       "\\item 634.019281322032\n",
       "\\item 645.583172072198\n",
       "\\item 630.598605662106\n",
       "\\item 620.635647636141\n",
       "\\item 643.858977060604\n",
       "\\item 648.641228546244\n",
       "\\item 620.171810222474\n",
       "\\item 645.776457302252\n",
       "\\item 615.932471551925\n",
       "\\item 638.560149208844\n",
       "\\item 643.997591125315\n",
       "\\item 621.672081422937\n",
       "\\item 638.394393910175\n",
       "\\item 644.423776435538\n",
       "\\item 615.817462198875\n",
       "\\item 627.213297297342\n",
       "\\item 630.740228887558\n",
       "\\item 640.397146921744\n",
       "\\item 635.271177473851\n",
       "\\item 640.135063032798\n",
       "\\item 637.555300136133\n",
       "\\item 610.797410879984\n",
       "\\item 606.852486335244\n",
       "\\item 656.985136904222\n",
       "\\item 621.138595893711\n",
       "\\item 629.583414293543\n",
       "\\item 626.116284664308\n",
       "\\item 631.714162454046\n",
       "\\item 641.218957616708\n",
       "\\item 635.013220905736\n",
       "\\item 624.127244257917\n",
       "\\item 628.021367991397\n",
       "\\item 625.403517284657\n",
       "\\item 648.047425433249\n",
       "\\item 641.754522914772\n",
       "\\item 628.878861700613\n",
       "\\item 627.869479243792\n",
       "\\item 637.204023278284\n",
       "\\item 635.597076720352\n",
       "\\item 634.31323489681\n",
       "\\item 611.769556095217\n",
       "\\item 633.610943241112\n",
       "\\item 646.829873891365\n",
       "\\item 622.342554234377\n",
       "\\item 641.119433463723\n",
       "\\item 630.534193187209\n",
       "\\item 631.948549896897\n",
       "\\item 637.224915459667\n",
       "\\item 619.798139841539\n",
       "\\item 639.099914119006\n",
       "\\item 618.509239023268\n",
       "\\item 648.375351527309\n",
       "\\item 633.677934151667\n",
       "\\item 650.275972291992\n",
       "\\item 626.560084844152\n",
       "\\item 628.309241755608\n",
       "\\item 632.041350994925\n",
       "\\item 636.772437091092\n",
       "\\item 624.033931172549\n",
       "\\end{enumerate*}\n"
      ],
      "text/markdown": [
       "1. 632.123061152389\n",
       "2. 641.456858708358\n",
       "3. 638.247202031012\n",
       "4. 624.534429027101\n",
       "5. 609.017394646223\n",
       "6. 622.941374764352\n",
       "7. 639.653920114288\n",
       "8. 638.024770326387\n",
       "9. 613.991470842036\n",
       "10. 637.400071106166\n",
       "11. 639.615063298163\n",
       "12. 638.663978365119\n",
       "13. 622.922406642689\n",
       "14. 637.889893317655\n",
       "15. 639.12125863537\n",
       "16. 644.15525128332\n",
       "17. 620.874035384226\n",
       "18. 637.060257071102\n",
       "19. 638.802087979442\n",
       "20. 623.31643356576\n",
       "21. 632.327032000315\n",
       "22. 651.982016414304\n",
       "23. 645.436338555984\n",
       "24. 634.232425678122\n",
       "25. 621.572984066437\n",
       "26. 622.966030177619\n",
       "27. 648.619236727153\n",
       "28. 624.41724553486\n",
       "29. 607.620883571855\n",
       "30. 632.67354099288\n",
       "31. 611.093575221711\n",
       "32. 628.285894447562\n",
       "33. 633.596904077442\n",
       "34. 630.298599839696\n",
       "35. 650.450965807766\n",
       "36. 635.324588833587\n",
       "37. 610.844345451253\n",
       "38. 624.67160297255\n",
       "39. 627.749307577779\n",
       "40. 623.700447441188\n",
       "41. 618.893671719656\n",
       "42. 646.594937463583\n",
       "43. 624.373046528862\n",
       "44. 632.735988533846\n",
       "45. 616.805713331039\n",
       "46. 624.902497684185\n",
       "47. 599.745664038845\n",
       "48. 622.763283471027\n",
       "49. 634.927930475859\n",
       "50. 625.138030503505\n",
       "51. 631.258328669466\n",
       "52. 627.139763179225\n",
       "53. 628.224494689591\n",
       "54. 628.733507034439\n",
       "55. 630.04209584692\n",
       "56. 645.136351003674\n",
       "57. 642.087099268208\n",
       "58. 629.277242566829\n",
       "59. 638.616603587494\n",
       "60. 639.57152706404\n",
       "61. 621.676884772388\n",
       "62. 626.850730734451\n",
       "63. 644.170201453134\n",
       "64. 627.994892345305\n",
       "65. 607.114588406537\n",
       "66. 621.073238026124\n",
       "67. 644.304380337978\n",
       "68. 618.697747601975\n",
       "69. 615.115530029553\n",
       "70. 629.756367553319\n",
       "71. 625.686425153929\n",
       "72. 626.036813831712\n",
       "73. 633.940707316527\n",
       "74. 636.857253971151\n",
       "75. 633.028169670287\n",
       "76. 630.312781841788\n",
       "77. 617.775416060182\n",
       "78. 618.569026573042\n",
       "79. 617.991715073677\n",
       "80. 612.193741318833\n",
       "81. 634.440911452571\n",
       "82. 635.762891211748\n",
       "83. 604.453579762239\n",
       "84. 612.104273884738\n",
       "85. 642.3413351657\n",
       "86. 636.019003835833\n",
       "87. 636.869779889912\n",
       "88. 624.78119149054\n",
       "89. 650.469932326031\n",
       "90. 629.7852651721\n",
       "91. 615.551131243322\n",
       "92. 616.796642820501\n",
       "93. 630.541301105506\n",
       "94. 629.967031016014\n",
       "95. 659.683200947632\n",
       "96. 635.013331906315\n",
       "97. 631.798465826631\n",
       "98. 626.967344594328\n",
       "99. 639.881877489176\n",
       "100. 644.03489239273\n",
       "101. 619.133818917293\n",
       "102. 619.803089306778\n",
       "103. 635.54692615759\n",
       "104. 650.150391759435\n",
       "105. 649.246481277198\n",
       "106. 631.199098810279\n",
       "107. 636.784394931756\n",
       "108. 647.069585765915\n",
       "109. 631.927096331265\n",
       "110. 614.373322322944\n",
       "111. 634.801439326763\n",
       "112. 614.39482338323\n",
       "113. 603.806127430767\n",
       "114. 638.114692746849\n",
       "115. 625.01599984354\n",
       "116. 644.826468532899\n",
       "117. 637.120070136753\n",
       "118. 635.84637777329\n",
       "119. 626.67249939852\n",
       "120. 626.148859209677\n",
       "121. 614.509284381752\n",
       "122. 635.996081601511\n",
       "123. 640.23072971433\n",
       "124. 632.204564690682\n",
       "125. 624.171105176831\n",
       "126. 621.37704282948\n",
       "127. 618.568981557971\n",
       "128. 637.50258496275\n",
       "129. 631.977458238012\n",
       "130. 622.474854997529\n",
       "131. 624.664299364855\n",
       "132. 622.746155329371\n",
       "133. 629.108412916031\n",
       "134. 611.007509906181\n",
       "135. 636.921298073753\n",
       "136. 634.097307986832\n",
       "137. 613.890360083845\n",
       "138. 629.192820128284\n",
       "139. 626.457716355689\n",
       "140. 633.378917693604\n",
       "141. 617.002869532643\n",
       "142. 622.484951491091\n",
       "143. 627.459836866249\n",
       "144. 635.106258620984\n",
       "145. 620.489943613035\n",
       "146. 636.305183758181\n",
       "147. 629.103760536119\n",
       "148. 628.643767670767\n",
       "149. 650.129104747272\n",
       "150. 623.247559227959\n",
       "151. 627.682668751331\n",
       "152. 609.618123661514\n",
       "153. 623.717646878462\n",
       "154. 646.1787285017\n",
       "155. 642.818074504023\n",
       "156. 634.514124997785\n",
       "157. 630.416779356068\n",
       "158. 603.612341931561\n",
       "159. 623.380979519482\n",
       "160. 640.698302371996\n",
       "161. 627.903635208429\n",
       "162. 644.533888665442\n",
       "163. 639.055262884746\n",
       "164. 649.307103559666\n",
       "165. 622.185907050955\n",
       "166. 622.313543278564\n",
       "167. 600.699700713094\n",
       "168. 639.201156610295\n",
       "169. 635.218326765625\n",
       "170. 627.883458217048\n",
       "171. 623.430280174559\n",
       "172. 637.37976529007\n",
       "173. 640.181573699625\n",
       "174. 641.474386797975\n",
       "175. 636.63094564116\n",
       "176. 628.621029321507\n",
       "177. 632.967953453334\n",
       "178. 615.415515107169\n",
       "179. 619.643693325801\n",
       "180. 630.118218598261\n",
       "181. 630.888248107476\n",
       "182. 620.678450393736\n",
       "183. 643.654038494399\n",
       "184. 638.93473589309\n",
       "185. 628.826068769682\n",
       "186. 640.169177110426\n",
       "187. 619.326368168895\n",
       "188. 628.511675876977\n",
       "189. 636.030509127456\n",
       "190. 637.040736853091\n",
       "191. 628.354801277336\n",
       "192. 633.239908123657\n",
       "193. 616.556960345949\n",
       "194. 618.65820445622\n",
       "195. 626.958766476408\n",
       "196. 614.468099732983\n",
       "197. 652.311212729016\n",
       "198. 613.910408488554\n",
       "199. 642.351334128819\n",
       "200. 654.606537690465\n",
       "201. ⋯\n",
       "202. 645.149595573901\n",
       "203. 622.659748301209\n",
       "204. 640.55095613976\n",
       "205. 631.169394894791\n",
       "206. 638.993356065122\n",
       "207. 617.20231643404\n",
       "208. 639.528069974848\n",
       "209. 620.836234304015\n",
       "210. 619.530023542194\n",
       "211. 629.510925817776\n",
       "212. 629.048048147631\n",
       "213. 603.051741150856\n",
       "214. 627.81485664074\n",
       "215. 632.592460621123\n",
       "216. 635.038483314435\n",
       "217. 629.95959483822\n",
       "218. 632.070142966255\n",
       "219. 632.888239337622\n",
       "220. 637.843809578065\n",
       "221. 633.096495682568\n",
       "222. 639.021575910086\n",
       "223. 630.073335868108\n",
       "224. 610.322215260596\n",
       "225. 633.754041929222\n",
       "226. 636.92156558807\n",
       "227. 638.354888729617\n",
       "228. 640.847345263093\n",
       "229. 648.637410919678\n",
       "230. 636.471003032841\n",
       "231. 641.238650052201\n",
       "232. 632.046600426173\n",
       "233. 624.056525830285\n",
       "234. 632.696909072065\n",
       "235. 623.593622697388\n",
       "236. 630.398956517848\n",
       "237. 639.337832529307\n",
       "238. 627.31849946655\n",
       "239. 612.194521256774\n",
       "240. 643.996736877639\n",
       "241. 629.776907109658\n",
       "242. 655.491392165615\n",
       "243. 630.083716590929\n",
       "244. 620.486906668566\n",
       "245. 617.877146239189\n",
       "246. 617.814043702011\n",
       "247. 653.421399983282\n",
       "248. 636.933802393489\n",
       "249. 643.562527845855\n",
       "250. 623.610586287562\n",
       "251. 629.323837402628\n",
       "252. 630.246957280609\n",
       "253. 638.13788785882\n",
       "254. 632.211281547744\n",
       "255. 631.001670866478\n",
       "256. 637.978972522891\n",
       "257. 615.080027977039\n",
       "258. 638.749035198771\n",
       "259. 611.942326717468\n",
       "260. 629.513057473292\n",
       "261. 622.464972650133\n",
       "262. 632.774431311893\n",
       "263. 631.27921994791\n",
       "264. 640.310276999173\n",
       "265. 633.090930191294\n",
       "266. 626.951248102449\n",
       "267. 619.32808725851\n",
       "268. 620.757643187349\n",
       "269. 607.009790273797\n",
       "270. 609.635010951178\n",
       "271. 626.086777744203\n",
       "272. 636.102860796469\n",
       "273. 624.50815040838\n",
       "274. 645.447118873613\n",
       "275. 616.07520295343\n",
       "276. 618.068427273601\n",
       "277. 614.12178686198\n",
       "278. 644.361043168647\n",
       "279. 626.866993294689\n",
       "280. 635.838145669318\n",
       "281. 628.545862625934\n",
       "282. 611.480348177729\n",
       "283. 657.532297904266\n",
       "284. 605.847273491303\n",
       "285. 654.264658730886\n",
       "286. 642.379380444447\n",
       "287. 648.060868531909\n",
       "288. 627.32663921964\n",
       "289. 636.291503859149\n",
       "290. 635.837934889477\n",
       "291. 633.371404812469\n",
       "292. 638.933658553382\n",
       "293. 618.830379937747\n",
       "294. 643.705680429715\n",
       "295. 624.632453817857\n",
       "296. 644.326326955533\n",
       "297. 632.021642867056\n",
       "298. 632.005222916017\n",
       "299. 627.088533450525\n",
       "300. 613.946525937716\n",
       "301. 603.11586210305\n",
       "302. 648.726472080596\n",
       "303. 619.737880257948\n",
       "304. 636.79487328384\n",
       "305. 645.713200511737\n",
       "306. 618.082431832528\n",
       "307. 639.463303356756\n",
       "308. 619.985043186952\n",
       "309. 621.537590811127\n",
       "310. 624.042459200195\n",
       "311. 633.296072671759\n",
       "312. 641.464688706684\n",
       "313. 625.649039564747\n",
       "314. 633.036808384331\n",
       "315. 611.60679806719\n",
       "316. 628.273964234092\n",
       "317. 634.372943680283\n",
       "318. 621.557934894442\n",
       "319. 640.3183453232\n",
       "320. 630.194092348782\n",
       "321. 621.642070302458\n",
       "322. 633.457119579458\n",
       "323. 625.073240968328\n",
       "324. 654.458058674894\n",
       "325. 635.026181324985\n",
       "326. 635.204015156434\n",
       "327. 625.325246609587\n",
       "328. 630.315846692738\n",
       "329. 633.029430457222\n",
       "330. 620.567987722909\n",
       "331. 624.350023591647\n",
       "332. 616.299986746525\n",
       "333. 646.148643042418\n",
       "334. 648.938150296764\n",
       "335. 630.611189190422\n",
       "336. 623.713912104351\n",
       "337. 635.078722389868\n",
       "338. 614.777858035959\n",
       "339. 626.127422345304\n",
       "340. 643.673629605221\n",
       "341. 631.276495208493\n",
       "342. 619.685918798218\n",
       "343. 634.019281322032\n",
       "344. 645.583172072198\n",
       "345. 630.598605662106\n",
       "346. 620.635647636141\n",
       "347. 643.858977060604\n",
       "348. 648.641228546244\n",
       "349. 620.171810222474\n",
       "350. 645.776457302252\n",
       "351. 615.932471551925\n",
       "352. 638.560149208844\n",
       "353. 643.997591125315\n",
       "354. 621.672081422937\n",
       "355. 638.394393910175\n",
       "356. 644.423776435538\n",
       "357. 615.817462198875\n",
       "358. 627.213297297342\n",
       "359. 630.740228887558\n",
       "360. 640.397146921744\n",
       "361. 635.271177473851\n",
       "362. 640.135063032798\n",
       "363. 637.555300136133\n",
       "364. 610.797410879984\n",
       "365. 606.852486335244\n",
       "366. 656.985136904222\n",
       "367. 621.138595893711\n",
       "368. 629.583414293543\n",
       "369. 626.116284664308\n",
       "370. 631.714162454046\n",
       "371. 641.218957616708\n",
       "372. 635.013220905736\n",
       "373. 624.127244257917\n",
       "374. 628.021367991397\n",
       "375. 625.403517284657\n",
       "376. 648.047425433249\n",
       "377. 641.754522914772\n",
       "378. 628.878861700613\n",
       "379. 627.869479243792\n",
       "380. 637.204023278284\n",
       "381. 635.597076720352\n",
       "382. 634.31323489681\n",
       "383. 611.769556095217\n",
       "384. 633.610943241112\n",
       "385. 646.829873891365\n",
       "386. 622.342554234377\n",
       "387. 641.119433463723\n",
       "388. 630.534193187209\n",
       "389. 631.948549896897\n",
       "390. 637.224915459667\n",
       "391. 619.798139841539\n",
       "392. 639.099914119006\n",
       "393. 618.509239023268\n",
       "394. 648.375351527309\n",
       "395. 633.677934151667\n",
       "396. 650.275972291992\n",
       "397. 626.560084844152\n",
       "398. 628.309241755608\n",
       "399. 632.041350994925\n",
       "400. 636.772437091092\n",
       "401. 624.033931172549\n",
       "\n",
       "\n"
      ],
      "text/plain": [
       "   [1] 632.1231 641.4569 638.2472 624.5344 609.0174 622.9414 639.6539 638.0248\n",
       "   [9] 613.9915 637.4001 639.6151 638.6640 622.9224 637.8899 639.1213 644.1553\n",
       "  [17] 620.8740 637.0603 638.8021 623.3164 632.3270 651.9820 645.4363 634.2324\n",
       "  [25] 621.5730 622.9660 648.6192 624.4172 607.6209 632.6735 611.0936 628.2859\n",
       "  [33] 633.5969 630.2986 650.4510 635.3246 610.8443 624.6716 627.7493 623.7004\n",
       "  [41] 618.8937 646.5949 624.3730 632.7360 616.8057 624.9025 599.7457 622.7633\n",
       "  [49] 634.9279 625.1380 631.2583 627.1398 628.2245 628.7335 630.0421 645.1364\n",
       "  [57] 642.0871 629.2772 638.6166 639.5715 621.6769 626.8507 644.1702 627.9949\n",
       "  [65] 607.1146 621.0732 644.3044 618.6977 615.1155 629.7564 625.6864 626.0368\n",
       "  [73] 633.9407 636.8573 633.0282 630.3128 617.7754 618.5690 617.9917 612.1937\n",
       "  [81] 634.4409 635.7629 604.4536 612.1043 642.3413 636.0190 636.8698 624.7812\n",
       "  [89] 650.4699 629.7853 615.5511 616.7966 630.5413 629.9670 659.6832 635.0133\n",
       "  [97] 631.7985 626.9673 639.8819 644.0349 619.1338 619.8031 635.5469 650.1504\n",
       " [105] 649.2465 631.1991 636.7844 647.0696 631.9271 614.3733 634.8014 614.3948\n",
       " [113] 603.8061 638.1147 625.0160 644.8265 637.1201 635.8464 626.6725 626.1489\n",
       " [121] 614.5093 635.9961 640.2307 632.2046 624.1711 621.3770 618.5690 637.5026\n",
       " [129] 631.9775 622.4749 624.6643 622.7462 629.1084 611.0075 636.9213 634.0973\n",
       " [137] 613.8904 629.1928 626.4577 633.3789 617.0029 622.4850 627.4598 635.1063\n",
       " [145] 620.4899 636.3052 629.1038 628.6438 650.1291 623.2476 627.6827 609.6181\n",
       " [153] 623.7176 646.1787 642.8181 634.5141 630.4168 603.6123 623.3810 640.6983\n",
       " [161] 627.9036 644.5339 639.0553 649.3071 622.1859 622.3135 600.6997 639.2012\n",
       " [169] 635.2183 627.8835 623.4303 637.3798 640.1816 641.4744 636.6309 628.6210\n",
       " [177] 632.9680 615.4155 619.6437 630.1182 630.8882 620.6785 643.6540 638.9347\n",
       " [185] 628.8261 640.1692 619.3264 628.5117 636.0305 637.0407 628.3548 633.2399\n",
       " [193] 616.5570 618.6582 626.9588 614.4681 652.3112 613.9104 642.3513 654.6065\n",
       " [201] 626.7797 625.1439 629.5715 640.5018 637.5430 630.5933 632.9695 619.8840\n",
       " [209] 644.5665 617.3083 641.5678 625.3742 636.8822 627.9145 637.9218 641.9487\n",
       " [217] 631.7922 630.1590 630.0053 647.1544 646.7660 637.3708 643.1223 623.6980\n",
       " [225] 641.9742 617.3579 618.4097 630.9071 641.9101 628.1784 622.0917 640.1690\n",
       " [233] 637.4693 638.1328 639.0432 627.0897 624.7771 641.7357 627.9504 625.2188\n",
       " [241] 625.4214 609.9784 642.6680 623.8996 638.6784 651.2820 646.7690 636.5668\n",
       " [249] 615.4602 635.5517 639.7413 627.6941 636.9165 641.1138 650.9539 631.5017\n",
       " [257] 616.8425 638.0949 640.6007 619.2632 633.0366 620.9946 632.3217 635.8719\n",
       " [265] 623.3935 625.0863 635.2519 645.7334 603.4289 630.8267 638.2886 620.7994\n",
       " [273] 636.9446 621.8431 637.1639 641.5073 603.9870 618.7120 627.8369 642.2216\n",
       " [281] 622.7113 627.3764 645.7032 632.9558 643.3248 641.2410 639.4334 650.7309\n",
       " [289] 632.4713 635.4170 627.6945 632.2608 637.1749 629.3577 617.8553 628.4118\n",
       " [297] 632.3319 634.2550 625.3001 636.7707 631.5949 622.8936 624.0280 633.5534\n",
       " [305] 633.5239 622.6166 645.1028 650.7248 628.4788 629.3004 640.8323 619.9604\n",
       " [313] 631.5847 636.9878 624.5316 619.0760 627.4748 614.5432 630.2425 619.6767\n",
       " [321] 624.7582 617.2029 622.2850 626.0332 625.2787 625.7700 632.1277 634.5512\n",
       " [329] 637.4313 624.4236 631.8179 643.5601 612.0068 631.1840 616.1357 632.1983\n",
       " [337] 609.0802 637.5381 628.4027 625.3487 645.5315 626.6389 638.4471 644.5024\n",
       " [345] 622.4983 621.3234 627.8814 651.2265 628.9387 650.8510 627.3532 628.6014\n",
       " [353] 619.4989 629.3959 614.6791 641.2444 620.5022 653.0052 636.4136 621.6962\n",
       " [361] 631.7099 606.5195 615.0061 631.1825 626.4847 631.2142 646.8303 664.9476\n",
       " [369] 645.3269 625.5628 629.7164 635.0936 618.0711 621.8232 632.7575 631.3247\n",
       " [377] 624.5905 641.2577 623.8126 617.8796 639.8069 647.9215 656.1449 625.5276\n",
       " [385] 620.3697 639.2402 636.9781 641.9412 632.1044 643.8495 631.8175 626.5423\n",
       " [393] 617.3859 634.9206 653.4082 656.8632 636.1119 638.8474 642.8333 634.3986\n",
       " [401] 627.2209 640.8060 623.8638 626.7158 619.2849 635.6572 628.3511 632.4506\n",
       " [409] 653.0779 644.3270 641.6340 637.0777 630.1249 612.5740 623.7475 632.0258\n",
       " [417] 628.6247 613.7633 622.1948 649.4188 625.6648 625.3826 630.7572 622.9414\n",
       " [425] 626.0779 620.9520 620.3214 643.1149 634.6907 625.3859 613.5245 623.1542\n",
       " [433] 632.4993 648.6303 622.8215 620.5953 623.2643 638.7262 604.1536 626.2411\n",
       " [441] 649.2265 629.7090 645.9368 621.6011 622.2610 635.1582 642.6868 618.9749\n",
       " [449] 650.3247 627.9919 645.3492 630.9344 620.7545 642.1498 629.2498 629.3010\n",
       " [457] 649.1239 638.0781 646.7297 636.2868 630.6169 619.9214 635.5166 617.0794\n",
       " [465] 625.2526 635.1467 623.0522 629.5861 625.3625 644.6357 613.6113 631.3949\n",
       " [473] 644.9011 631.7184 619.5098 638.3224 627.9860 620.3435 645.9247 613.8323\n",
       " [481] 609.9617 638.1357 630.1381 637.3066 620.1100 624.6204 631.8753 628.6823\n",
       " [489] 625.4836 634.5492 629.2239 628.1307 641.6184 660.7754 621.6769 644.0315\n",
       " [497] 620.4802 627.3314 640.9693 628.4963 615.5943 645.1233 635.4128 641.6938\n",
       " [505] 643.9043 629.8594 621.5706 623.9640 629.0405 639.5619 627.4156 629.2783\n",
       " [513] 639.4757 636.9193 620.8711 625.2185 632.7485 628.5317 636.5239 624.6773\n",
       " [521] 638.7301 631.1535 637.2104 626.3082 620.6981 619.3949 640.4507 624.6179\n",
       " [529] 639.9519 634.1556 633.6811 631.7917 635.4157 630.6953 627.7737 640.7655\n",
       " [537] 650.8675 611.9415 612.2859 624.2764 619.9208 630.9821 632.6403 636.3310\n",
       " [545] 624.8451 621.2986 630.8610 634.6119 639.5879 631.7299 635.9391 649.2825\n",
       " [553] 626.3907 631.8047 636.7343 626.8872 635.8157 635.1278 642.3384 624.7984\n",
       " [561] 621.0834 649.5157 647.7775 648.1275 631.4868 628.9665 609.7269 631.2636\n",
       " [569] 643.7608 648.3607 615.5479 635.0933 640.1102 632.7869 629.4640 629.0226\n",
       " [577] 636.3034 626.7733 620.1039 637.1852 621.2157 644.9425 626.7197 611.4830\n",
       " [585] 629.3244 639.4099 642.0276 637.5350 622.1930 632.2603 626.0685 629.7778\n",
       " [593] 626.5544 633.9210 624.6580 639.6846 631.2314 636.0253 622.0987 623.4959\n",
       " [601] 634.4290 638.4813 618.3028 621.1319 637.1157 646.5149 611.9554 630.8583\n",
       " [609] 618.3425 627.2023 626.2228 631.4454 622.0296 636.4426 634.8625 620.9483\n",
       " [617] 625.0988 633.9071 651.8375 620.6660 642.6493 626.5559 625.9717 628.5203\n",
       " [625] 616.8015 628.8035 629.6974 638.2695 645.1344 637.7706 635.7228 628.1236\n",
       " [633] 621.8962 623.5631 619.8924 612.3156 610.7278 636.4871 637.5623 612.4854\n",
       " [641] 620.3934 639.6686 624.6173 635.7908 638.1255 641.9619 633.5348 643.5225\n",
       " [649] 621.8142 635.0542 633.7864 633.2586 616.1517 627.8382 636.1800 612.9594\n",
       " [657] 627.0777 646.6877 619.9888 630.4311 627.9547 616.0524 624.5564 641.7992\n",
       " [665] 619.3882 643.6551 623.6621 645.9824 652.3992 620.6830 636.9746 625.6449\n",
       " [673] 623.2604 610.6160 618.8619 618.8602 629.8850 620.5429 636.8787 629.5824\n",
       " [681] 625.0956 631.9529 628.7008 636.9531 628.1442 632.0269 635.5824 636.2683\n",
       " [689] 634.5038 636.9368 630.7881 651.4645 630.6991 620.8223 622.8135 614.1141\n",
       " [697] 630.8578 637.0994 639.0934 619.8952 650.3065 623.5325 643.7470 638.5088\n",
       " [705] 631.3717 627.6791 630.2480 620.3799 629.0365 642.3096 626.0906 632.2195\n",
       " [713] 616.9011 627.3846 647.0846 636.2939 620.6551 619.4056 619.1660 635.8704\n",
       " [721] 643.6476 631.4434 629.3070 637.7462 646.1884 616.3065 633.5922 629.9499\n",
       " [729] 627.6773 628.0907 626.1605 608.7414 626.5886 634.5456 642.6562 658.3616\n",
       " [737] 633.5479 638.3108 620.5793 629.4995 638.4659 637.5672 621.1965 645.1657\n",
       " [745] 631.0416 621.1220 633.8049 631.9001 627.0041 620.2976 629.0148 611.3974\n",
       " [753] 634.4162 624.1322 630.7593 632.4474 647.5226 633.0004 616.9066 628.5715\n",
       " [761] 613.1085 633.7007 625.9765 648.1960 635.2371 618.5890 624.3037 620.1691\n",
       " [769] 628.7053 616.9594 645.7219 634.4964 622.3052 628.5771 618.7797 627.0446\n",
       " [777] 619.5509 614.2572 612.0713 630.8016 635.9534 651.6842 611.9991 631.0959\n",
       " [785] 631.4940 614.4680 641.4449 648.0504 622.6868 630.1640 626.8717 631.6723\n",
       " [793] 613.4479 623.2885 636.4814 633.8982 630.6616 633.4874 622.3463 636.4987\n",
       " [801] 645.1496 622.6597 640.5510 631.1694 638.9934 617.2023 639.5281 620.8362\n",
       " [809] 619.5300 629.5109 629.0480 603.0517 627.8149 632.5925 635.0385 629.9596\n",
       " [817] 632.0701 632.8882 637.8438 633.0965 639.0216 630.0733 610.3222 633.7540\n",
       " [825] 636.9216 638.3549 640.8473 648.6374 636.4710 641.2387 632.0466 624.0565\n",
       " [833] 632.6969 623.5936 630.3990 639.3378 627.3185 612.1945 643.9967 629.7769\n",
       " [841] 655.4914 630.0837 620.4869 617.8771 617.8140 653.4214 636.9338 643.5625\n",
       " [849] 623.6106 629.3238 630.2470 638.1379 632.2113 631.0017 637.9790 615.0800\n",
       " [857] 638.7490 611.9423 629.5131 622.4650 632.7744 631.2792 640.3103 633.0909\n",
       " [865] 626.9512 619.3281 620.7576 607.0098 609.6350 626.0868 636.1029 624.5082\n",
       " [873] 645.4471 616.0752 618.0684 614.1218 644.3610 626.8670 635.8381 628.5459\n",
       " [881] 611.4803 657.5323 605.8473 654.2647 642.3794 648.0609 627.3266 636.2915\n",
       " [889] 635.8379 633.3714 638.9337 618.8304 643.7057 624.6325 644.3263 632.0216\n",
       " [897] 632.0052 627.0885 613.9465 603.1159 648.7265 619.7379 636.7949 645.7132\n",
       " [905] 618.0824 639.4633 619.9850 621.5376 624.0425 633.2961 641.4647 625.6490\n",
       " [913] 633.0368 611.6068 628.2740 634.3729 621.5579 640.3183 630.1941 621.6421\n",
       " [921] 633.4571 625.0732 654.4581 635.0262 635.2040 625.3252 630.3158 633.0294\n",
       " [929] 620.5680 624.3500 616.3000 646.1486 648.9382 630.6112 623.7139 635.0787\n",
       " [937] 614.7779 626.1274 643.6736 631.2765 619.6859 634.0193 645.5832 630.5986\n",
       " [945] 620.6356 643.8590 648.6412 620.1718 645.7765 615.9325 638.5601 643.9976\n",
       " [953] 621.6721 638.3944 644.4238 615.8175 627.2133 630.7402 640.3971 635.2712\n",
       " [961] 640.1351 637.5553 610.7974 606.8525 656.9851 621.1386 629.5834 626.1163\n",
       " [969] 631.7142 641.2190 635.0132 624.1272 628.0214 625.4035 648.0474 641.7545\n",
       " [977] 628.8789 627.8695 637.2040 635.5971 634.3132 611.7696 633.6109 646.8299\n",
       " [985] 622.3426 641.1194 630.5342 631.9485 637.2249 619.7981 639.0999 618.5092\n",
       " [993] 648.3754 633.6779 650.2760 626.5601 628.3092 632.0414 636.7724 624.0339"
      ]
     },
     "metadata": {},
     "output_type": "display_data"
    }
   ],
   "source": [
    "samples_means"
   ]
  },
  {
   "cell_type": "code",
   "execution_count": 281,
   "id": "ccf6d758",
   "metadata": {
    "pycharm": {
     "name": "#%%\n"
    }
   },
   "outputs": [
    {
     "data": {
      "image/png": "[encoded data removed]",
      "text/plain": [
       "plot without title"
      ]
     },
     "metadata": {
      "image/png": {
       "height": 420,
       "width": 420
      }
     },
     "output_type": "display_data"
    }
   ],
   "source": [
    "ggplot() + \n",
    "  geom_histogram(aes(x=samples_means, y=..density..), bins = 25, alpha=0.1, color=\"black\", size=0.05) +\n",
    "  geom_density(aes(x=samples_means), color=\"black\", size=1, bw=3.5)\n"
   ]
  },
  {
   "cell_type": "code",
   "execution_count": 154,
   "id": "43418be9",
   "metadata": {
    "pycharm": {
     "name": "#%%\n"
    }
   },
   "outputs": [
    {
     "data": {
      "text/html": [
       "630.660438152147"
      ],
      "text/latex": [
       "630.660438152147"
      ],
      "text/markdown": [
       "630.660438152147"
      ],
      "text/plain": [
       "[1] 630.6604"
      ]
     },
     "metadata": {},
     "output_type": "display_data"
    }
   ],
   "source": [
    "mean(samples_means)"
   ]
  },
  {
   "cell_type": "markdown",
   "id": "c2d6952b",
   "metadata": {
    "pycharm": {
     "name": "#%% md\n"
    }
   },
   "source": [
    "### Calculating Statistics\n",
    "\n",
    "Example: \n",
    "\n",
    "* You use a DNA Methylation kit that is advertised to have a probability of success of 0.26 on invertebrates.\n",
    "\n",
    "* You repeat the experiment 100 times (100 samples) and you only succeed 10 times (0.10)\n",
    "\n",
    "* You argue with the vendor that the kit is faulty and needs to be replaced.\n"
   ]
  },
  {
   "cell_type": "markdown",
   "id": "140d4220",
   "metadata": {
    "pycharm": {
     "name": "#%% md\n"
    }
   },
   "source": [
    "### A Model \n",
    "\n",
    "- A model stipulates that the probability of success is 0.26\n",
    "\n",
    "- The manufacturer explain that they only provide probabilistic guarantees\n",
    "\n",
    "   - I.e., if you were to repeat this a large number of times, you would arrive at the value 0.26\n",
    "      - Repeat this process by trying 100 kits multiple times (say 500 times 100 kits)\n",
    "\n",
    "- We are in a good position to assess this model\n",
    "\n",
    "- What type of probability distribution is appropriate for this example?\n",
    "\n",
    "  - Discrete or continuous?\n",
    "\n",
    "- How can we simulate the experiment?\n",
    "    \n",
    "    - What are we trying to estimate? "
   ]
  },
  {
   "cell_type": "code",
   "execution_count": 25,
   "id": "a00b886d",
   "metadata": {
    "pycharm": {
     "name": "#%%\n"
    }
   },
   "outputs": [
    {
     "data": {
      "text/html": [
       "2"
      ],
      "text/latex": [
       "2"
      ],
      "text/markdown": [
       "2"
      ],
      "text/plain": [
       "[1] 2"
      ]
     },
     "metadata": {},
     "output_type": "display_data"
    }
   ],
   "source": [
    "x <- c(TRUE, TRUE, FALSE)\n",
    "sum(x)"
   ]
  },
  {
   "cell_type": "code",
   "execution_count": 37,
   "id": "b3b8e855",
   "metadata": {},
   "outputs": [
    {
     "data": {
      "text/html": [
       "24"
      ],
      "text/latex": [
       "24"
      ],
      "text/markdown": [
       "24"
      ],
      "text/plain": [
       "[1] 24"
      ]
     },
     "metadata": {},
     "output_type": "display_data"
    }
   ],
   "source": [
    "rbinom(1, 100, 0.26)"
   ]
  },
  {
   "cell_type": "code",
   "execution_count": 38,
   "id": "23e45cf1",
   "metadata": {},
   "outputs": [
    {
     "data": {
      "text/html": [
       "21"
      ],
      "text/latex": [
       "21"
      ],
      "text/markdown": [
       "21"
      ],
      "text/plain": [
       "[1] 21"
      ]
     },
     "metadata": {},
     "output_type": "display_data"
    }
   ],
   "source": [
    "rbinom(1, 100, 0.26)"
   ]
  },
  {
   "cell_type": "code",
   "execution_count": 39,
   "id": "44a08e0a",
   "metadata": {
    "pycharm": {
     "name": "#%%\n"
    }
   },
   "outputs": [
    {
     "data": {
      "image/png": "[encoded data removed]",
      "text/plain": [
       "plot without title"
      ]
     },
     "metadata": {
      "image/png": {
       "height": 420,
       "width": 420
      }
     },
     "output_type": "display_data"
    }
   ],
   "source": [
    "set.seed(42)\n",
    "successes = rbinom(10000, 100, 0.26)\n",
    "\n",
    "ggplot() + \n",
    "  geom_histogram(aes(x=successes, y=..density..), bins = 29, alpha=0.1, color=\"black\", size=0.05) +\n",
    "  geom_density(aes(x=successes), color=\"black\", size=1, bw=1.6)\n"
   ]
  },
  {
   "cell_type": "markdown",
   "id": "82376aea",
   "metadata": {
    "pycharm": {
     "name": "#%% md\n"
    }
   },
   "source": [
    "\n",
    "### The Statistic\n",
    "\n",
    "* The manufacturer says p=0.26 represents the population.\n",
    "\n",
    "* A natural statistic, number of successes in our simulated sample of 100 tests.\n",
    "\n",
    "  * Small value with favor alternative viewpoint.\n",
    "\n",
    "\n",
    "* If the model were true, what is the distribution of success? \n",
    "\n"
   ]
  },
  {
   "cell_type": "code",
   "execution_count": 40,
   "id": "dca74a52",
   "metadata": {
    "pycharm": {
     "name": "#%%\n"
    }
   },
   "outputs": [
    {
     "data": {
      "text/html": [
       "<style>\n",
       ".list-inline {list-style: none; margin:0; padding: 0}\n",
       ".list-inline>li {display: inline-block}\n",
       ".list-inline>li:not(:last-child)::after {content: \"\\00b7\"; padding: 0 .5ex}\n",
       "</style>\n",
       "<ol class=list-inline><li>26</li><li>28</li><li>30</li><li>24</li><li>27</li><li>28</li><li>25</li><li>29</li><li>24</li><li>19</li></ol>\n"
      ],
      "text/latex": [
       "\\begin{enumerate*}\n",
       "\\item 26\n",
       "\\item 28\n",
       "\\item 30\n",
       "\\item 24\n",
       "\\item 27\n",
       "\\item 28\n",
       "\\item 25\n",
       "\\item 29\n",
       "\\item 24\n",
       "\\item 19\n",
       "\\end{enumerate*}\n"
      ],
      "text/markdown": [
       "1. 26\n",
       "2. 28\n",
       "3. 30\n",
       "4. 24\n",
       "5. 27\n",
       "6. 28\n",
       "7. 25\n",
       "8. 29\n",
       "9. 24\n",
       "10. 19\n",
       "\n",
       "\n"
      ],
      "text/plain": [
       " [1] 26 28 30 24 27 28 25 29 24 19"
      ]
     },
     "metadata": {},
     "output_type": "display_data"
    }
   ],
   "source": [
    "rbinom(10, 100, 0.26)"
   ]
  },
  {
   "cell_type": "code",
   "execution_count": 41,
   "id": "17187fb9",
   "metadata": {
    "pycharm": {
     "name": "#%%\n"
    }
   },
   "outputs": [
    {
     "data": {
      "text/html": [
       "<table class=\"dataframe\">\n",
       "<caption>A matrix: 2 × 10 of type int</caption>\n",
       "<tbody>\n",
       "\t<tr><td>25</td><td>31</td><td>30</td><td>22</td><td>27</td><td>30</td><td>24</td><td>23</td><td>25</td><td>22</td></tr>\n",
       "\t<tr><td>16</td><td>34</td><td>27</td><td>29</td><td>30</td><td>32</td><td>21</td><td>25</td><td>26</td><td>22</td></tr>\n",
       "</tbody>\n",
       "</table>\n"
      ],
      "text/latex": [
       "A matrix: 2 × 10 of type int\n",
       "\\begin{tabular}{llllllllll}\n",
       "\t 25 & 31 & 30 & 22 & 27 & 30 & 24 & 23 & 25 & 22\\\\\n",
       "\t 16 & 34 & 27 & 29 & 30 & 32 & 21 & 25 & 26 & 22\\\\\n",
       "\\end{tabular}\n"
      ],
      "text/markdown": [
       "\n",
       "A matrix: 2 × 10 of type int\n",
       "\n",
       "| 25 | 31 | 30 | 22 | 27 | 30 | 24 | 23 | 25 | 22 |\n",
       "| 16 | 34 | 27 | 29 | 30 | 32 | 21 | 25 | 26 | 22 |\n",
       "\n"
      ],
      "text/plain": [
       "     [,1] [,2] [,3] [,4] [,5] [,6] [,7] [,8] [,9] [,10]\n",
       "[1,] 25   31   30   22   27   30   24   23   25   22   \n",
       "[2,] 16   34   27   29   30   32   21   25   26   22   "
      ]
     },
     "metadata": {},
     "output_type": "display_data"
    }
   ],
   "source": [
    "\n",
    "n = 2\n",
    "\n",
    "n %>%\n",
    "  replicate(rbinom(10, 100, 0.26)) %>%\n",
    "  t()\n"
   ]
  },
  {
   "cell_type": "code",
   "execution_count": 42,
   "id": "c0fbb23b",
   "metadata": {
    "pycharm": {
     "name": "#%%\n"
    }
   },
   "outputs": [],
   "source": [
    "# To get a sense of the variability, let's generate 10,000 simulated values of the count. \n",
    "nb_replicates = 10000\n",
    "nb_kits = 100\n",
    "\n",
    "nb_success = rbinom(nb_replicates, nb_kits, 0.26)"
   ]
  },
  {
   "cell_type": "code",
   "execution_count": 43,
   "id": "99add847",
   "metadata": {
    "pycharm": {
     "name": "#%%\n"
    }
   },
   "outputs": [
    {
     "data": {
      "text/html": [
       "<style>\n",
       ".list-inline {list-style: none; margin:0; padding: 0}\n",
       ".list-inline>li {display: inline-block}\n",
       ".list-inline>li:not(:last-child)::after {content: \"\\00b7\"; padding: 0 .5ex}\n",
       "</style>\n",
       "<ol class=list-inline><li>24</li><li>22</li><li>23</li><li>29</li><li>26</li><li>28</li></ol>\n"
      ],
      "text/latex": [
       "\\begin{enumerate*}\n",
       "\\item 24\n",
       "\\item 22\n",
       "\\item 23\n",
       "\\item 29\n",
       "\\item 26\n",
       "\\item 28\n",
       "\\end{enumerate*}\n"
      ],
      "text/markdown": [
       "1. 24\n",
       "2. 22\n",
       "3. 23\n",
       "4. 29\n",
       "5. 26\n",
       "6. 28\n",
       "\n",
       "\n"
      ],
      "text/plain": [
       "[1] 24 22 23 29 26 28"
      ]
     },
     "metadata": {},
     "output_type": "display_data"
    }
   ],
   "source": [
    "head(nb_success)"
   ]
  },
  {
   "cell_type": "code",
   "execution_count": 44,
   "id": "b3475474",
   "metadata": {
    "pycharm": {
     "name": "#%%\n"
    }
   },
   "outputs": [
    {
     "data": {
      "image/png": "[encoded data removed]",
      "text/plain": [
       "plot without title"
      ]
     },
     "metadata": {
      "image/png": {
       "height": 420,
       "width": 420
      }
     },
     "output_type": "display_data"
    }
   ],
   "source": [
    "ggplot() + \n",
    "  geom_histogram(aes(x=nb_success, y=..density..), bins = 32, alpha=0.1, color=\"black\", size=0.05) +\n",
    "  geom_density(aes(x=nb_success), color=\"black\", size=1, bw=2) + \n",
    "  geom_vline(aes(xintercept=26))"
   ]
  },
  {
   "cell_type": "code",
   "execution_count": 45,
   "id": "54c50b0f",
   "metadata": {
    "pycharm": {
     "name": "#%%\n"
    }
   },
   "outputs": [
    {
     "data": {
      "text/html": [
       "2"
      ],
      "text/latex": [
       "2"
      ],
      "text/markdown": [
       "2"
      ],
      "text/plain": [
       "[1] 2"
      ]
     },
     "metadata": {},
     "output_type": "display_data"
    }
   ],
   "source": [
    "sum(nb_success <= 10)"
   ]
  },
  {
   "cell_type": "markdown",
   "id": "fb569159",
   "metadata": {
    "pycharm": {
     "name": "#%% md\n"
    }
   },
   "source": [
    "### Comparing the Prediction and the Observed Data\n",
    "\n",
    "- The value 10 is far out. \n",
    "  - No samples yield less 10 that 10 successes\n",
    "\n",
    "- Assuming the claim is true, if we use the kit 100 times, the probability of observing 10 successes is ~0 \n",
    "\n",
    "- This is evidence that the model (claim) is not consistent with the data we obtained\n",
    "\n",
    "  - When the data and a model are inconsistent, the model is hard to justify. \n",
    "\n",
    "- While it is *possible* to have 10 successes, simulation shows that it's extremely unlikely. \n",
    "  * The empirical probability of such an event is actually null\n"
   ]
  },
  {
   "cell_type": "markdown",
   "id": "3d720443",
   "metadata": {
    "pycharm": {
     "name": "#%% md\n"
    }
   },
   "source": [
    "### General Approach\n",
    "\n",
    "* This method of assessing models is very general. \n",
    "1. We have a value we wish to compare to some distribution\n",
    "2. We generate samples under the hypothesis we would like to test\n",
    "  * This is called the null hypothesis\n",
    "\n",
    "3. we reason about the observed data or statistic\n",
    "\n",
    "\n",
    "* Here is an example in which we use it to assess a model in a completely different setting"
   ]
  },
  {
   "cell_type": "markdown",
   "id": "32561c81",
   "metadata": {
    "pycharm": {
     "name": "#%% md\n"
    }
   },
   "source": [
    "### Mendel's Pea Flowers ###\n",
    "\n",
    "* In a particular variety, each pea plant has either purple or white flowers.\n",
    "\n",
    "* Plant colors are independent\n",
    "\n",
    "* Mendel hypothesized that the plants should bear purple or white flowers at random, in the ratio 3:1. \n",
    "\n",
    "* The null model: For every plant, there is a 75% chance that it will have purple flowers, and a 25% chance that the flowers will be white, regardless of the colors in the remaining plants.\n",
    "\n",
    "* We sampled 100 flowers and 72 were actually purple\n",
    "\n",
    "* Do our results agree with Mendel's model?\n"
   ]
  },
  {
   "cell_type": "markdown",
   "id": "0636fcf1",
   "metadata": {
    "pycharm": {
     "name": "#%% md\n"
    }
   },
   "source": [
    "### Approach to Assessment\n",
    "\n",
    "1. Assess the model by simulating plants under the assumptions of the model \n",
    "\n",
    "2. Compare the results to the data that Mendel recorded\n",
    "    * If the model is good, the percent of purple-flowering plants in the sample should be close to 75%. \n",
    " \n",
    "    * If the model is not good, the percent purple-flowering will be away from 75%. \n",
    "\n",
    "        * It may be higher, or lower; the direction doesn't matter.\n",
    "\n",
    "3. The *distance* between 75% and the percent of purple-flowering plants in the sample is critical. \n",
    "\n",
    " * Big distances are evidence that the model isn't good. Therefore, a good statistic is the distance between the sample percent and 75%\n",
    "\n",
    "$$\n",
    "\\big{\\vert} \\text{sample percent of purple-flowering plants} - 75 \\big{\\vert}\n",
    "$$\n"
   ]
  },
  {
   "cell_type": "markdown",
   "id": "03070aa4",
   "metadata": {
    "pycharm": {
     "name": "#%% md\n"
    }
   },
   "source": [
    "### Predicting the Statistic Under the Model ###\n",
    "\n",
    "* How big the distance would be if Mendel's model were true?\n",
    "\n",
    "  * Use `sample_proportions` to simulate the distance under the assumptions of the model.\n",
    "\n",
    "* Mendel had 929 plants of the variety corresponding to this model.\n",
    "\n",
    "* One simulated value of the experiment would look like\n"
   ]
  },
  {
   "cell_type": "code",
   "execution_count": 245,
   "id": "18064fa9",
   "metadata": {
    "pycharm": {
     "name": "#%%\n"
    }
   },
   "outputs": [
    {
     "data": {
      "text/html": [
       "0.741657696447793"
      ],
      "text/latex": [
       "0.741657696447793"
      ],
      "text/markdown": [
       "0.741657696447793"
      ],
      "text/plain": [
       "[1] 0.7416577"
      ]
     },
     "metadata": {},
     "output_type": "display_data"
    }
   ],
   "source": [
    "rbinom(1, 929, 0.75)/929"
   ]
  },
  {
   "cell_type": "code",
   "execution_count": 26,
   "id": "b7ac0db4",
   "metadata": {},
   "outputs": [
    {
     "data": {
      "text/html": [
       "0.76210979547901"
      ],
      "text/latex": [
       "0.76210979547901"
      ],
      "text/markdown": [
       "0.76210979547901"
      ],
      "text/plain": [
       "[1] 0.7621098"
      ]
     },
     "metadata": {},
     "output_type": "display_data"
    }
   ],
   "source": [
    "rbinom(1, 929, 0.75)/929"
   ]
  },
  {
   "cell_type": "code",
   "execution_count": 27,
   "id": "fe7001f0",
   "metadata": {},
   "outputs": [
    {
     "data": {
      "text/html": [
       "0.764262648008611"
      ],
      "text/latex": [
       "0.764262648008611"
      ],
      "text/markdown": [
       "0.764262648008611"
      ],
      "text/plain": [
       "[1] 0.7642626"
      ]
     },
     "metadata": {},
     "output_type": "display_data"
    }
   ],
   "source": [
    "rbinom(1, 929, 0.75)/929"
   ]
  },
  {
   "cell_type": "code",
   "execution_count": 31,
   "id": "d778c281",
   "metadata": {
    "pycharm": {
     "name": "#%%\n"
    }
   },
   "outputs": [
    {
     "data": {
      "text/html": [
       "2.44886975242196"
      ],
      "text/latex": [
       "2.44886975242196"
      ],
      "text/markdown": [
       "2.44886975242196"
      ],
      "text/plain": [
       "[1] 2.44887"
      ]
     },
     "metadata": {},
     "output_type": "display_data"
    }
   ],
   "source": [
    "# We could simulate from a batch of size 929, as Mendel did\n",
    "abs((100 * rbinom(1,929, 0.75)/929) - 75)"
   ]
  },
  {
   "cell_type": "markdown",
   "id": "420b889c",
   "metadata": {
    "pycharm": {
     "name": "#%% md\n"
    }
   },
   "source": [
    "### Running the Simulation\n",
    "* To get a sense of how variable the distance could be, we have to simulate it many more times.\n",
    "  * We will generate 10,000 values of the distance.\n",
    "* We will plot the histogram of the simulated values to see the distribution of the distance as predicted by the model.\n"
   ]
  },
  {
   "cell_type": "code",
   "execution_count": 258,
   "id": "49810384",
   "metadata": {
    "pycharm": {
     "name": "#%%\n"
    }
   },
   "outputs": [
    {
     "data": {
      "text/html": [
       "<style>\n",
       ".list-inline {list-style: none; margin:0; padding: 0}\n",
       ".list-inline>li {display: inline-block}\n",
       ".list-inline>li:not(:last-child)::after {content: \"\\00b7\"; padding: 0 .5ex}\n",
       "</style>\n",
       "<ol class=list-inline><li>-0.618945102260497</li><li>0.457481162540361</li><li>-1.3724434876211</li><li>1.42626480086115</li><li>-1.3724434876211</li><li>0.780409041980619</li><li>0.99569429494079</li><li>1.21097954790096</li><li>1.64155005382132</li><li>0.457481162540361</li></ol>\n"
      ],
      "text/latex": [
       "\\begin{enumerate*}\n",
       "\\item -0.618945102260497\n",
       "\\item 0.457481162540361\n",
       "\\item -1.3724434876211\n",
       "\\item 1.42626480086115\n",
       "\\item -1.3724434876211\n",
       "\\item 0.780409041980619\n",
       "\\item 0.99569429494079\n",
       "\\item 1.21097954790096\n",
       "\\item 1.64155005382132\n",
       "\\item 0.457481162540361\n",
       "\\end{enumerate*}\n"
      ],
      "text/markdown": [
       "1. -0.618945102260497\n",
       "2. 0.457481162540361\n",
       "3. -1.3724434876211\n",
       "4. 1.42626480086115\n",
       "5. -1.3724434876211\n",
       "6. 0.780409041980619\n",
       "7. 0.99569429494079\n",
       "8. 1.21097954790096\n",
       "9. 1.64155005382132\n",
       "10. 0.457481162540361\n",
       "\n",
       "\n"
      ],
      "text/plain": [
       " [1] -0.6189451  0.4574812 -1.3724435  1.4262648 -1.3724435  0.7804090\n",
       " [7]  0.9956943  1.2109795  1.6415501  0.4574812"
      ]
     },
     "metadata": {},
     "output_type": "display_data"
    }
   ],
   "source": [
    "\n",
    "(100 * rbinom(10, 929, 0.75)/929) - 75\n"
   ]
  },
  {
   "cell_type": "code",
   "execution_count": 267,
   "id": "af8e768b",
   "metadata": {
    "pycharm": {
     "name": "#%%\n"
    }
   },
   "outputs": [
    {
     "data": {
      "text/html": [
       "<style>\n",
       ".list-inline {list-style: none; margin:0; padding: 0}\n",
       ".list-inline>li {display: inline-block}\n",
       ".list-inline>li:not(:last-child)::after {content: \"\\00b7\"; padding: 0 .5ex}\n",
       "</style>\n",
       "<ol class=list-inline><li>1.26480086114101</li><li>0.618945102260497</li><li>2.01829924650161</li><li>0.403659849300325</li><li>1.21097954790096</li><li>0.188374596340154</li><li>0.0807319698600679</li><li>1.64155005382132</li><li>0.24219590958019</li><li>0.29601722282024</li></ol>\n"
      ],
      "text/latex": [
       "\\begin{enumerate*}\n",
       "\\item 1.26480086114101\n",
       "\\item 0.618945102260497\n",
       "\\item 2.01829924650161\n",
       "\\item 0.403659849300325\n",
       "\\item 1.21097954790096\n",
       "\\item 0.188374596340154\n",
       "\\item 0.0807319698600679\n",
       "\\item 1.64155005382132\n",
       "\\item 0.24219590958019\n",
       "\\item 0.29601722282024\n",
       "\\end{enumerate*}\n"
      ],
      "text/markdown": [
       "1. 1.26480086114101\n",
       "2. 0.618945102260497\n",
       "3. 2.01829924650161\n",
       "4. 0.403659849300325\n",
       "5. 1.21097954790096\n",
       "6. 0.188374596340154\n",
       "7. 0.0807319698600679\n",
       "8. 1.64155005382132\n",
       "9. 0.24219590958019\n",
       "10. 0.29601722282024\n",
       "\n",
       "\n"
      ],
      "text/plain": [
       " [1] 1.26480086 0.61894510 2.01829925 0.40365985 1.21097955 0.18837460\n",
       " [7] 0.08073197 1.64155005 0.24219591 0.29601722"
      ]
     },
     "metadata": {},
     "output_type": "display_data"
    }
   ],
   "source": [
    "distances = abs((100 * rbinom(10000, 929, 0.75)/929) - 75)\n",
    "distances[0:10]"
   ]
  },
  {
   "cell_type": "code",
   "execution_count": 288,
   "id": "b3fa081c",
   "metadata": {
    "pycharm": {
     "name": "#%%\n"
    }
   },
   "outputs": [
    {
     "data": {
      "image/png": "[encoded data removed]",
      "text/plain": [
       "plot without title"
      ]
     },
     "metadata": {
      "image/png": {
       "height": 420,
       "width": 420
      }
     },
     "output_type": "display_data"
    }
   ],
   "source": [
    "set.seed(42)\n",
    "successes = rbinom(10000, 100, 0.26)\n",
    "\n",
    "ggplot() + \n",
    "  geom_histogram(aes(x=distances, y=..density..), bins = 29, alpha=0.1, color=\"black\", size=0.05) +\n",
    "  geom_density(aes(x=distances), color=\"black\", size=1, bw=0.3) + \n",
    "  geom_point(aes(x=3, y=0), size=10, color=\"red\")\n"
   ]
  },
  {
   "cell_type": "code",
   "execution_count": 292,
   "id": "38ee057c",
   "metadata": {
    "pycharm": {
     "name": "#%%\n"
    }
   },
   "outputs": [
    {
     "data": {
      "text/html": [
       "0.0331"
      ],
      "text/latex": [
       "0.0331"
      ],
      "text/markdown": [
       "0.0331"
      ],
      "text/plain": [
       "[1] 0.0331"
      ]
     },
     "metadata": {},
     "output_type": "display_data"
    }
   ],
   "source": [
    "sum(distances >=3)/10000"
   ]
  }
 ],
 "metadata": {
  "kernelspec": {
   "display_name": "R",
   "language": "R",
   "name": "ir"
  },
  "language_info": {
   "codemirror_mode": "r",
   "file_extension": ".r",
   "mimetype": "text/x-r-source",
   "name": "R",
   "pygments_lexer": "r",
   "version": "4.2.1"
  }
 },
 "nbformat": 4,
 "nbformat_minor": 5
}
