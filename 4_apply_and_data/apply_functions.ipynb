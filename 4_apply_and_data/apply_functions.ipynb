{
 "cells": [
  {
   "cell_type": "markdown",
   "id": "4350005b",
   "metadata": {},
   "source": [
    "### `apply` family of functions\n",
    "\n",
    "* `Apply` family of functions apply some functionality to data\n",
    "  * Similar, but faster than for loops\n",
    "  * Leverage hardware parallelism (CPU cores)\n",
    "  * Concise code that easier to read, understand and maintain\n",
    "\n",
    "* there is exist differen types of apply\n",
    "  * `apply`, `lapply`, `sapply`, `tapply`, `vapply`, and `mapply`.\n",
    "    *  Won't cover the last two\n",
    "  * Provide slightly different behaviors on different input data types.\n"
   ]
  },
  {
   "cell_type": "markdown",
   "id": "94fbc472",
   "metadata": {},
   "source": [
    "### `apply()` \n",
    "\n",
    "```apply(X, MARGIN, FUN, ...)```\n",
    "\n",
    "* `X`: Matrix or array \n",
    "\n",
    "* `MARGIN`: represents the axis along which the computation is carried out\n",
    "    * `magin = 1` -> compute function independently for each row \n",
    "    * `magin = 2` -> compute function independently for each column \n",
    "    \n",
    "* `FUN`: function to apply to elements     \n",
    "\n",
    "![Description MARGIN](https://s3.amazonaws.com/assets.datacamp.com/blog_assets/Apply+Tutorial+R/content_content_apply_1.png)\n",
    "\n"
   ]
  },
  {
   "cell_type": "code",
   "execution_count": 1,
   "id": "dd6b76c3",
   "metadata": {},
   "outputs": [
    {
     "name": "stdout",
     "output_type": "stream",
     "text": [
      "     [,1] [,2] [,3]\n",
      "[1,]    1    6   11\n",
      "[2,]    2    7   12\n",
      "[3,]    3    8   13\n",
      "[4,]    4    9   14\n",
      "[5,]    5   10   15\n"
     ]
    }
   ],
   "source": [
    "my_matrix <- matrix(c(1:15), nrow = 5)\n",
    "print(my_matrix)\n"
   ]
  },
  {
   "cell_type": "code",
   "execution_count": 3,
   "id": "97092832",
   "metadata": {},
   "outputs": [
    {
     "name": "stdout",
     "output_type": "stream",
     "text": [
      "[1]  1  6 11\n"
     ]
    }
   ],
   "source": [
    "# print a single row\n",
    "print(my_matrix[1,])"
   ]
  },
  {
   "cell_type": "code",
   "execution_count": 10,
   "id": "d01a97e6",
   "metadata": {},
   "outputs": [
    {
     "data": {
      "text/html": [
       "18"
      ],
      "text/latex": [
       "18"
      ],
      "text/markdown": [
       "18"
      ],
      "text/plain": [
       "[1] 18"
      ]
     },
     "metadata": {},
     "output_type": "display_data"
    }
   ],
   "source": [
    "# sum the values of single row\n",
    "sum(my_matrix[1, ])"
   ]
  },
  {
   "cell_type": "code",
   "execution_count": 21,
   "id": "956e903f",
   "metadata": {},
   "outputs": [
    {
     "name": "stdout",
     "output_type": "stream",
     "text": [
      "[1] \"Manually summing rows of my_matrix:\"\n",
      "[1] 18 21 24 27 30\n",
      "[1] \"Sum using apply to each row of my_matrix:\"\n",
      "[1] 18 21 24 27 30\n"
     ]
    }
   ],
   "source": [
    "# sum the values of all rows\n",
    "row_1_sum = sum(my_matrix[1, ]) \n",
    "row_2_sum = sum(my_matrix[2, ])\n",
    "row_3_sum = sum(my_matrix[3, ])\n",
    "row_4_sum = sum(my_matrix[4, ])\n",
    "row_5_sum = sum(my_matrix[5, ])\n",
    "print(\"Manually summing rows of my_matrix:\")\n",
    "print(c(row_1_sum, row_2_sum, row_3_sum, row_4_sum, row_5_sum))\n",
    "print(\"Sum using apply to each row of my_matrix:\")\n",
    "print(apply(my_matrix, 1 , sum))\n"
   ]
  },
  {
   "cell_type": "code",
   "execution_count": 24,
   "id": "e658afab",
   "metadata": {},
   "outputs": [
    {
     "name": "stdout",
     "output_type": "stream",
     "text": [
      "[1] \"Manually summing rows of my_matrix:\"\n",
      "[1] 15 40 65\n",
      "[1] \"Sum using apply to each row of my_matrix:\"\n",
      "[1] 15 40 65\n"
     ]
    }
   ],
   "source": [
    "# sum the values of all rows\n",
    "col_1_sum = sum(my_matrix[, 1]) \n",
    "col_2_sum = sum(my_matrix[, 2])\n",
    "col_3_sum = sum(my_matrix[, 3])\n",
    "print(\"Manually summing rows of my_matrix:\")\n",
    "print(c(col_1_sum, col_2_sum, col_3_sum))\n",
    "print(\"Sum using apply to each row of my_matrix:\")\n",
    "print(apply(my_matrix, 2 , sum))\n",
    "\n"
   ]
  },
  {
   "cell_type": "code",
   "execution_count": 34,
   "id": "6458ddad",
   "metadata": {},
   "outputs": [
    {
     "name": "stdout",
     "output_type": "stream",
     "text": [
      "[1] \"Apply mean column wise\"\n",
      "[1]  3  8 13\n",
      "[1] \"Apply std column wise\"\n",
      "[1] 1.581139 1.581139 1.581139\n"
     ]
    }
   ],
   "source": [
    "print(\"Apply mean column wise\")\n",
    "print(apply(my_matrix, 2, mean))\n",
    "\n",
    "print(\"Apply std column wise\")\n",
    "print(apply(my_matrix, 2, sd))\n"
   ]
  },
  {
   "cell_type": "markdown",
   "id": "dc702812",
   "metadata": {},
   "source": [
    "### `apply` reduce versus mapping the data\n",
    "\n",
    "* Some operations reduce data\n",
    "  * `sum(v)` -> returns a single value that represents `v`\n",
    "  * e.g.: `sum(c(1,2,3,4))` return `10`\n",
    "* Some operations map values to new values\n",
    "  * ex. `sqrt(v)` -> return a new vector of the same size as `v` \n",
    "  * e.g.: `sqrt(c(1, 4,9,16,25))` return `c(1,2,3,4,5)`\n",
    "* Typically mappers can be applied directly to a matrix\n"
   ]
  },
  {
   "cell_type": "code",
   "execution_count": 48,
   "id": "fa46e7dc",
   "metadata": {},
   "outputs": [
    {
     "name": "stdout",
     "output_type": "stream",
     "text": [
      "         [,1]     [,2]     [,3]\n",
      "[1,] 1.000000 2.449490 3.316625\n",
      "[2,] 1.414214 2.645751 3.464102\n",
      "[3,] 1.732051 2.828427 3.605551\n",
      "[4,] 2.000000 3.000000 3.741657\n",
      "[5,] 2.236068 3.162278 3.872983\n"
     ]
    },
    {
     "data": {
      "text/html": [
       "'-----------------------------'"
      ],
      "text/latex": [
       "'-----------------------------'"
      ],
      "text/markdown": [
       "'-----------------------------'"
      ],
      "text/plain": [
       "[1] \"-----------------------------\""
      ]
     },
     "metadata": {},
     "output_type": "display_data"
    },
    {
     "name": "stdout",
     "output_type": "stream",
     "text": [
      "         [,1]     [,2]     [,3]\n",
      "[1,] 1.000000 2.449490 3.316625\n",
      "[2,] 1.414214 2.645751 3.464102\n",
      "[3,] 1.732051 2.828427 3.605551\n",
      "[4,] 2.000000 3.000000 3.741657\n",
      "[5,] 2.236068 3.162278 3.872983\n"
     ]
    }
   ],
   "source": [
    "print(sqrt(my_matrix))\n",
    "print(\"-----------------------------\")\n",
    "print(apply(my_matrix, 2, sqrt))"
   ]
  },
  {
   "cell_type": "markdown",
   "id": "20396f42",
   "metadata": {},
   "source": [
    "### `lapply`, and `sapply`\n",
    "\n",
    "* `lapply`, `sapply` apply a function through a variable containing a `list` or a `vector`\n",
    "* No concept of `MARGIN` or axis since data does not have a second dimension \n",
    "\n",
    "* Given a vector `a`, `lapply(a, FUN)` is different `FUN(a)`\n",
    "* `lapply(a, FUN)` is similar to `FUN(a[1])`, `FUN(a[2])`, `...`\n",
    "\n",
    "* Given a list `a`, `lapply(a, FUN)` is different `FUN(a)`\n",
    "* `lapply(a, FUN)` is similar to `FUN(a[[1]])`, `FUN(a[[2]])`, `...`\n",
    "\n"
   ]
  },
  {
   "cell_type": "markdown",
   "id": "cf9b48e8",
   "metadata": {},
   "source": [
    "### Difference between `lapply`, `sapply`, and `vapply`\n",
    "\n",
    "* `lapply` returns a **L**ist\n",
    "\n",
    "* `sapply` **S**implifies the returned structure (vector instead of list)\n"
   ]
  },
  {
   "cell_type": "code",
   "execution_count": 4,
   "id": "9c5cebd0",
   "metadata": {},
   "outputs": [
    {
     "name": "stdout",
     "output_type": "stream",
     "text": [
      "[1] \"For sum(a), the result is\"\n"
     ]
    },
    {
     "data": {
      "text/html": [
       "15"
      ],
      "text/latex": [
       "15"
      ],
      "text/markdown": [
       "15"
      ],
      "text/plain": [
       "[1] 15"
      ]
     },
     "metadata": {},
     "output_type": "display_data"
    },
    {
     "name": "stdout",
     "output_type": "stream",
     "text": [
      "[1] \"For lapply(a, sum), the result is\"\n",
      "[[1]]\n",
      "[1] 1\n",
      "\n",
      "[[2]]\n",
      "[1] 2\n",
      "\n",
      "[[3]]\n",
      "[1] 3\n",
      "\n",
      "[[4]]\n",
      "[1] 4\n",
      "\n",
      "[[5]]\n",
      "[1] 5\n",
      "\n"
     ]
    }
   ],
   "source": [
    "a = c(1,2,3,4,5)\n",
    "print(\"For sum(a), the result is\")\n",
    "sum(a)\n",
    "print(\"For lapply(a, sum), the result is\")\n",
    "print(lapply(a, sum))"
   ]
  },
  {
   "cell_type": "code",
   "execution_count": 6,
   "id": "ff11c3aa",
   "metadata": {},
   "outputs": [
    {
     "name": "stdout",
     "output_type": "stream",
     "text": [
      "[[1]]\n",
      "[1] 1 2 3\n",
      "\n",
      "[[2]]\n",
      "[1] 17\n",
      "\n",
      "[[3]]\n",
      "[1] \"John\"\n",
      "\n"
     ]
    }
   ],
   "source": [
    "x = list(c(1,2,3), 17, \"John\")\n",
    "print(x)"
   ]
  },
  {
   "cell_type": "code",
   "execution_count": 7,
   "id": "fb0dba83",
   "metadata": {},
   "outputs": [
    {
     "name": "stdout",
     "output_type": "stream",
     "text": [
      "$Holophagae\n",
      "[1] \"Holophagales\"           \"canthopleuribacterales\"\n",
      "\n",
      "$Thermoanaerobaculia\n",
      "[1] \"Thermoanaerobaculales\"\n",
      "\n",
      "$Acidobacteriia\n",
      "[1] \"Acidobacteriales\"         \"Bryobacterales\"          \n",
      "[3] \"Candidatus Acidoferrales\"\n",
      "\n",
      "$date\n",
      "[1] \"09/14/2021\"\n",
      "\n"
     ]
    }
   ],
   "source": [
    "my_list = list( \"Holophagae\" = c(\"Holophagales\", \"canthopleuribacterales\"),\n",
    "                \"Thermoanaerobaculia\"= c(\"Thermoanaerobaculales\"),\n",
    "                \"Acidobacteriia\" = c(\"Acidobacteriales\", \"Bryobacterales\", \"Candidatus Acidoferrales\"),\n",
    "              date = \"09/14/2021\")\n",
    "print(my_list)"
   ]
  },
  {
   "cell_type": "code",
   "execution_count": 66,
   "id": "7721e187",
   "metadata": {},
   "outputs": [
    {
     "data": {
      "text/html": [
       "<dl>\n",
       "\t<dt>$Holophagae</dt>\n",
       "\t\t<dd>2</dd>\n",
       "\t<dt>$Thermoanaerobaculia</dt>\n",
       "\t\t<dd>1</dd>\n",
       "\t<dt>$Acidobacteriia</dt>\n",
       "\t\t<dd>3</dd>\n",
       "\t<dt>$date</dt>\n",
       "\t\t<dd>1</dd>\n",
       "</dl>\n"
      ],
      "text/latex": [
       "\\begin{description}\n",
       "\\item[\\$Holophagae] 2\n",
       "\\item[\\$Thermoanaerobaculia] 1\n",
       "\\item[\\$Acidobacteriia] 3\n",
       "\\item[\\$date] 1\n",
       "\\end{description}\n"
      ],
      "text/markdown": [
       "$Holophagae\n",
       ":   2\n",
       "$Thermoanaerobaculia\n",
       ":   1\n",
       "$Acidobacteriia\n",
       ":   3\n",
       "$date\n",
       ":   1\n",
       "\n",
       "\n"
      ],
      "text/plain": [
       "$Holophagae\n",
       "[1] 2\n",
       "\n",
       "$Thermoanaerobaculia\n",
       "[1] 1\n",
       "\n",
       "$Acidobacteriia\n",
       "[1] 3\n",
       "\n",
       "$date\n",
       "[1] 1\n"
      ]
     },
     "metadata": {},
     "output_type": "display_data"
    }
   ],
   "source": [
    "lapply(my_list, length)"
   ]
  },
  {
   "cell_type": "code",
   "execution_count": 71,
   "id": "7c2de4ad",
   "metadata": {},
   "outputs": [
    {
     "name": "stdout",
     "output_type": "stream",
     "text": [
      "[[1]]\n",
      "[1] 1 2 3\n",
      "\n",
      "[[2]]\n",
      "[1] 4 5 6 7 8\n",
      "\n",
      "[[3]]\n",
      "[1] 1 2 3 4 5\n",
      "\n"
     ]
    }
   ],
   "source": [
    "some_list = list(c(1:3), c(4:8), c(1:5))\n",
    "print(some_list)"
   ]
  },
  {
   "cell_type": "code",
   "execution_count": 74,
   "id": "f5d4e4a6",
   "metadata": {},
   "outputs": [
    {
     "name": "stdout",
     "output_type": "stream",
     "text": [
      " int [1:3] 1 2 3\n"
     ]
    }
   ],
   "source": [
    "str(some_list[[1]])"
   ]
  },
  {
   "cell_type": "code",
   "execution_count": 83,
   "id": "33edc0d3",
   "metadata": {},
   "outputs": [
    {
     "name": "stdout",
     "output_type": "stream",
     "text": [
      "[1] \"Manually summing elements of list\"\n",
      "[[1]]\n",
      "[1] 6\n",
      "\n",
      "[[2]]\n",
      "[1] 30\n",
      "\n",
      "[[3]]\n",
      "[1] 15\n",
      "\n",
      "[1] \"Sum using apply to each element of the list:\"\n",
      "[[1]]\n",
      "[1] 6\n",
      "\n",
      "[[2]]\n",
      "[1] 30\n",
      "\n",
      "[[3]]\n",
      "[1] 15\n",
      "\n"
     ]
    }
   ],
   "source": [
    "sum_list_elem_1 = sum(some_list[[1]])\n",
    "sum_list_elem_2 = sum(some_list[[2]])\n",
    "sum_list_elem_3 = sum(some_list[[3]])\n",
    "\n",
    "print(\"Manually summing elements of list\")\n",
    "print(list(sum_list_elem_1, sum_list_elem_2, sum_list_elem_3))\n",
    "print(\"Sum using apply to each element of the list:\")\n",
    "print(lapply(some_list, sum))"
   ]
  },
  {
   "cell_type": "code",
   "execution_count": 85,
   "id": "31284cac",
   "metadata": {},
   "outputs": [
    {
     "name": "stdout",
     "output_type": "stream",
     "text": [
      "[1] \"Manually summing elements of list\"\n",
      "[1]  6 30 15\n",
      "[1] \"Sum using apply to each element of the list:\"\n",
      "[1]  6 30 15\n"
     ]
    }
   ],
   "source": [
    "sum_list_elem_1 = sum(some_list[[1]])\n",
    "sum_list_elem_2 = sum(some_list[[2]])\n",
    "sum_list_elem_3 = sum(some_list[[3]])\n",
    "\n",
    "print(\"Manually summing elements of list\")\n",
    "print(c(sum_list_elem_1, sum_list_elem_2, sum_list_elem_3))\n",
    "\n",
    "\n",
    "print(\"Sum using apply to each element of the list:\")\n",
    "print(sapply(some_list, sum))"
   ]
  },
  {
   "cell_type": "markdown",
   "id": "3d5b3597",
   "metadata": {},
   "source": [
    "### `lappy` and element indexing\n",
    "\n",
    "* You can use the selection operator '[' to index into a list or a matrix\n",
    " * The format is `lapply(list, '[', row_num_or_empty, col_num_or_empyt)`\n",
    " \n"
   ]
  },
  {
   "cell_type": "code",
   "execution_count": 9,
   "id": "1f2af5fc",
   "metadata": {},
   "outputs": [
    {
     "name": "stdout",
     "output_type": "stream",
     "text": [
      "[1] \"the third element of each vector in the list is:\"\n"
     ]
    },
    {
     "data": {
      "text/html": [
       "<ol>\n",
       "\t<li>1</li>\n",
       "\t<li>5</li>\n",
       "\t<li>11</li>\n",
       "</ol>\n"
      ],
      "text/latex": [
       "\\begin{enumerate}\n",
       "\\item 1\n",
       "\\item 5\n",
       "\\item 11\n",
       "\\end{enumerate}\n"
      ],
      "text/markdown": [
       "1. 1\n",
       "2. 5\n",
       "3. 11\n",
       "\n",
       "\n"
      ],
      "text/plain": [
       "[[1]]\n",
       "[1] 1\n",
       "\n",
       "[[2]]\n",
       "[1] 5\n",
       "\n",
       "[[3]]\n",
       "[1] 11\n"
      ]
     },
     "metadata": {},
     "output_type": "display_data"
    }
   ],
   "source": [
    "some_list = list(c(1,2,3,4), c(5,6,7,8,9.10), c(11,12))\n",
    "print(\"the third element of each vector in the list is:\")\n",
    "lapply(some_list, '[', 1)"
   ]
  },
  {
   "cell_type": "code",
   "execution_count": 10,
   "id": "0f366731",
   "metadata": {},
   "outputs": [
    {
     "name": "stdout",
     "output_type": "stream",
     "text": [
      "[[1]]\n",
      "     [,1] [,2]\n",
      "[1,]    1    3\n",
      "[2,]    2    4\n",
      "\n",
      "[[2]]\n",
      "     [,1] [,2] [,3]\n",
      "[1,]    6   10   14\n",
      "[2,]    7   11   15\n",
      "[3,]    8   12   16\n",
      "[4,]    9   13   17\n",
      "\n",
      "[[3]]\n",
      "     [,1] [,2] [,3]\n",
      "[1,]    3    4    5\n",
      "[2,]    6    7    8\n",
      "[3,]    9   10   11\n",
      "\n"
     ]
    }
   ],
   "source": [
    "some_list = list(matrix(1:4, nrow=2), matrix(6:17, nrow=4), matrix(3:11, ncol=3, byrow=TRUE))\n",
    "print(some_list)"
   ]
  },
  {
   "cell_type": "code",
   "execution_count": 11,
   "id": "7e98a10e",
   "metadata": {},
   "outputs": [
    {
     "name": "stdout",
     "output_type": "stream",
     "text": [
      "[[1]]\n",
      "[1] 1 3\n",
      "\n",
      "[[2]]\n",
      "[1]  6 10 14\n",
      "\n",
      "[[3]]\n",
      "[1] 3 4 5\n",
      "\n"
     ]
    }
   ],
   "source": [
    "print(lapply(some_list, '[', 1, ))"
   ]
  },
  {
   "cell_type": "code",
   "execution_count": 196,
   "id": "e34fda4c",
   "metadata": {},
   "outputs": [
    {
     "data": {
      "text/html": [
       "<ol>\n",
       "\t<li><style>\n",
       ".list-inline {list-style: none; margin:0; padding: 0}\n",
       ".list-inline>li {display: inline-block}\n",
       ".list-inline>li:not(:last-child)::after {content: \"\\00b7\"; padding: 0 .5ex}\n",
       "</style>\n",
       "<ol class=list-inline><li>3</li><li>4</li></ol>\n",
       "</li>\n",
       "\t<li><style>\n",
       ".list-inline {list-style: none; margin:0; padding: 0}\n",
       ".list-inline>li {display: inline-block}\n",
       ".list-inline>li:not(:last-child)::after {content: \"\\00b7\"; padding: 0 .5ex}\n",
       "</style>\n",
       "<ol class=list-inline><li>10</li><li>11</li><li>12</li><li>13</li></ol>\n",
       "</li>\n",
       "\t<li><style>\n",
       ".list-inline {list-style: none; margin:0; padding: 0}\n",
       ".list-inline>li {display: inline-block}\n",
       ".list-inline>li:not(:last-child)::after {content: \"\\00b7\"; padding: 0 .5ex}\n",
       "</style>\n",
       "<ol class=list-inline><li>4</li><li>7</li><li>10</li></ol>\n",
       "</li>\n",
       "</ol>\n"
      ],
      "text/latex": [
       "\\begin{enumerate}\n",
       "\\item \\begin{enumerate*}\n",
       "\\item 3\n",
       "\\item 4\n",
       "\\end{enumerate*}\n",
       "\n",
       "\\item \\begin{enumerate*}\n",
       "\\item 10\n",
       "\\item 11\n",
       "\\item 12\n",
       "\\item 13\n",
       "\\end{enumerate*}\n",
       "\n",
       "\\item \\begin{enumerate*}\n",
       "\\item 4\n",
       "\\item 7\n",
       "\\item 10\n",
       "\\end{enumerate*}\n",
       "\n",
       "\\end{enumerate}\n"
      ],
      "text/markdown": [
       "1. 1. 3\n",
       "2. 4\n",
       "\n",
       "\n",
       "\n",
       "2. 1. 10\n",
       "2. 11\n",
       "3. 12\n",
       "4. 13\n",
       "\n",
       "\n",
       "\n",
       "3. 1. 4\n",
       "2. 7\n",
       "3. 10\n",
       "\n",
       "\n",
       "\n",
       "\n",
       "\n"
      ],
      "text/plain": [
       "[[1]]\n",
       "[1] 3 4\n",
       "\n",
       "[[2]]\n",
       "[1] 10 11 12 13\n",
       "\n",
       "[[3]]\n",
       "[1]  4  7 10\n"
      ]
     },
     "metadata": {},
     "output_type": "display_data"
    }
   ],
   "source": [
    "lapply(some_list, '[', , 2)"
   ]
  },
  {
   "cell_type": "markdown",
   "id": "1f7e693f",
   "metadata": {},
   "source": [
    "### `tapply`\n",
    "\n",
    "* Applies a function to a subset of the vector broken down by a given factor variable.\n",
    "  * Split the vector of interest according to some variable of interest\n",
    "  * Compute function on resulting subgroups"
   ]
  },
  {
   "cell_type": "code",
   "execution_count": 117,
   "id": "8cb75d14",
   "metadata": {},
   "outputs": [
    {
     "name": "stdout",
     "output_type": "stream",
     "text": [
      "   colA colB colC\n",
      "1     1   11   21\n",
      "2     2   12   22\n",
      "3     3   13   23\n",
      "4     4   14   24\n",
      "5     5   15   25\n",
      "6     6   16   26\n",
      "7     7   17   27\n",
      "8     8   18   28\n",
      "9     9   19   29\n",
      "10   10   20   30\n"
     ]
    }
   ],
   "source": [
    "some_matrix <- matrix(c(1:10, 11:20, 21:30), nrow=10)\n",
    "my_df <- as.data.frame(some_matrix)\n",
    "colnames(my_df) = c(\"colA\", \"colB\", \"colC\")\n",
    "print(my_df)"
   ]
  },
  {
   "cell_type": "code",
   "execution_count": 118,
   "id": "d63d9693",
   "metadata": {},
   "outputs": [
    {
     "name": "stdout",
     "output_type": "stream",
     "text": [
      "   indicator colA colB colC\n",
      "1          A    1   11   21\n",
      "2          A    2   12   22\n",
      "3          A    3   13   23\n",
      "4          A    4   14   24\n",
      "5          A    5   15   25\n",
      "6          B    6   16   26\n",
      "7          B    7   17   27\n",
      "8          B    8   18   28\n",
      "9          B    9   19   29\n",
      "10         B   10   20   30\n"
     ]
    }
   ],
   "source": [
    "my_df = cbind(\"indicator\"= c(\"A\",\"A\",\"A\", \"A\", \"A\", \"B\", \"B\", \"B\", \"B\", \"B\"), my_df)\n",
    "print(my_df)"
   ]
  },
  {
   "cell_type": "code",
   "execution_count": 120,
   "id": "99590211",
   "metadata": {},
   "outputs": [
    {
     "name": "stdout",
     "output_type": "stream",
     "text": [
      "A B \n",
      "3 8 \n"
     ]
    }
   ],
   "source": [
    "print(tapply(my_df$colA, my_df$indicator, mean))"
   ]
  },
  {
   "cell_type": "code",
   "execution_count": 126,
   "id": "b485bed4",
   "metadata": {},
   "outputs": [
    {
     "name": "stdout",
     "output_type": "stream",
     "text": [
      "A \n",
      "9 \n"
     ]
    }
   ],
   "source": [
    "res = tapply(my_df$colA, my_df$indicator, mean)\n",
    "\n",
    "print(res[\"A\"] ** 2)\n",
    "             "
   ]
  },
  {
   "cell_type": "markdown",
   "id": "6ad343d4",
   "metadata": {},
   "source": [
    "### `mapply()`\n",
    "\n",
    "* Stands for the `multivariate` apply. \n",
    "\n",
    "  * Runs a FUN for a vector of inputs for each of its parameters.\n",
    "\n",
    "`mapply(FUN, LIST_OF_ITERATIVE_PARAMS_1 , LIST_OF_ITERATIVE_PARAMS_2, ...)`\n",
    "\n",
    "* `LIST_OF_ITERATIVE_PARAMS_1` is the list of params that FUN will use as a value for some PARAM_1\n",
    "\n",
    "* `LIST_OF_ITERATIVE_PARAMS_2` is the list of params that FUN will use as a value for some PARAM_2\n",
    "* etc.\n",
    "\n",
    "* The resulting data structure depends on the output\n",
    "  * If different number of cols -> `list`\n",
    "  * If the same number of rows and data type  -> `matrix`\n"
   ]
  },
  {
   "cell_type": "code",
   "execution_count": 12,
   "id": "5b668aff",
   "metadata": {},
   "outputs": [
    {
     "name": "stdout",
     "output_type": "stream",
     "text": [
      " [1]  1  2  3  4  5  6  7  8  9 10\n"
     ]
    }
   ],
   "source": [
    "print(1:10)"
   ]
  },
  {
   "cell_type": "code",
   "execution_count": 13,
   "id": "56add179",
   "metadata": {},
   "outputs": [
    {
     "name": "stdout",
     "output_type": "stream",
     "text": [
      "[1] \"Sequence from 1 to 10 by increments of 1\"\n",
      " [1]  1  2  3  4  5  6  7  8  9 10\n",
      "[1] \"Sequence from 1 to 10 by increments of 2\"\n",
      "[1] 1 3 5 7 9\n",
      "[1] 1 3 5 7 9\n"
     ]
    }
   ],
   "source": [
    "print(\"Sequence from 1 to 10 by increments of 1\")\n",
    "print(seq(1, 10))\n",
    "\n",
    "print(\"Sequence from 1 to 10 by increments of 2\")\n",
    "print(seq(1, 10, by=2))\n",
    "print(seq(1, 10, 2))\n"
   ]
  },
  {
   "cell_type": "code",
   "execution_count": 20,
   "id": "c5ee4391",
   "metadata": {},
   "outputs": [
    {
     "name": "stdout",
     "output_type": "stream",
     "text": [
      "[1] 1 3 5 7 9\n"
     ]
    }
   ],
   "source": [
    "print(seq(from=1, to=10, by=2))"
   ]
  },
  {
   "cell_type": "code",
   "execution_count": 15,
   "id": "481a2956",
   "metadata": {},
   "outputs": [
    {
     "name": "stdout",
     "output_type": "stream",
     "text": [
      "[[1]]\n",
      "[1]  0  2  4  6  8 10\n",
      "\n",
      "[[2]]\n",
      "[1]  2  4  6  8 10\n",
      "\n",
      "[[3]]\n",
      "[1] 3 5 7 9\n",
      "\n"
     ]
    }
   ],
   "source": [
    "# instead of seq(1, 10), seq(2, 10) and seq(3, 10)\n",
    "# we write mapply(seq, c(1,2,3,4,5), 10)\n",
    "print(mapply(seq, from=c(0,2,3), to=10, by =2))\n",
    "#Equivalent to\n",
    "mapply(seq, from=0, to=10, by =2)\n",
    "mapply(seq, from=2, to=10, by =2)\n",
    "mapply(seq, from=3, to=10, by =2)\n"
   ]
  },
  {
   "cell_type": "code",
   "execution_count": 158,
   "id": "e8e7685e",
   "metadata": {},
   "outputs": [
    {
     "name": "stdout",
     "output_type": "stream",
     "text": [
      "[[1]]\n",
      " [1]  1  2  3  4  5  6  7  8  9 10\n",
      "\n",
      "[[2]]\n",
      "[1]  2  4  6  8 10\n",
      "\n",
      "[[3]]\n",
      "[1] 3 6 9\n",
      "\n"
     ]
    }
   ],
   "source": [
    "# or instead seq(1, 10), seq(2, 11) and seq(3, 12)\n",
    "print(mapply(seq, from=c(1,2,3), to=10, by =c(1,2,3)))"
   ]
  },
  {
   "cell_type": "code",
   "execution_count": 1,
   "id": "2839972b",
   "metadata": {},
   "outputs": [
    {
     "name": "stdout",
     "output_type": "stream",
     "text": [
      "      [,1] [,2] [,3]\n",
      " [1,]    0    2    3\n",
      " [2,]    1    3    4\n",
      " [3,]    2    4    5\n",
      " [4,]    3    5    6\n",
      " [5,]    4    6    7\n",
      " [6,]    5    7    8\n",
      " [7,]    6    8    9\n",
      " [8,]    7    9   10\n",
      " [9,]    8   10   11\n",
      "[10,]    9   11   12\n",
      "[11,]   10   12   13\n"
     ]
    }
   ],
   "source": [
    "print(mapply(seq, from=c(0,2,3), to=c(10,12,13), by =c(1,1,1)))\n"
   ]
  },
  {
   "cell_type": "markdown",
   "id": "4da78ded",
   "metadata": {},
   "source": [
    "### Using Custom Functions\n",
    "\n",
    "* Any function of the `apply` family can take a custom function\n",
    "* The custom function should take as input the element the `apply` function operates on\n",
    "\n",
    "For example, given:\n",
    "\n",
    "```\n",
    "apply(some_matrix, 1, some_function)\n",
    "```\n",
    "\n",
    "* We should assume that some function can take a whole row since we're using `1` as the marine here. \n"
   ]
  },
  {
   "cell_type": "code",
   "execution_count": 24,
   "id": "9a0c31b8",
   "metadata": {},
   "outputs": [
    {
     "name": "stdout",
     "output_type": "stream",
     "text": [
      "[1] \"sum_of_square of c( 1, 2 , 3) is\"\n",
      "[1] 14\n",
      "[1] \"sum_of_square of 5 is\"\n",
      "[1] 25\n"
     ]
    }
   ],
   "source": [
    "sum_of_square = function(x){\n",
    "    # returns the sum of square of the input x\n",
    "    # works with x a vector or single value since sum(x) == x.\n",
    "    square_x = x ^ 2\n",
    "    sum(square_x)\n",
    "}\n",
    "print(\"sum_of_square of c( 1, 2 , 3) is\")\n",
    "print(sum_of_square(c(1,2,3))) # 1^2 + 2^2 + 3^2 = 1 + 4 + 9 = 14\n",
    "\n",
    "\n",
    "print(\"sum_of_square of 5 is\")\n",
    "print(sum_of_square(5)) # 1^2 + 2^2 + 3^2 = 1 + 4 + 9 = 14"
   ]
  },
  {
   "cell_type": "code",
   "execution_count": 25,
   "id": "96c638d8",
   "metadata": {},
   "outputs": [
    {
     "name": "stdout",
     "output_type": "stream",
     "text": [
      "     [,1] [,2] [,3]\n",
      "[1,]    1    2    3\n",
      "[2,]    1    2    3\n",
      "[3,]    1    2    3\n"
     ]
    }
   ],
   "source": [
    "my_matrix = mapply(rep, 1:3, 3)\n",
    "print(my_matrix)"
   ]
  },
  {
   "cell_type": "code",
   "execution_count": 26,
   "id": "1ed1abe9",
   "metadata": {},
   "outputs": [
    {
     "data": {
      "text/html": [
       "<style>\n",
       ".list-inline {list-style: none; margin:0; padding: 0}\n",
       ".list-inline>li {display: inline-block}\n",
       ".list-inline>li:not(:last-child)::after {content: \"\\00b7\"; padding: 0 .5ex}\n",
       "</style>\n",
       "<ol class=list-inline><li>14</li><li>14</li><li>14</li></ol>\n"
      ],
      "text/latex": [
       "\\begin{enumerate*}\n",
       "\\item 14\n",
       "\\item 14\n",
       "\\item 14\n",
       "\\end{enumerate*}\n"
      ],
      "text/markdown": [
       "1. 14\n",
       "2. 14\n",
       "3. 14\n",
       "\n",
       "\n"
      ],
      "text/plain": [
       "[1] 14 14 14"
      ]
     },
     "metadata": {},
     "output_type": "display_data"
    }
   ],
   "source": [
    "apply(my_matrix, 1, sum_of_square)"
   ]
  },
  {
   "cell_type": "code",
   "execution_count": 27,
   "id": "553ec619",
   "metadata": {},
   "outputs": [
    {
     "data": {
      "text/html": [
       "<style>\n",
       ".list-inline {list-style: none; margin:0; padding: 0}\n",
       ".list-inline>li {display: inline-block}\n",
       ".list-inline>li:not(:last-child)::after {content: \"\\00b7\"; padding: 0 .5ex}\n",
       "</style>\n",
       "<ol class=list-inline><li>1</li><li>4</li><li>9</li><li>16</li></ol>\n"
      ],
      "text/latex": [
       "\\begin{enumerate*}\n",
       "\\item 1\n",
       "\\item 4\n",
       "\\item 9\n",
       "\\item 16\n",
       "\\end{enumerate*}\n"
      ],
      "text/markdown": [
       "1. 1\n",
       "2. 4\n",
       "3. 9\n",
       "4. 16\n",
       "\n",
       "\n"
      ],
      "text/plain": [
       "[1]  1  4  9 16"
      ]
     },
     "metadata": {},
     "output_type": "display_data"
    }
   ],
   "source": [
    "sapply(c(1,2,3,4), sum_of_square)"
   ]
  }
 ],
 "metadata": {
  "kernelspec": {
   "display_name": "R",
   "language": "R",
   "name": "ir"
  },
  "language_info": {
   "codemirror_mode": "r",
   "file_extension": ".r",
   "mimetype": "text/x-r-source",
   "name": "R",
   "pygments_lexer": "r",
   "version": "4.2.1"
  }
 },
 "nbformat": 4,
 "nbformat_minor": 5
}
