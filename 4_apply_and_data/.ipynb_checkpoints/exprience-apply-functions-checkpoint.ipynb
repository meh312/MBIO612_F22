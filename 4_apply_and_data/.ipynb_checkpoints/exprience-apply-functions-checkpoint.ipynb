{
 "cells": [
  {
   "cell_type": "code",
   "execution_count": 17,
   "id": "ff2aee4a",
   "metadata": {},
   "outputs": [],
   "source": [
    "# Write you library imports here. E.g.:\n",
    "library(ggplot2 )\n",
    "# ...\n",
    "library(tibble)"
   ]
  },
  {
   "cell_type": "markdown",
   "id": "b90fe26e",
   "metadata": {},
   "source": [
    "\n",
    "### Instructions:\n",
    "\n",
    "1. it is considered proper programming practice to load all the libraries you need in the first cell of a notebook or at the top of the R-Markdown file. Put all your imports (e.g., `library(ggplot)`) in the cell above.\n",
    "2. Create as many cells as needed to answer a question\n",
    "  * Group code that is logically related in the same cell\n",
    "  * Keep cells relatively small\n",
    "  * Format long statements or expressions, including `ggplot`, across multiple lines\n",
    "3. Submit your work to GitHub under your MBIO repository.\n",
    "  * Folder should be called `4_apply_and_data`\n",
    "    "
   ]
  },
  {
   "cell_type": "markdown",
   "id": "9d1f436c",
   "metadata": {},
   "source": [
    "### Q1\n",
    "\n",
    "* Write a function called `sd_x` that computes the standard deviation from first principles. Recall that the standard deviation is computed as\n",
    "\n",
    "$$\n",
    "\\sigma = \\sqrt{\\frac{\\sum{(x_i - \\mu)^2}}{N-1}}\n",
    "$$\n",
    "\n",
    "* $\\mu$ is simply the mean of the vector of inputs\n",
    "  * it can be computed using the `mean` function\n",
    "\n",
    "\n",
    "For example, given:\n",
    "\n",
    "```x = c(1,2,3)```\n",
    "\n",
    "Since $\\mu = 2$, then $\\sigma = \\sqrt{\\frac{(1-2)^2 + (2-2)^2 + (3-2)^2}{3}} = 1$.\n"
   ]
  },
  {
   "cell_type": "code",
   "execution_count": 130,
   "id": "a532397f",
   "metadata": {},
   "outputs": [
    {
     "data": {
      "text/html": [
       "1"
      ],
      "text/latex": [
       "1"
      ],
      "text/markdown": [
       "1"
      ],
      "text/plain": [
       "[1] 1"
      ]
     },
     "metadata": {},
     "output_type": "display_data"
    },
    {
     "data": {
      "text/html": [
       "1"
      ],
      "text/latex": [
       "1"
      ],
      "text/markdown": [
       "1"
      ],
      "text/plain": [
       "[1] 1"
      ]
     },
     "metadata": {},
     "output_type": "display_data"
    }
   ],
   "source": [
    "# Write your code here\n",
    "# use extra cells if needed\n",
    "sd_x <- function(x) {\n",
    "    m=mean(x)\n",
    "    N=length(x)\n",
    "    new=sqrt((sum((x-m)^2)/(N-1)))\n",
    "      return(new)\n",
    "}\n",
    "sd_x(c(1,2,3))\n",
    "sd(c(1,2,3))"
   ]
  },
  {
   "cell_type": "markdown",
   "id": "e959fbbe",
   "metadata": {},
   "source": [
    "### Optional Question \n",
    "\n",
    "Remember that we cannot compute the standard deviation of a single value. As such, modify your `sd_x` code to throw an error similar to those R generates when your code contains an error, whenever a user calls `sd_x` with a list containing a single element. Various methods can be used to accomplish this. One such way is by using the [`assertthat` package](https://github.com/hadley/assertthat) "
   ]
  },
  {
   "cell_type": "code",
   "execution_count": 11,
   "id": "5da36d62",
   "metadata": {},
   "outputs": [],
   "source": [
    "# Write your code here if you choose to answer the question above\n",
    "# use extra cells if needed\n",
    "sd_x <- function(x) {\n",
    "    if (length(x)<=1){\n",
    "        return(\"error: input list contains single element or empty vector\")\n",
    "    }else{\n",
    "    m=mean(x)\n",
    "    N=length(x)\n",
    "    new=sqrt((sum((x-m)^2)/(N-1)))\n",
    "      return(new)\n",
    "        }\n",
    "}\n",
    "sd_x(c(1))\n",
    "sd(c(1,2,4))"
   ]
  },
  {
   "cell_type": "markdown",
   "id": "49cf15c5",
   "metadata": {},
   "source": [
    "### Q2\n",
    "Given the following matrix of data where each column consists of a variable: \n",
    "1. Convert this data frame into a tibble called data_tbl\n",
    "2. Use one of the apply-type of functions in conjunction with `sd_x` you wrote previously to compute the standard deviation for each column.\n"
   ]
  },
  {
   "cell_type": "code",
   "execution_count": 131,
   "id": "778eb309",
   "metadata": {},
   "outputs": [],
   "source": [
    "data = matrix(1:50, ncol=5)\n",
    "colnames(data) = c(\"variable_1\", \"variable_2\", \"variable_3\", \"variable_4\", \"variable_5\")\n",
    "data_tbl=as_tibble(data)"
   ]
  },
  {
   "cell_type": "code",
   "execution_count": 24,
   "id": "d8de32a8",
   "metadata": {},
   "outputs": [
    {
     "data": {
      "text/html": [
       "<dl>\n",
       "\t<dt>$variable_1</dt>\n",
       "\t\t<dd>3.02765035409749</dd>\n",
       "\t<dt>$variable_2</dt>\n",
       "\t\t<dd>3.02765035409749</dd>\n",
       "\t<dt>$variable_3</dt>\n",
       "\t\t<dd>3.02765035409749</dd>\n",
       "\t<dt>$variable_4</dt>\n",
       "\t\t<dd>3.02765035409749</dd>\n",
       "\t<dt>$variable_5</dt>\n",
       "\t\t<dd>3.02765035409749</dd>\n",
       "</dl>\n"
      ],
      "text/latex": [
       "\\begin{description}\n",
       "\\item[\\$variable\\_1] 3.02765035409749\n",
       "\\item[\\$variable\\_2] 3.02765035409749\n",
       "\\item[\\$variable\\_3] 3.02765035409749\n",
       "\\item[\\$variable\\_4] 3.02765035409749\n",
       "\\item[\\$variable\\_5] 3.02765035409749\n",
       "\\end{description}\n"
      ],
      "text/markdown": [
       "$variable_1\n",
       ":   3.02765035409749\n",
       "$variable_2\n",
       ":   3.02765035409749\n",
       "$variable_3\n",
       ":   3.02765035409749\n",
       "$variable_4\n",
       ":   3.02765035409749\n",
       "$variable_5\n",
       ":   3.02765035409749\n",
       "\n",
       "\n"
      ],
      "text/plain": [
       "$variable_1\n",
       "[1] 3.02765\n",
       "\n",
       "$variable_2\n",
       "[1] 3.02765\n",
       "\n",
       "$variable_3\n",
       "[1] 3.02765\n",
       "\n",
       "$variable_4\n",
       "[1] 3.02765\n",
       "\n",
       "$variable_5\n",
       "[1] 3.02765\n"
      ]
     },
     "metadata": {},
     "output_type": "display_data"
    }
   ],
   "source": [
    "# Write your code here\n",
    "# use extra cells if needed\n",
    "apply(data_tbl,2,sd_x,simplify=FALSE)"
   ]
  },
  {
   "cell_type": "markdown",
   "id": "dec09c62",
   "metadata": {},
   "source": [
    "### Q3\n",
    "\n",
    "* In this question, we will build a simulated dataset for healthy and diseased corals.  You will be creating a `tibble` called `coral_health_tbl` that contains 2 columns:\n",
    "\n",
    "1. A column called `coral`. Generate this column by sampling 100 coral species from the following values\n",
    "```\n",
    "coral_pop = c(\"Montipora capitata\",\n",
    "  \"Porites compressa\",\n",
    "  \"Porites lobata\")\n",
    "```\n",
    " * You can use the function `sample` to select 100 values from the vector `coral_pop`\n",
    "   * You can see how the function sample works [here](https://www.rdocumentation.org/packages/base/versions/3.6.2/topics/sample)\n",
    " \n",
    "2. The second column is called `is_diseased`.\n",
    "    * it represents 100 randomly selected `TRUE` or `FALSE` values that represent whether the coral is healthy or diseased.\n",
    "    * Healthy corals (`is_diseased == FALSE`; not diseased) occur with a probability of 0.8, i.e. (`is_diseased == TRUE`) occurs with a probability of 0.2\n"
   ]
  },
  {
   "cell_type": "code",
   "execution_count": 26,
   "id": "7bf3ae1b",
   "metadata": {},
   "outputs": [
    {
     "data": {
      "text/html": [
       "<table class=\"dataframe\">\n",
       "<caption>A tibble: 100 × 2</caption>\n",
       "<thead>\n",
       "\t<tr><th scope=col>coral</th><th scope=col>is_diseased</th></tr>\n",
       "\t<tr><th scope=col>&lt;chr&gt;</th><th scope=col>&lt;lgl&gt;</th></tr>\n",
       "</thead>\n",
       "<tbody>\n",
       "\t<tr><td>Montipora capitata</td><td> TRUE</td></tr>\n",
       "\t<tr><td>Porites compressa </td><td> TRUE</td></tr>\n",
       "\t<tr><td>Porites compressa </td><td>FALSE</td></tr>\n",
       "\t<tr><td>Porites lobata    </td><td>FALSE</td></tr>\n",
       "\t<tr><td>Porites lobata    </td><td>FALSE</td></tr>\n",
       "\t<tr><td>Montipora capitata</td><td>FALSE</td></tr>\n",
       "\t<tr><td>Porites lobata    </td><td>FALSE</td></tr>\n",
       "\t<tr><td>Porites lobata    </td><td>FALSE</td></tr>\n",
       "\t<tr><td>Porites lobata    </td><td>FALSE</td></tr>\n",
       "\t<tr><td>Montipora capitata</td><td>FALSE</td></tr>\n",
       "\t<tr><td>Montipora capitata</td><td> TRUE</td></tr>\n",
       "\t<tr><td>Porites lobata    </td><td>FALSE</td></tr>\n",
       "\t<tr><td>Montipora capitata</td><td>FALSE</td></tr>\n",
       "\t<tr><td>Montipora capitata</td><td>FALSE</td></tr>\n",
       "\t<tr><td>Porites compressa </td><td> TRUE</td></tr>\n",
       "\t<tr><td>Porites compressa </td><td>FALSE</td></tr>\n",
       "\t<tr><td>Porites compressa </td><td>FALSE</td></tr>\n",
       "\t<tr><td>Porites compressa </td><td> TRUE</td></tr>\n",
       "\t<tr><td>Montipora capitata</td><td>FALSE</td></tr>\n",
       "\t<tr><td>Porites lobata    </td><td>FALSE</td></tr>\n",
       "\t<tr><td>Porites lobata    </td><td>FALSE</td></tr>\n",
       "\t<tr><td>Montipora capitata</td><td>FALSE</td></tr>\n",
       "\t<tr><td>Montipora capitata</td><td>FALSE</td></tr>\n",
       "\t<tr><td>Porites lobata    </td><td>FALSE</td></tr>\n",
       "\t<tr><td>Porites lobata    </td><td>FALSE</td></tr>\n",
       "\t<tr><td>Porites compressa </td><td>FALSE</td></tr>\n",
       "\t<tr><td>Porites compressa </td><td>FALSE</td></tr>\n",
       "\t<tr><td>Porites compressa </td><td> TRUE</td></tr>\n",
       "\t<tr><td>Montipora capitata</td><td>FALSE</td></tr>\n",
       "\t<tr><td>Montipora capitata</td><td>FALSE</td></tr>\n",
       "\t<tr><td>⋮</td><td>⋮</td></tr>\n",
       "\t<tr><td>Montipora capitata</td><td> TRUE</td></tr>\n",
       "\t<tr><td>Montipora capitata</td><td>FALSE</td></tr>\n",
       "\t<tr><td>Porites lobata    </td><td>FALSE</td></tr>\n",
       "\t<tr><td>Porites lobata    </td><td> TRUE</td></tr>\n",
       "\t<tr><td>Montipora capitata</td><td> TRUE</td></tr>\n",
       "\t<tr><td>Porites compressa </td><td>FALSE</td></tr>\n",
       "\t<tr><td>Montipora capitata</td><td>FALSE</td></tr>\n",
       "\t<tr><td>Porites lobata    </td><td>FALSE</td></tr>\n",
       "\t<tr><td>Porites compressa </td><td> TRUE</td></tr>\n",
       "\t<tr><td>Porites compressa </td><td>FALSE</td></tr>\n",
       "\t<tr><td>Porites compressa </td><td> TRUE</td></tr>\n",
       "\t<tr><td>Porites lobata    </td><td>FALSE</td></tr>\n",
       "\t<tr><td>Porites lobata    </td><td>FALSE</td></tr>\n",
       "\t<tr><td>Montipora capitata</td><td>FALSE</td></tr>\n",
       "\t<tr><td>Montipora capitata</td><td> TRUE</td></tr>\n",
       "\t<tr><td>Montipora capitata</td><td>FALSE</td></tr>\n",
       "\t<tr><td>Porites compressa </td><td> TRUE</td></tr>\n",
       "\t<tr><td>Porites compressa </td><td> TRUE</td></tr>\n",
       "\t<tr><td>Montipora capitata</td><td> TRUE</td></tr>\n",
       "\t<tr><td>Montipora capitata</td><td>FALSE</td></tr>\n",
       "\t<tr><td>Porites compressa </td><td>FALSE</td></tr>\n",
       "\t<tr><td>Montipora capitata</td><td>FALSE</td></tr>\n",
       "\t<tr><td>Montipora capitata</td><td>FALSE</td></tr>\n",
       "\t<tr><td>Porites compressa </td><td>FALSE</td></tr>\n",
       "\t<tr><td>Montipora capitata</td><td>FALSE</td></tr>\n",
       "\t<tr><td>Porites lobata    </td><td>FALSE</td></tr>\n",
       "\t<tr><td>Montipora capitata</td><td>FALSE</td></tr>\n",
       "\t<tr><td>Porites lobata    </td><td>FALSE</td></tr>\n",
       "\t<tr><td>Porites compressa </td><td>FALSE</td></tr>\n",
       "\t<tr><td>Montipora capitata</td><td>FALSE</td></tr>\n",
       "</tbody>\n",
       "</table>\n"
      ],
      "text/latex": [
       "A tibble: 100 × 2\n",
       "\\begin{tabular}{ll}\n",
       " coral & is\\_diseased\\\\\n",
       " <chr> & <lgl>\\\\\n",
       "\\hline\n",
       "\t Montipora capitata &  TRUE\\\\\n",
       "\t Porites compressa  &  TRUE\\\\\n",
       "\t Porites compressa  & FALSE\\\\\n",
       "\t Porites lobata     & FALSE\\\\\n",
       "\t Porites lobata     & FALSE\\\\\n",
       "\t Montipora capitata & FALSE\\\\\n",
       "\t Porites lobata     & FALSE\\\\\n",
       "\t Porites lobata     & FALSE\\\\\n",
       "\t Porites lobata     & FALSE\\\\\n",
       "\t Montipora capitata & FALSE\\\\\n",
       "\t Montipora capitata &  TRUE\\\\\n",
       "\t Porites lobata     & FALSE\\\\\n",
       "\t Montipora capitata & FALSE\\\\\n",
       "\t Montipora capitata & FALSE\\\\\n",
       "\t Porites compressa  &  TRUE\\\\\n",
       "\t Porites compressa  & FALSE\\\\\n",
       "\t Porites compressa  & FALSE\\\\\n",
       "\t Porites compressa  &  TRUE\\\\\n",
       "\t Montipora capitata & FALSE\\\\\n",
       "\t Porites lobata     & FALSE\\\\\n",
       "\t Porites lobata     & FALSE\\\\\n",
       "\t Montipora capitata & FALSE\\\\\n",
       "\t Montipora capitata & FALSE\\\\\n",
       "\t Porites lobata     & FALSE\\\\\n",
       "\t Porites lobata     & FALSE\\\\\n",
       "\t Porites compressa  & FALSE\\\\\n",
       "\t Porites compressa  & FALSE\\\\\n",
       "\t Porites compressa  &  TRUE\\\\\n",
       "\t Montipora capitata & FALSE\\\\\n",
       "\t Montipora capitata & FALSE\\\\\n",
       "\t ⋮ & ⋮\\\\\n",
       "\t Montipora capitata &  TRUE\\\\\n",
       "\t Montipora capitata & FALSE\\\\\n",
       "\t Porites lobata     & FALSE\\\\\n",
       "\t Porites lobata     &  TRUE\\\\\n",
       "\t Montipora capitata &  TRUE\\\\\n",
       "\t Porites compressa  & FALSE\\\\\n",
       "\t Montipora capitata & FALSE\\\\\n",
       "\t Porites lobata     & FALSE\\\\\n",
       "\t Porites compressa  &  TRUE\\\\\n",
       "\t Porites compressa  & FALSE\\\\\n",
       "\t Porites compressa  &  TRUE\\\\\n",
       "\t Porites lobata     & FALSE\\\\\n",
       "\t Porites lobata     & FALSE\\\\\n",
       "\t Montipora capitata & FALSE\\\\\n",
       "\t Montipora capitata &  TRUE\\\\\n",
       "\t Montipora capitata & FALSE\\\\\n",
       "\t Porites compressa  &  TRUE\\\\\n",
       "\t Porites compressa  &  TRUE\\\\\n",
       "\t Montipora capitata &  TRUE\\\\\n",
       "\t Montipora capitata & FALSE\\\\\n",
       "\t Porites compressa  & FALSE\\\\\n",
       "\t Montipora capitata & FALSE\\\\\n",
       "\t Montipora capitata & FALSE\\\\\n",
       "\t Porites compressa  & FALSE\\\\\n",
       "\t Montipora capitata & FALSE\\\\\n",
       "\t Porites lobata     & FALSE\\\\\n",
       "\t Montipora capitata & FALSE\\\\\n",
       "\t Porites lobata     & FALSE\\\\\n",
       "\t Porites compressa  & FALSE\\\\\n",
       "\t Montipora capitata & FALSE\\\\\n",
       "\\end{tabular}\n"
      ],
      "text/markdown": [
       "\n",
       "A tibble: 100 × 2\n",
       "\n",
       "| coral &lt;chr&gt; | is_diseased &lt;lgl&gt; |\n",
       "|---|---|\n",
       "| Montipora capitata |  TRUE |\n",
       "| Porites compressa  |  TRUE |\n",
       "| Porites compressa  | FALSE |\n",
       "| Porites lobata     | FALSE |\n",
       "| Porites lobata     | FALSE |\n",
       "| Montipora capitata | FALSE |\n",
       "| Porites lobata     | FALSE |\n",
       "| Porites lobata     | FALSE |\n",
       "| Porites lobata     | FALSE |\n",
       "| Montipora capitata | FALSE |\n",
       "| Montipora capitata |  TRUE |\n",
       "| Porites lobata     | FALSE |\n",
       "| Montipora capitata | FALSE |\n",
       "| Montipora capitata | FALSE |\n",
       "| Porites compressa  |  TRUE |\n",
       "| Porites compressa  | FALSE |\n",
       "| Porites compressa  | FALSE |\n",
       "| Porites compressa  |  TRUE |\n",
       "| Montipora capitata | FALSE |\n",
       "| Porites lobata     | FALSE |\n",
       "| Porites lobata     | FALSE |\n",
       "| Montipora capitata | FALSE |\n",
       "| Montipora capitata | FALSE |\n",
       "| Porites lobata     | FALSE |\n",
       "| Porites lobata     | FALSE |\n",
       "| Porites compressa  | FALSE |\n",
       "| Porites compressa  | FALSE |\n",
       "| Porites compressa  |  TRUE |\n",
       "| Montipora capitata | FALSE |\n",
       "| Montipora capitata | FALSE |\n",
       "| ⋮ | ⋮ |\n",
       "| Montipora capitata |  TRUE |\n",
       "| Montipora capitata | FALSE |\n",
       "| Porites lobata     | FALSE |\n",
       "| Porites lobata     |  TRUE |\n",
       "| Montipora capitata |  TRUE |\n",
       "| Porites compressa  | FALSE |\n",
       "| Montipora capitata | FALSE |\n",
       "| Porites lobata     | FALSE |\n",
       "| Porites compressa  |  TRUE |\n",
       "| Porites compressa  | FALSE |\n",
       "| Porites compressa  |  TRUE |\n",
       "| Porites lobata     | FALSE |\n",
       "| Porites lobata     | FALSE |\n",
       "| Montipora capitata | FALSE |\n",
       "| Montipora capitata |  TRUE |\n",
       "| Montipora capitata | FALSE |\n",
       "| Porites compressa  |  TRUE |\n",
       "| Porites compressa  |  TRUE |\n",
       "| Montipora capitata |  TRUE |\n",
       "| Montipora capitata | FALSE |\n",
       "| Porites compressa  | FALSE |\n",
       "| Montipora capitata | FALSE |\n",
       "| Montipora capitata | FALSE |\n",
       "| Porites compressa  | FALSE |\n",
       "| Montipora capitata | FALSE |\n",
       "| Porites lobata     | FALSE |\n",
       "| Montipora capitata | FALSE |\n",
       "| Porites lobata     | FALSE |\n",
       "| Porites compressa  | FALSE |\n",
       "| Montipora capitata | FALSE |\n",
       "\n"
      ],
      "text/plain": [
       "    coral              is_diseased\n",
       "1   Montipora capitata  TRUE      \n",
       "2   Porites compressa   TRUE      \n",
       "3   Porites compressa  FALSE      \n",
       "4   Porites lobata     FALSE      \n",
       "5   Porites lobata     FALSE      \n",
       "6   Montipora capitata FALSE      \n",
       "7   Porites lobata     FALSE      \n",
       "8   Porites lobata     FALSE      \n",
       "9   Porites lobata     FALSE      \n",
       "10  Montipora capitata FALSE      \n",
       "11  Montipora capitata  TRUE      \n",
       "12  Porites lobata     FALSE      \n",
       "13  Montipora capitata FALSE      \n",
       "14  Montipora capitata FALSE      \n",
       "15  Porites compressa   TRUE      \n",
       "16  Porites compressa  FALSE      \n",
       "17  Porites compressa  FALSE      \n",
       "18  Porites compressa   TRUE      \n",
       "19  Montipora capitata FALSE      \n",
       "20  Porites lobata     FALSE      \n",
       "21  Porites lobata     FALSE      \n",
       "22  Montipora capitata FALSE      \n",
       "23  Montipora capitata FALSE      \n",
       "24  Porites lobata     FALSE      \n",
       "25  Porites lobata     FALSE      \n",
       "26  Porites compressa  FALSE      \n",
       "27  Porites compressa  FALSE      \n",
       "28  Porites compressa   TRUE      \n",
       "29  Montipora capitata FALSE      \n",
       "30  Montipora capitata FALSE      \n",
       "⋮   ⋮                  ⋮          \n",
       "71  Montipora capitata  TRUE      \n",
       "72  Montipora capitata FALSE      \n",
       "73  Porites lobata     FALSE      \n",
       "74  Porites lobata      TRUE      \n",
       "75  Montipora capitata  TRUE      \n",
       "76  Porites compressa  FALSE      \n",
       "77  Montipora capitata FALSE      \n",
       "78  Porites lobata     FALSE      \n",
       "79  Porites compressa   TRUE      \n",
       "80  Porites compressa  FALSE      \n",
       "81  Porites compressa   TRUE      \n",
       "82  Porites lobata     FALSE      \n",
       "83  Porites lobata     FALSE      \n",
       "84  Montipora capitata FALSE      \n",
       "85  Montipora capitata  TRUE      \n",
       "86  Montipora capitata FALSE      \n",
       "87  Porites compressa   TRUE      \n",
       "88  Porites compressa   TRUE      \n",
       "89  Montipora capitata  TRUE      \n",
       "90  Montipora capitata FALSE      \n",
       "91  Porites compressa  FALSE      \n",
       "92  Montipora capitata FALSE      \n",
       "93  Montipora capitata FALSE      \n",
       "94  Porites compressa  FALSE      \n",
       "95  Montipora capitata FALSE      \n",
       "96  Porites lobata     FALSE      \n",
       "97  Montipora capitata FALSE      \n",
       "98  Porites lobata     FALSE      \n",
       "99  Porites compressa  FALSE      \n",
       "100 Montipora capitata FALSE      "
      ]
     },
     "metadata": {},
     "output_type": "display_data"
    }
   ],
   "source": [
    "# Write your code here\n",
    "# use extra cells if needed\n",
    "coral_pop = c(\"Montipora capitata\",\"Porites compressa\",\"Porites lobata\")\n",
    "coral=sample(coral_pop, size=100,replace=TRUE, prob=c(0.3,0.3,0.3))\n",
    "is_diseased=sample(c(TRUE, FALSE), size=100, replace=TRUE, prob=c(0.2,0.8))\n",
    "coral_health_tbl<-tibble(coral,is_diseased)"
   ]
  },
  {
   "cell_type": "markdown",
   "id": "dacc2558",
   "metadata": {},
   "source": [
    "### Q4\n",
    "\n",
    "* The function `rnorm` is used to sample (i.e., produce) random values from a normal distribution. The syntax of the function is as follows:\n",
    "```\n",
    "rnorm(n, mu, sd)\n",
    "```\n",
    "where n is the number of samples to generate, mu is the mean of the distribution and `sd` is the standard deviation.\n",
    "\n",
    "Essentially what the function does is generate `n` random values from a normal distribution that is centered around the mean `mu` and has the standard deviation defined by the parameter `sd`. If you do not understand what this statement means, you should not worry as we will cover it in greater detail in the next section. However, you must know that this function generates n random values that are in some way close to the provided mean (`mu`) you provided.\n",
    "\n",
    "Use the cell below to experiment with the function `rnorm`. E.g.: try to generate 5 values from the distribution with a mean 10 and a standard deviation 1."
   ]
  },
  {
   "cell_type": "code",
   "execution_count": 27,
   "id": "9aa5b82e",
   "metadata": {},
   "outputs": [
    {
     "data": {
      "text/html": [
       "<style>\n",
       ".list-inline {list-style: none; margin:0; padding: 0}\n",
       ".list-inline>li {display: inline-block}\n",
       ".list-inline>li:not(:last-child)::after {content: \"\\00b7\"; padding: 0 .5ex}\n",
       "</style>\n",
       "<ol class=list-inline><li>8.6412096301092</li><li>10.1087776012082</li><li>10.069786785049</li><li>10.4397217928427</li><li>8.32127250434498</li></ol>\n"
      ],
      "text/latex": [
       "\\begin{enumerate*}\n",
       "\\item 8.6412096301092\n",
       "\\item 10.1087776012082\n",
       "\\item 10.069786785049\n",
       "\\item 10.4397217928427\n",
       "\\item 8.32127250434498\n",
       "\\end{enumerate*}\n"
      ],
      "text/markdown": [
       "1. 8.6412096301092\n",
       "2. 10.1087776012082\n",
       "3. 10.069786785049\n",
       "4. 10.4397217928427\n",
       "5. 8.32127250434498\n",
       "\n",
       "\n"
      ],
      "text/plain": [
       "[1]  8.641210 10.108778 10.069787 10.439722  8.321273"
      ]
     },
     "metadata": {},
     "output_type": "display_data"
    }
   ],
   "source": [
    "# Write your code here\n",
    "# use extra cells if needed\n",
    "rnorm(5,10,1)"
   ]
  },
  {
   "cell_type": "markdown",
   "id": "0b6d0045",
   "metadata": {},
   "source": [
    "### Q5\n",
    "* Create a new column in `coral_health_tbl` called `coral_cover`. This column represents coral cover values for the corals observed in your tibble\n",
    "* For the healthy coral (`is_diseased == FALSE`), sample the cover values from a normal with a mean of 9 and standard deviation of 2\n",
    "* For the diseased corals (`health_status = TRUE`), sample the cover values from a normal with mean 1 and std of 3\n",
    "* Note that this is a perfect scenario for using `mapply`\n"
   ]
  },
  {
   "cell_type": "code",
   "execution_count": 50,
   "id": "de8efd8c",
   "metadata": {},
   "outputs": [],
   "source": [
    "# Write your code here\n",
    "# use extra cells if needed\n",
    "coralcover=function(x){\n",
    "    if (x == TRUE){\n",
    "        rnorm(1,1,3)\n",
    "    } else {\n",
    "        rnorm(1,9,2)\n",
    "    }\n",
    "}\n",
    "coral_health_tbl$coral_cover<-mapply(coralcover,coral_health_tbl$is_diseased)"
   ]
  },
  {
   "cell_type": "markdown",
   "id": "fa18322d",
   "metadata": {},
   "source": [
    "### Q6\n",
    "\n",
    "* Add another column called `binary_health_status`.\n",
    " * set the column to 0 if `is_diseased == FALSE`\n",
    " * set the column to 1 if `is_diseased == TRUE`\n",
    "\n",
    "* A trick here is to remember that:\n",
    "  1. Corecing (converting) a logical can be done with `as.integer()`\n",
    "  2. `as.integer(TRUE)` returns 1\n",
    "  3. `as.integer(FALSE)` returns 0\n",
    "\n",
    "\n"
   ]
  },
  {
   "cell_type": "code",
   "execution_count": 132,
   "id": "656b9f21",
   "metadata": {},
   "outputs": [],
   "source": [
    "coral_health_tbl$binary_health_status<-mapply(as.integer,coral_health_tbl$is_diseased)"
   ]
  },
  {
   "cell_type": "markdown",
   "id": "a6e28e80",
   "metadata": {},
   "source": [
    "### Q7\n",
    "\n",
    "* Plot the distribution of `coral_cover` for healthy versus diseased corals\n",
    "* Note that I am using the histogram `geom`\n",
    "  * Histograms need only an `x`-axis because the `y` is typically computed as the number of items occurring in a bin of some predetermined width.\n",
    "    * However, instead of a raw count, we want a normalized count. You can normalize the count by setting `y = stat(count / sum(count))`  \n",
    "  * I am coloring the bin outlines in black and filling in grey for disease and white for healthy\n",
    "  * I am using `binwidth=1'.\n",
    "* Use the `labs` function to add a title and to change the labels for the `x` and `y` axes\n",
    "* The plot should look \"somewhat\" like the following\n",
    "![](https://www.dropbox.com/s/wdbdj05rd50vb0k/healthy-diseased.png?dl=1)"
   ]
  },
  {
   "cell_type": "code",
   "execution_count": 102,
   "id": "f95f683b",
   "metadata": {},
   "outputs": [
    {
     "data": {
      "image/png": "[encoded data removed]",
      "text/plain": [
       "plot without title"
      ]
     },
     "metadata": {
      "image/png": {
       "height": 420,
       "width": 420
      }
     },
     "output_type": "display_data"
    }
   ],
   "source": [
    "(ggplot(coral_health_tbl, aes(x=coral_cover, \n",
    " y = stat(count / sum(count)),fill=is_diseased))\n",
    " + geom_histogram(binwidth=1,color='black', alpha=0.5)\n",
    " +scale_fill_manual(values=c(\"white\", \"grey\"))\n",
    " +labs(title=\"Total Coral Cover (Healthy v Diseased)\",\n",
    "       x =\"Coral Cover\", y = \"Normalized Proportion\"))\n"
   ]
  },
  {
   "cell_type": "markdown",
   "id": "5a9538df",
   "metadata": {},
   "source": [
    "### Q8\n",
    "\n",
    "* Use `geom_density` to mirror the information conveyed in the histogram above using density curves instead of histograms.\n",
    "  * Set the `adjust` parameter of `geom_density` to `2`\n",
    "* Change the `xlim` scale so that we can see the edges of the curves\n",
    "  * I.e., curves should not be cut off\n",
    "  \n",
    "* The resulting curve will look like the following\n",
    "![](https://www.dropbox.com/s/rs4rx0w6ur8p5wq/coral_distr_practical.png?dl=1)\n"
   ]
  },
  {
   "cell_type": "code",
   "execution_count": 114,
   "id": "b275b0e8",
   "metadata": {},
   "outputs": [
    {
     "data": {
      "image/png": "[encoded data removed]",
      "text/plain": [
       "plot without title"
      ]
     },
     "metadata": {
      "image/png": {
       "height": 420,
       "width": 420
      }
     },
     "output_type": "display_data"
    }
   ],
   "source": [
    "(ggplot(coral_health_tbl, aes(x=coral_cover, fill=coral),color='black') + \n",
    "  geom_density(adjust=2,alpha=0.5)\n",
    "+labs(title=\"Total Coverage per species\",\n",
    "       x =\"Coral Cover\", y = \"Density\"))"
   ]
  },
  {
   "cell_type": "markdown",
   "id": "8c811bda",
   "metadata": {},
   "source": [
    "### Q9\n",
    "\n",
    "You have been provided with the dataset illustrated in the image below, which contains counts for 20 fish species across 5 locations. For convenience, only two species and 2 locations are illustrated here. Based on your knowledge of tidy data, how can you format the data shown in this file in a way that is considered `tidy`. Provide an image of a hand-drawn table (or tables if needed) that represents the table format. Briefly justify your answer in a 3-4 sentences.\n",
    "\n",
    "\n",
    "![](https://www.dropbox.com/s/ucvj0gburg8at60/tidy_data.png?dl=1)"
   ]
  },
  {
   "cell_type": "markdown",
   "id": "c4228bb7",
   "metadata": {},
   "source": [
    "![\"MBIO612Tidy\"](IMG_8530.HEIC)"
   ]
  },
  {
   "cell_type": "markdown",
   "id": "c32cdb35",
   "metadata": {},
   "source": [
    "In order for a dataset to be 'tidy', it needs to be in the format of variables in columns and observation in rows. Also, each column must consist of only one measurement. The original dataset was not tidy because it came in the form of two tables, which was unessessary. Addign an additional cloumn that specifies location allows us to combine the two datasets into one. Also, genus name and species name were in one column, but are different variables and therefore need to be separate."
   ]
  },
  {
   "cell_type": "markdown",
   "id": "784fa644",
   "metadata": {},
   "source": [
    "### Q10 -- Challenge (Optional)\n",
    "\n",
    "\n",
    "Recall problem `8` in the airquality dataset.\n",
    "  * Remember that you can import that dataset using `data(airquality)`\n",
    "1. Convert the `airquality` dataframe to a tibble called `airq_tbl`\n",
    "2. Replace the missing values for Solar.R using that month's average.\n",
    "    * Example:\n",
    "        * The missing value for line 6 in `airq_tbl`should be replaced with the average for month 5.\n",
    "        * The missing value for line 97 in `airq_tbl` should be replaced with the average for month 8.\n",
    "\n",
    "* Strategy:\n",
    "  1. Compute the average values for months 5, 6, 7, 8, and 9 in a names vector called `monthly_avg_SolarR`\n",
    "      * monthly_avg_SolarR[5] should return the average for May.\n",
    "      * monthly_avg_SolarR[6] should return the average for June.\n",
    "      * etc.\n",
    "      * This is an ideal use case for `tapply` with `na.rm=TRUE` (ask me!)\n",
    "  2. for each line of airq_tbl check value of Solar.R and do:\n",
    "    * if value is not `na`, return the value\n",
    "    * if value if `na`; return avg associated with `Month`\n",
    "    * This is an ideal case for `apply`\n",
    "      * You need to write your own function (call it `fix_missing_solar_R`)\n",
    "      * Recall that the argument to that function is a complete row as a vector!\n",
    "    * test your function with the following line to make sure it's working\n",
    "    ```fix_missing_solar_R(airq_tbl[5,])```"
   ]
  },
  {
   "cell_type": "code",
   "execution_count": 223,
   "id": "8c964e70",
   "metadata": {},
   "outputs": [
    {
     "data": {
      "text/html": [
       "<style>\n",
       ".dl-inline {width: auto; margin:0; padding: 0}\n",
       ".dl-inline>dt, .dl-inline>dd {float: none; width: auto; display: inline-block}\n",
       ".dl-inline>dt::after {content: \":\\0020\"; padding-right: .5ex}\n",
       ".dl-inline>dt:not(:first-of-type) {padding-left: .5ex}\n",
       "</style><dl class=dl-inline><dt>5</dt><dd>181.296296296296</dd><dt>6</dt><dd>190.166666666667</dd><dt>7</dt><dd>216.483870967742</dd><dt>8</dt><dd>171.857142857143</dd><dt>9</dt><dd>167.433333333333</dd></dl>\n"
      ],
      "text/latex": [
       "\\begin{description*}\n",
       "\\item[5] 181.296296296296\n",
       "\\item[6] 190.166666666667\n",
       "\\item[7] 216.483870967742\n",
       "\\item[8] 171.857142857143\n",
       "\\item[9] 167.433333333333\n",
       "\\end{description*}\n"
      ],
      "text/markdown": [
       "5\n",
       ":   181.2962962962966\n",
       ":   190.1666666666677\n",
       ":   216.4838709677428\n",
       ":   171.8571428571439\n",
       ":   167.433333333333\n",
       "\n"
      ],
      "text/plain": [
       "       5        6        7        8        9 \n",
       "181.2963 190.1667 216.4839 171.8571 167.4333 "
      ]
     },
     "metadata": {},
     "output_type": "display_data"
    }
   ],
   "source": [
    "data(airquality)\n",
    "airq_tbl=as_tibble(airquality)\n",
    "#airq_tbl$monthly_avg_SolarR=tapply(airq_tbl$Solar.R, as.factor(airq_tbl$Month), mean,na.rm=TRUE)\n",
    "\n",
    "solar <- airq_tbl$Solar.R\n",
    "month <- factor(airq_tbl$Month)\n",
    "monthly_avg_SolarR <- tapply(solar, month, mean,na.rm=TRUE)\n",
    "monthly_avg_SolarR\n"
   ]
  },
  {
   "cell_type": "code",
   "execution_count": 221,
   "id": "dc44e1dc",
   "metadata": {},
   "outputs": [],
   "source": [
    "fix_missing_solar_R=function(x){\n",
    "    if (is.na(x[2])){\n",
    "        month1=x['Month']\n",
    "        #thisavg=monthly_avg_SolarR[month1]\n",
    "        return(month1)\n",
    "    } else {\n",
    "        return (x[2])}}"
   ]
  },
  {
   "cell_type": "code",
   "execution_count": 222,
   "id": "27b0303a",
   "metadata": {},
   "outputs": [
    {
     "data": {
      "text/html": [
       "<table class=\"dataframe\">\n",
       "<caption>A tibble: 1 × 1</caption>\n",
       "<thead>\n",
       "\t<tr><th scope=col>Month</th></tr>\n",
       "\t<tr><th scope=col>&lt;int&gt;</th></tr>\n",
       "</thead>\n",
       "<tbody>\n",
       "\t<tr><td>5</td></tr>\n",
       "</tbody>\n",
       "</table>\n"
      ],
      "text/latex": [
       "A tibble: 1 × 1\n",
       "\\begin{tabular}{l}\n",
       " Month\\\\\n",
       " <int>\\\\\n",
       "\\hline\n",
       "\t 5\\\\\n",
       "\\end{tabular}\n"
      ],
      "text/markdown": [
       "\n",
       "A tibble: 1 × 1\n",
       "\n",
       "| Month &lt;int&gt; |\n",
       "|---|\n",
       "| 5 |\n",
       "\n"
      ],
      "text/plain": [
       "  Month\n",
       "1 5    "
      ]
     },
     "metadata": {},
     "output_type": "display_data"
    }
   ],
   "source": [
    "fix_missing_solar_R(airq_tbl[5,])"
   ]
  },
  {
   "cell_type": "markdown",
   "id": "bf87f9e0",
   "metadata": {},
   "source": [
    "I know this isnt exactly what we want but I think im having  issues indexing a list (where the line has been commented)"
   ]
  },
  {
   "cell_type": "code",
   "execution_count": 234,
   "id": "34a8dbf7",
   "metadata": {},
   "outputs": [],
   "source": [
    "#airq_tbl$Solar.R=apply(airq_tbl$Solar.R ,1,  fix_missing_solar_R, simplify=TRUE)"
   ]
  }
 ],
 "metadata": {
  "kernelspec": {
   "display_name": "R",
   "language": "R",
   "name": "ir"
  },
  "language_info": {
   "codemirror_mode": "r",
   "file_extension": ".r",
   "mimetype": "text/x-r-source",
   "name": "R",
   "pygments_lexer": "r",
   "version": "4.2.1"
  }
 },
 "nbformat": 4,
 "nbformat_minor": 5
}
