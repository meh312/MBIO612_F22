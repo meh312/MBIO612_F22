{
 "cells": [
  {
   "cell_type": "code",
   "execution_count": 9,
   "id": "28055222",
   "metadata": {},
   "outputs": [
    {
     "data": {
      "text/html": [
       "<ol>\n",
       "\t<li><table class=\"dataframe\">\n",
       "<caption>A matrix: 2 × 2 of type int</caption>\n",
       "<tbody>\n",
       "\t<tr><td>1</td><td>3</td></tr>\n",
       "\t<tr><td>2</td><td>4</td></tr>\n",
       "</tbody>\n",
       "</table>\n",
       "</li>\n",
       "\t<li><table class=\"dataframe\">\n",
       "<caption>A matrix: 4 × 3 of type int</caption>\n",
       "<tbody>\n",
       "\t<tr><td>6</td><td>10</td><td>14</td></tr>\n",
       "\t<tr><td>7</td><td>11</td><td>15</td></tr>\n",
       "\t<tr><td>8</td><td>12</td><td>16</td></tr>\n",
       "\t<tr><td>9</td><td>13</td><td>17</td></tr>\n",
       "</tbody>\n",
       "</table>\n",
       "</li>\n",
       "\t<li><table class=\"dataframe\">\n",
       "<caption>A matrix: 3 × 3 of type int</caption>\n",
       "<tbody>\n",
       "\t<tr><td>3</td><td> 4</td><td> 5</td></tr>\n",
       "\t<tr><td>6</td><td> 7</td><td> 8</td></tr>\n",
       "\t<tr><td>9</td><td>10</td><td>11</td></tr>\n",
       "</tbody>\n",
       "</table>\n",
       "</li>\n",
       "</ol>\n"
      ],
      "text/latex": [
       "\\begin{enumerate}\n",
       "\\item A matrix: 2 × 2 of type int\n",
       "\\begin{tabular}{ll}\n",
       "\t 1 & 3\\\\\n",
       "\t 2 & 4\\\\\n",
       "\\end{tabular}\n",
       "\n",
       "\\item A matrix: 4 × 3 of type int\n",
       "\\begin{tabular}{lll}\n",
       "\t 6 & 10 & 14\\\\\n",
       "\t 7 & 11 & 15\\\\\n",
       "\t 8 & 12 & 16\\\\\n",
       "\t 9 & 13 & 17\\\\\n",
       "\\end{tabular}\n",
       "\n",
       "\\item A matrix: 3 × 3 of type int\n",
       "\\begin{tabular}{lll}\n",
       "\t 3 &  4 &  5\\\\\n",
       "\t 6 &  7 &  8\\\\\n",
       "\t 9 & 10 & 11\\\\\n",
       "\\end{tabular}\n",
       "\n",
       "\\end{enumerate}\n"
      ],
      "text/markdown": [
       "1. \n",
       "A matrix: 2 × 2 of type int\n",
       "\n",
       "| 1 | 3 |\n",
       "| 2 | 4 |\n",
       "\n",
       "\n",
       "2. \n",
       "A matrix: 4 × 3 of type int\n",
       "\n",
       "| 6 | 10 | 14 |\n",
       "| 7 | 11 | 15 |\n",
       "| 8 | 12 | 16 |\n",
       "| 9 | 13 | 17 |\n",
       "\n",
       "\n",
       "3. \n",
       "A matrix: 3 × 3 of type int\n",
       "\n",
       "| 3 |  4 |  5 |\n",
       "| 6 |  7 |  8 |\n",
       "| 9 | 10 | 11 |\n",
       "\n",
       "\n",
       "\n",
       "\n"
      ],
      "text/plain": [
       "[[1]]\n",
       "     [,1] [,2]\n",
       "[1,]    1    3\n",
       "[2,]    2    4\n",
       "\n",
       "[[2]]\n",
       "     [,1] [,2] [,3]\n",
       "[1,]    6   10   14\n",
       "[2,]    7   11   15\n",
       "[3,]    8   12   16\n",
       "[4,]    9   13   17\n",
       "\n",
       "[[3]]\n",
       "     [,1] [,2] [,3]\n",
       "[1,]    3    4    5\n",
       "[2,]    6    7    8\n",
       "[3,]    9   10   11\n"
      ]
     },
     "metadata": {},
     "output_type": "display_data"
    }
   ],
   "source": [
    "some_list = list(matrix(1:4, nrow=2), matrix(6:17, nrow=4), matrix(3:11, ncol=3, byrow=TRUE))\n",
    "some_list"
   ]
  },
  {
   "cell_type": "code",
   "execution_count": 11,
   "id": "3bfd4339",
   "metadata": {},
   "outputs": [
    {
     "data": {
      "text/html": [
       "<ol>\n",
       "\t<li>1</li>\n",
       "\t<li>6</li>\n",
       "\t<li>3</li>\n",
       "</ol>\n"
      ],
      "text/latex": [
       "\\begin{enumerate}\n",
       "\\item 1\n",
       "\\item 6\n",
       "\\item 3\n",
       "\\end{enumerate}\n"
      ],
      "text/markdown": [
       "1. 1\n",
       "2. 6\n",
       "3. 3\n",
       "\n",
       "\n"
      ],
      "text/plain": [
       "[[1]]\n",
       "[1] 1\n",
       "\n",
       "[[2]]\n",
       "[1] 6\n",
       "\n",
       "[[3]]\n",
       "[1] 3\n"
      ]
     },
     "metadata": {},
     "output_type": "display_data"
    },
    {
     "data": {
      "text/html": [
       "<ol>\n",
       "\t<li>4</li>\n",
       "\t<li>9</li>\n",
       "\t<li>4</li>\n",
       "</ol>\n"
      ],
      "text/latex": [
       "\\begin{enumerate}\n",
       "\\item 4\n",
       "\\item 9\n",
       "\\item 4\n",
       "\\end{enumerate}\n"
      ],
      "text/markdown": [
       "1. 4\n",
       "2. 9\n",
       "3. 4\n",
       "\n",
       "\n"
      ],
      "text/plain": [
       "[[1]]\n",
       "[1] 4\n",
       "\n",
       "[[2]]\n",
       "[1] 9\n",
       "\n",
       "[[3]]\n",
       "[1] 4\n"
      ]
     },
     "metadata": {},
     "output_type": "display_data"
    }
   ],
   "source": [
    "lapply(some_list, '[', 1)\n",
    "\n",
    "lapply(some_list, '[', 4)"
   ]
  },
  {
   "cell_type": "code",
   "execution_count": 10,
   "id": "23ed3a7f",
   "metadata": {},
   "outputs": [
    {
     "data": {
      "text/html": [
       "<ol>\n",
       "\t<li><table class=\"dataframe\">\n",
       "<caption>A matrix: 2 × 2 of type int</caption>\n",
       "<tbody>\n",
       "\t<tr><td>1</td><td>3</td></tr>\n",
       "\t<tr><td>2</td><td>4</td></tr>\n",
       "</tbody>\n",
       "</table>\n",
       "</li>\n",
       "\t<li><table class=\"dataframe\">\n",
       "<caption>A matrix: 4 × 3 of type int</caption>\n",
       "<tbody>\n",
       "\t<tr><td>6</td><td>10</td><td>14</td></tr>\n",
       "\t<tr><td>7</td><td>11</td><td>15</td></tr>\n",
       "\t<tr><td>8</td><td>12</td><td>16</td></tr>\n",
       "\t<tr><td>9</td><td>13</td><td>17</td></tr>\n",
       "</tbody>\n",
       "</table>\n",
       "</li>\n",
       "\t<li><table class=\"dataframe\">\n",
       "<caption>A matrix: 3 × 3 of type int</caption>\n",
       "<tbody>\n",
       "\t<tr><td>3</td><td> 4</td><td> 5</td></tr>\n",
       "\t<tr><td>6</td><td> 7</td><td> 8</td></tr>\n",
       "\t<tr><td>9</td><td>10</td><td>11</td></tr>\n",
       "</tbody>\n",
       "</table>\n",
       "</li>\n",
       "</ol>\n"
      ],
      "text/latex": [
       "\\begin{enumerate}\n",
       "\\item A matrix: 2 × 2 of type int\n",
       "\\begin{tabular}{ll}\n",
       "\t 1 & 3\\\\\n",
       "\t 2 & 4\\\\\n",
       "\\end{tabular}\n",
       "\n",
       "\\item A matrix: 4 × 3 of type int\n",
       "\\begin{tabular}{lll}\n",
       "\t 6 & 10 & 14\\\\\n",
       "\t 7 & 11 & 15\\\\\n",
       "\t 8 & 12 & 16\\\\\n",
       "\t 9 & 13 & 17\\\\\n",
       "\\end{tabular}\n",
       "\n",
       "\\item A matrix: 3 × 3 of type int\n",
       "\\begin{tabular}{lll}\n",
       "\t 3 &  4 &  5\\\\\n",
       "\t 6 &  7 &  8\\\\\n",
       "\t 9 & 10 & 11\\\\\n",
       "\\end{tabular}\n",
       "\n",
       "\\end{enumerate}\n"
      ],
      "text/markdown": [
       "1. \n",
       "A matrix: 2 × 2 of type int\n",
       "\n",
       "| 1 | 3 |\n",
       "| 2 | 4 |\n",
       "\n",
       "\n",
       "2. \n",
       "A matrix: 4 × 3 of type int\n",
       "\n",
       "| 6 | 10 | 14 |\n",
       "| 7 | 11 | 15 |\n",
       "| 8 | 12 | 16 |\n",
       "| 9 | 13 | 17 |\n",
       "\n",
       "\n",
       "3. \n",
       "A matrix: 3 × 3 of type int\n",
       "\n",
       "| 3 |  4 |  5 |\n",
       "| 6 |  7 |  8 |\n",
       "| 9 | 10 | 11 |\n",
       "\n",
       "\n",
       "\n",
       "\n"
      ],
      "text/plain": [
       "[[1]]\n",
       "     [,1] [,2]\n",
       "[1,]    1    3\n",
       "[2,]    2    4\n",
       "\n",
       "[[2]]\n",
       "     [,1] [,2] [,3]\n",
       "[1,]    6   10   14\n",
       "[2,]    7   11   15\n",
       "[3,]    8   12   16\n",
       "[4,]    9   13   17\n",
       "\n",
       "[[3]]\n",
       "     [,1] [,2] [,3]\n",
       "[1,]    3    4    5\n",
       "[2,]    6    7    8\n",
       "[3,]    9   10   11\n"
      ]
     },
     "metadata": {},
     "output_type": "display_data"
    }
   ],
   "source": [
    "some_list <- list(matrix(1:4, nrow=2), matrix(6:17, nrow=4), matrix(3:11, ncol=3, byrow=TRUE))\n",
    "some_list"
   ]
  },
  {
   "cell_type": "code",
   "execution_count": null,
   "id": "e6ae6ac2",
   "metadata": {},
   "outputs": [],
   "source": []
  }
 ],
 "metadata": {
  "kernelspec": {
   "display_name": "R",
   "language": "R",
   "name": "ir"
  },
  "language_info": {
   "codemirror_mode": "r",
   "file_extension": ".r",
   "mimetype": "text/x-r-source",
   "name": "R",
   "pygments_lexer": "r",
   "version": "4.2.1"
  }
 },
 "nbformat": 4,
 "nbformat_minor": 5
}
